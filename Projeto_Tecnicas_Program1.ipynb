{
  "cells": [
    {
      "cell_type": "code",
      "execution_count": 1,
      "metadata": {
        "colab": {
          "base_uri": "https://localhost:8080/"
        },
        "id": "12pigNuyXHtF",
        "outputId": "55fe0f35-4ba0-4468-ceb5-07511d9f6438"
      },
      "outputs": [],
      "source": [
        "# Impotação e instalação de Bibliotecas para modelagem dos dados\n",
        "\n",
        "# !pip install plotly\n",
        "# !pip install nbformat\n",
        "# !pip install --upgrade nbformat\n",
        "import pandas as pd\n",
        "import numpy as np\n",
        "import plotly.express as px\n",
        "import matplotlib.pyplot as plt\n"
      ]
    },
    {
      "cell_type": "code",
      "execution_count": 2,
      "metadata": {
        "colab": {
          "base_uri": "https://localhost:8080/",
          "height": 424
        },
        "id": "dNu2QklAcLLu",
        "outputId": "7abd8cc0-4d87-48fe-e00e-39cc62aa9175"
      },
      "outputs": [
        {
          "data": {
            "text/html": [
              "<div>\n",
              "<style scoped>\n",
              "    .dataframe tbody tr th:only-of-type {\n",
              "        vertical-align: middle;\n",
              "    }\n",
              "\n",
              "    .dataframe tbody tr th {\n",
              "        vertical-align: top;\n",
              "    }\n",
              "\n",
              "    .dataframe thead th {\n",
              "        text-align: right;\n",
              "    }\n",
              "</style>\n",
              "<table border=\"1\" class=\"dataframe\">\n",
              "  <thead>\n",
              "    <tr style=\"text-align: right;\">\n",
              "      <th></th>\n",
              "      <th>Data</th>\n",
              "      <th>Classe</th>\n",
              "      <th>Ramo</th>\n",
              "      <th>Submercado</th>\n",
              "      <th>UF</th>\n",
              "      <th>Consumo</th>\n",
              "      <th>Covid</th>\n",
              "    </tr>\n",
              "  </thead>\n",
              "  <tbody>\n",
              "    <tr>\n",
              "      <th>0</th>\n",
              "      <td>01/07/2018</td>\n",
              "      <td>Autoprodutor</td>\n",
              "      <td>ALIMENTÍCIOS</td>\n",
              "      <td>NORDESTE</td>\n",
              "      <td>PE</td>\n",
              "      <td>0.01</td>\n",
              "      <td>0</td>\n",
              "    </tr>\n",
              "    <tr>\n",
              "      <th>1</th>\n",
              "      <td>01/07/2018</td>\n",
              "      <td>Autoprodutor</td>\n",
              "      <td>ALIMENTÍCIOS</td>\n",
              "      <td>SUDESTE / CENTRO-OESTE</td>\n",
              "      <td>MG</td>\n",
              "      <td>0.00</td>\n",
              "      <td>0</td>\n",
              "    </tr>\n",
              "    <tr>\n",
              "      <th>2</th>\n",
              "      <td>01/07/2018</td>\n",
              "      <td>Autoprodutor</td>\n",
              "      <td>ALIMENTÍCIOS</td>\n",
              "      <td>SUDESTE / CENTRO-OESTE</td>\n",
              "      <td>MT</td>\n",
              "      <td>0.68</td>\n",
              "      <td>0</td>\n",
              "    </tr>\n",
              "    <tr>\n",
              "      <th>3</th>\n",
              "      <td>01/07/2018</td>\n",
              "      <td>Autoprodutor</td>\n",
              "      <td>ALIMENTÍCIOS</td>\n",
              "      <td>SUL</td>\n",
              "      <td>SC</td>\n",
              "      <td>1.88</td>\n",
              "      <td>0</td>\n",
              "    </tr>\n",
              "    <tr>\n",
              "      <th>4</th>\n",
              "      <td>01/07/2018</td>\n",
              "      <td>Autoprodutor</td>\n",
              "      <td>ALIMENTÍCIOS</td>\n",
              "      <td>SUL</td>\n",
              "      <td>RS</td>\n",
              "      <td>0.04</td>\n",
              "      <td>0</td>\n",
              "    </tr>\n",
              "    <tr>\n",
              "      <th>...</th>\n",
              "      <td>...</td>\n",
              "      <td>...</td>\n",
              "      <td>...</td>\n",
              "      <td>...</td>\n",
              "      <td>...</td>\n",
              "      <td>...</td>\n",
              "      <td>...</td>\n",
              "    </tr>\n",
              "    <tr>\n",
              "      <th>418606</th>\n",
              "      <td>19/06/2020</td>\n",
              "      <td>Distribuidor</td>\n",
              "      <td>ACR</td>\n",
              "      <td>SUDESTE / CENTRO-OESTE</td>\n",
              "      <td>DF</td>\n",
              "      <td>689.19</td>\n",
              "      <td>1</td>\n",
              "    </tr>\n",
              "    <tr>\n",
              "      <th>418607</th>\n",
              "      <td>19/06/2020</td>\n",
              "      <td>Distribuidor</td>\n",
              "      <td>ACR</td>\n",
              "      <td>SUDESTE / CENTRO-OESTE</td>\n",
              "      <td>AC</td>\n",
              "      <td>121.34</td>\n",
              "      <td>1</td>\n",
              "    </tr>\n",
              "    <tr>\n",
              "      <th>418608</th>\n",
              "      <td>19/06/2020</td>\n",
              "      <td>Distribuidor</td>\n",
              "      <td>ACR</td>\n",
              "      <td>SUL</td>\n",
              "      <td>SC</td>\n",
              "      <td>2012.83</td>\n",
              "      <td>1</td>\n",
              "    </tr>\n",
              "    <tr>\n",
              "      <th>418609</th>\n",
              "      <td>19/06/2020</td>\n",
              "      <td>Distribuidor</td>\n",
              "      <td>ACR</td>\n",
              "      <td>SUL</td>\n",
              "      <td>RS</td>\n",
              "      <td>2310.67</td>\n",
              "      <td>1</td>\n",
              "    </tr>\n",
              "    <tr>\n",
              "      <th>418610</th>\n",
              "      <td>19/06/2020</td>\n",
              "      <td>Distribuidor</td>\n",
              "      <td>ACR</td>\n",
              "      <td>SUL</td>\n",
              "      <td>PR</td>\n",
              "      <td>2443.64</td>\n",
              "      <td>1</td>\n",
              "    </tr>\n",
              "  </tbody>\n",
              "</table>\n",
              "<p>418611 rows × 7 columns</p>\n",
              "</div>"
            ],
            "text/plain": [
              "              Data        Classe          Ramo              Submercado   UF  \\\n",
              "0       01/07/2018  Autoprodutor  ALIMENTÍCIOS                NORDESTE  PE    \n",
              "1       01/07/2018  Autoprodutor  ALIMENTÍCIOS  SUDESTE / CENTRO-OESTE   MG   \n",
              "2       01/07/2018  Autoprodutor  ALIMENTÍCIOS  SUDESTE / CENTRO-OESTE   MT   \n",
              "3       01/07/2018  Autoprodutor  ALIMENTÍCIOS                     SUL   SC   \n",
              "4       01/07/2018  Autoprodutor  ALIMENTÍCIOS                     SUL   RS   \n",
              "...            ...           ...           ...                     ...  ...   \n",
              "418606  19/06/2020  Distribuidor           ACR  SUDESTE / CENTRO-OESTE  DF    \n",
              "418607  19/06/2020  Distribuidor           ACR  SUDESTE / CENTRO-OESTE   AC   \n",
              "418608  19/06/2020  Distribuidor           ACR                     SUL   SC   \n",
              "418609  19/06/2020  Distribuidor           ACR                     SUL   RS   \n",
              "418610  19/06/2020  Distribuidor           ACR                     SUL   PR   \n",
              "\n",
              "        Consumo  Covid  \n",
              "0          0.01      0  \n",
              "1          0.00      0  \n",
              "2          0.68      0  \n",
              "3          1.88      0  \n",
              "4          0.04      0  \n",
              "...         ...    ...  \n",
              "418606   689.19      1  \n",
              "418607   121.34      1  \n",
              "418608  2012.83      1  \n",
              "418609  2310.67      1  \n",
              "418610  2443.64      1  \n",
              "\n",
              "[418611 rows x 7 columns]"
            ]
          },
          "execution_count": 2,
          "metadata": {},
          "output_type": "execute_result"
        }
      ],
      "source": [
        "# Leitura e visualização das bases de dados\n",
        "from zipfile import ZipFile\n",
        "  \n",
        "# loading the temp.zip and creating a zip object\n",
        "with ZipFile(\"CCEE_BR_Data.csv.zip\", 'r') as zObject:\n",
        "  \n",
        "    # Extracting all the members of the zip \n",
        "    # into a specific location.\n",
        "    zObject.extractall(\n",
        "        path=\"\")\n",
        "\n",
        "table = pd.read_csv('CCEE_BR_Data.csv', encoding='UTF-8')\n",
        "table"
      ]
    },
    {
      "cell_type": "code",
      "execution_count": 3,
      "metadata": {
        "colab": {
          "base_uri": "https://localhost:8080/"
        },
        "id": "mWl6o7G2b9O9",
        "outputId": "dfa48798-729a-43f5-b326-7888d933b7b1"
      },
      "outputs": [
        {
          "name": "stdout",
          "output_type": "stream",
          "text": [
            "QUANTIDADE DE LINHAS: 418611\n",
            "\n",
            "QUANTIDADE DE COLUNAS: 7\n"
          ]
        }
      ],
      "source": [
        "# Especificação do número de linhas e colunas da tabela\n",
        "\n",
        "print(f'QUANTIDADE DE LINHAS: {table.shape[0]}\\n')\n",
        "print(f'QUANTIDADE DE COLUNAS: {table.shape[1]}')"
      ]
    },
    {
      "cell_type": "code",
      "execution_count": 4,
      "metadata": {
        "colab": {
          "base_uri": "https://localhost:8080/"
        },
        "id": "MV5f-fvJYn9L",
        "outputId": "493c7a27-84d3-4e63-b549-3e0d63407dbb"
      },
      "outputs": [
        {
          "name": "stdout",
          "output_type": "stream",
          "text": [
            "<class 'pandas.core.frame.DataFrame'>\n",
            "RangeIndex: 418611 entries, 0 to 418610\n",
            "Data columns (total 7 columns):\n",
            " #   Column      Non-Null Count   Dtype  \n",
            "---  ------      --------------   -----  \n",
            " 0   Data        418611 non-null  object \n",
            " 1   Classe      418611 non-null  object \n",
            " 2   Ramo        418611 non-null  object \n",
            " 3   Submercado  418611 non-null  object \n",
            " 4   UF          418611 non-null  object \n",
            " 5   Consumo     418611 non-null  float64\n",
            " 6   Covid       418611 non-null  int64  \n",
            "dtypes: float64(1), int64(1), object(5)\n",
            "memory usage: 22.4+ MB\n"
          ]
        }
      ],
      "source": [
        "# Tipos de variáveis de cada coluna e quantidade de valores não-nulos da base geral\n",
        "\n",
        "table.info()"
      ]
    },
    {
      "cell_type": "code",
      "execution_count": 5,
      "metadata": {
        "colab": {
          "base_uri": "https://localhost:8080/"
        },
        "id": "O_jTLmUAgEX1",
        "outputId": "59116799-f198-4904-cf7f-cb27bfd8f031"
      },
      "outputs": [
        {
          "data": {
            "text/plain": [
              "Data          0\n",
              "Classe        0\n",
              "Ramo          0\n",
              "Submercado    0\n",
              "UF            0\n",
              "Consumo       0\n",
              "Covid         0\n",
              "dtype: int64"
            ]
          },
          "execution_count": 5,
          "metadata": {},
          "output_type": "execute_result"
        }
      ],
      "source": [
        "# Quantidade de dados nulos em cada coluna da base geral\n",
        "\n",
        "table.isnull().sum()"
      ]
    },
    {
      "cell_type": "code",
      "execution_count": 6,
      "metadata": {
        "colab": {
          "base_uri": "https://localhost:8080/",
          "height": 300
        },
        "id": "bz72HtE0dNeg",
        "outputId": "cccf8286-6011-40f2-fa89-1c8e452448a7"
      },
      "outputs": [
        {
          "data": {
            "text/html": [
              "<div>\n",
              "<style scoped>\n",
              "    .dataframe tbody tr th:only-of-type {\n",
              "        vertical-align: middle;\n",
              "    }\n",
              "\n",
              "    .dataframe tbody tr th {\n",
              "        vertical-align: top;\n",
              "    }\n",
              "\n",
              "    .dataframe thead th {\n",
              "        text-align: right;\n",
              "    }\n",
              "</style>\n",
              "<table border=\"1\" class=\"dataframe\">\n",
              "  <thead>\n",
              "    <tr style=\"text-align: right;\">\n",
              "      <th></th>\n",
              "      <th>Consumo</th>\n",
              "      <th>Covid</th>\n",
              "    </tr>\n",
              "  </thead>\n",
              "  <tbody>\n",
              "    <tr>\n",
              "      <th>count</th>\n",
              "      <td>418611.000000</td>\n",
              "      <td>418611.000000</td>\n",
              "    </tr>\n",
              "    <tr>\n",
              "      <th>mean</th>\n",
              "      <td>106.361081</td>\n",
              "      <td>0.130080</td>\n",
              "    </tr>\n",
              "    <tr>\n",
              "      <th>std</th>\n",
              "      <td>580.168023</td>\n",
              "      <td>0.336392</td>\n",
              "    </tr>\n",
              "    <tr>\n",
              "      <th>min</th>\n",
              "      <td>0.000000</td>\n",
              "      <td>0.000000</td>\n",
              "    </tr>\n",
              "    <tr>\n",
              "      <th>25%</th>\n",
              "      <td>1.620000</td>\n",
              "      <td>0.000000</td>\n",
              "    </tr>\n",
              "    <tr>\n",
              "      <th>50%</th>\n",
              "      <td>6.720000</td>\n",
              "      <td>0.000000</td>\n",
              "    </tr>\n",
              "    <tr>\n",
              "      <th>75%</th>\n",
              "      <td>30.255000</td>\n",
              "      <td>0.000000</td>\n",
              "    </tr>\n",
              "    <tr>\n",
              "      <th>max</th>\n",
              "      <td>14173.800000</td>\n",
              "      <td>1.000000</td>\n",
              "    </tr>\n",
              "  </tbody>\n",
              "</table>\n",
              "</div>"
            ],
            "text/plain": [
              "             Consumo          Covid\n",
              "count  418611.000000  418611.000000\n",
              "mean      106.361081       0.130080\n",
              "std       580.168023       0.336392\n",
              "min         0.000000       0.000000\n",
              "25%         1.620000       0.000000\n",
              "50%         6.720000       0.000000\n",
              "75%        30.255000       0.000000\n",
              "max     14173.800000       1.000000"
            ]
          },
          "execution_count": 6,
          "metadata": {},
          "output_type": "execute_result"
        }
      ],
      "source": [
        "# Métricas estatísticas da tabela geral\n",
        "\n",
        "table.describe()"
      ]
    },
    {
      "cell_type": "code",
      "execution_count": 7,
      "metadata": {
        "colab": {
          "base_uri": "https://localhost:8080/"
        },
        "id": "aznZi7TPexki",
        "outputId": "fe059224-8bbe-4fd4-c18c-70a8be485098"
      },
      "outputs": [
        {
          "data": {
            "text/plain": [
              "['Autoprodutor',\n",
              " 'Comercializador Varejista',\n",
              " 'Consumidor Especial',\n",
              " 'Consumidor Livre',\n",
              " 'Distribuidor',\n",
              " 'Exportador']"
            ]
          },
          "execution_count": 7,
          "metadata": {},
          "output_type": "execute_result"
        }
      ],
      "source": [
        "# Lista das classes de consumidores de energia\n",
        "\n",
        "table['Classe'].unique().tolist()"
      ]
    },
    {
      "cell_type": "code",
      "execution_count": 8,
      "metadata": {
        "colab": {
          "base_uri": "https://localhost:8080/"
        },
        "id": "tRDXfns7feKc",
        "outputId": "898b5820-c232-4b2b-9c42-4fa29f12bc54"
      },
      "outputs": [
        {
          "data": {
            "text/plain": [
              "['ALIMENTÍCIOS',\n",
              " 'COMÉRCIO',\n",
              " 'EXTRAÇÃO DE MINERAIS METÁLICOS',\n",
              " 'MADEIRA PAPEL E CELULOSE',\n",
              " 'MANUFATURADOS DIVERSOS',\n",
              " 'METALURGIA E PRODUTOS DE METAL',\n",
              " 'MINERAIS NÃO-METÁLICOS',\n",
              " 'QUÍMICOS',\n",
              " 'SERVIÇOS',\n",
              " 'TÊXTEIS',\n",
              " 'BEBIDAS',\n",
              " 'SANEAMENTO',\n",
              " 'TELECOMUNICAÇÕES',\n",
              " 'TRANSPORTE',\n",
              " 'VEÍCULOS',\n",
              " 'ACR']"
            ]
          },
          "execution_count": 8,
          "metadata": {},
          "output_type": "execute_result"
        }
      ],
      "source": [
        "# Lista dos Ramos de consumidores de energia\n",
        "\n",
        "table['Ramo'].unique().tolist()"
      ]
    },
    {
      "cell_type": "code",
      "execution_count": 9,
      "metadata": {
        "colab": {
          "base_uri": "https://localhost:8080/"
        },
        "id": "SmDqngDpgaRc",
        "outputId": "650236c1-09a2-4ee0-91c2-5af65f36953a"
      },
      "outputs": [
        {
          "data": {
            "text/plain": [
              "['NORDESTE', 'SUDESTE / CENTRO-OESTE', 'SUL', 'NORTE']"
            ]
          },
          "execution_count": 9,
          "metadata": {},
          "output_type": "execute_result"
        }
      ],
      "source": [
        "# Lista das submercados consumidores de energia\n",
        "\n",
        "table['Submercado'].unique().tolist()"
      ]
    },
    {
      "cell_type": "code",
      "execution_count": 10,
      "metadata": {
        "colab": {
          "base_uri": "https://localhost:8080/"
        },
        "id": "GexaDKvldSxF",
        "outputId": "ab9aa26b-3d7d-4b7e-c919-d03729e43ccd"
      },
      "outputs": [
        {
          "data": {
            "text/plain": [
              "Ramo\n",
              "ACR                               31044454.43\n",
              "METALURGIA E PRODUTOS DE METAL     3375629.15\n",
              "QUÍMICOS                           1411042.58\n",
              "Name: Consumo, dtype: float64"
            ]
          },
          "execution_count": 10,
          "metadata": {},
          "output_type": "execute_result"
        }
      ],
      "source": [
        "# Top 3 maiores Ramos Consumidores de Energia\n",
        "\n",
        "table.groupby('Ramo')['Consumo'].sum().nlargest(3)"
      ]
    },
    {
      "cell_type": "code",
      "execution_count": 11,
      "metadata": {
        "colab": {
          "base_uri": "https://localhost:8080/"
        },
        "id": "iPn_RHgSgwkR",
        "outputId": "333ed71b-09c0-4dc0-ea1c-04b4157a3732"
      },
      "outputs": [
        {
          "data": {
            "text/plain": [
              "UF\n",
              "AC        88930.69\n",
              "AP       153841.11\n",
              "TO       224248.34\n",
              "RO       322593.60\n",
              "SE       339587.65\n",
              "PI       391059.73\n",
              "AL       407784.71\n",
              "MS       509103.34\n",
              "PB       517163.06\n",
              "RN       522526.78\n",
              "DF       593988.01\n",
              "MA       720995.25\n",
              "AM       753955.16\n",
              "MT       803951.18\n",
              "ES      1026721.42\n",
              "CE      1158800.26\n",
              "PE      1417378.47\n",
              "GO      1486370.87\n",
              "PA      1725883.96\n",
              "SC      2263545.92\n",
              "BA      2447270.38\n",
              "RS      2761001.32\n",
              "PR      2790061.68\n",
              "RJ      4154876.09\n",
              "MG      5072253.44\n",
              "SP     11870026.25\n",
              "Name: Consumo, dtype: float64"
            ]
          },
          "execution_count": 11,
          "metadata": {},
          "output_type": "execute_result"
        }
      ],
      "source": [
        "# Consumo de Energia agrupado por estado (Jul/2018 - Jun/2020)\n",
        "\n",
        "table.groupby('UF')['Consumo'].sum().sort_values(ascending=True)"
      ]
    },
    {
      "cell_type": "code",
      "execution_count": 12,
      "metadata": {
        "colab": {
          "base_uri": "https://localhost:8080/"
        },
        "id": "3QvkcXXZg5Z5",
        "outputId": "aaad5863-aa7f-49c2-a720-4380abc35dc6"
      },
      "outputs": [
        {
          "data": {
            "text/plain": [
              "UF\n",
              "SP     11870026.25\n",
              "MG      5072253.44\n",
              "RJ      4154876.09\n",
              "PR      2790061.68\n",
              "RS      2761001.32\n",
              "BA      2447270.38\n",
              "SC      2263545.92\n",
              "PA      1725883.96\n",
              "GO      1486370.87\n",
              "PE      1417378.47\n",
              "Name: Consumo, dtype: float64"
            ]
          },
          "execution_count": 12,
          "metadata": {},
          "output_type": "execute_result"
        }
      ],
      "source": [
        "# Top 10 maiores Estados Consumidores de Energia (Jul/2018 - Jun/2020)\n",
        "\n",
        "table_top10 = table.groupby('UF')['Consumo'].sum().nlargest(10)\n",
        "table_top10"
      ]
    },
    {
      "cell_type": "code",
      "execution_count": 13,
      "metadata": {
        "colab": {
          "base_uri": "https://localhost:8080/",
          "height": 621
        },
        "id": "8tbK_Y1zjSYU",
        "outputId": "10bb5065-8fb5-4c72-a146-732d9016a2f8"
      },
      "outputs": [
        {
          "data": {
            "image/png": "[encoded data removed]",
            "text/plain": [
              "<Figure size 1700x1000 with 1 Axes>"
            ]
          },
          "metadata": {},
          "output_type": "display_data"
        }
      ],
      "source": [
        "# Visualização Gráfica dos 10 maiores Estados Consumidores de Energia (Jul/2018 - Jun/2020)\n",
        "\n",
        "table_top10_bar = table_top10.plot(kind='bar', rot=0, xlabel='Estados', \n",
        "                                   ylabel='Consumo de Energia (MWm)',\n",
        "    title='Os 10 Maiores Estados Consumidores de Energia (Jul/2018 - Jun/2020)', \n",
        "    figsize=(17,10))"
      ]
    },
    {
      "cell_type": "code",
      "execution_count": 14,
      "metadata": {
        "colab": {
          "base_uri": "https://localhost:8080/",
          "height": 424
        },
        "id": "x8NCFOa7Yr2i",
        "outputId": "d0777912-f627-4077-b4c3-70740787d834"
      },
      "outputs": [
        {
          "data": {
            "text/html": [
              "<div>\n",
              "<style scoped>\n",
              "    .dataframe tbody tr th:only-of-type {\n",
              "        vertical-align: middle;\n",
              "    }\n",
              "\n",
              "    .dataframe tbody tr th {\n",
              "        vertical-align: top;\n",
              "    }\n",
              "\n",
              "    .dataframe thead th {\n",
              "        text-align: right;\n",
              "    }\n",
              "</style>\n",
              "<table border=\"1\" class=\"dataframe\">\n",
              "  <thead>\n",
              "    <tr style=\"text-align: right;\">\n",
              "      <th></th>\n",
              "      <th>Data</th>\n",
              "      <th>Classe</th>\n",
              "      <th>Ramo</th>\n",
              "      <th>Submercado</th>\n",
              "      <th>UF</th>\n",
              "      <th>MWm</th>\n",
              "    </tr>\n",
              "  </thead>\n",
              "  <tbody>\n",
              "    <tr>\n",
              "      <th>102670</th>\n",
              "      <td>2019</td>\n",
              "      <td>Autoprodutor</td>\n",
              "      <td>ALIMENTÍCIOS</td>\n",
              "      <td>NORDESTE</td>\n",
              "      <td>PE</td>\n",
              "      <td>0.01</td>\n",
              "    </tr>\n",
              "    <tr>\n",
              "      <th>102671</th>\n",
              "      <td>2019</td>\n",
              "      <td>Autoprodutor</td>\n",
              "      <td>ALIMENTÍCIOS</td>\n",
              "      <td>SUDESTE / CENTRO-OESTE</td>\n",
              "      <td>MG</td>\n",
              "      <td>0.24</td>\n",
              "    </tr>\n",
              "    <tr>\n",
              "      <th>102672</th>\n",
              "      <td>2019</td>\n",
              "      <td>Autoprodutor</td>\n",
              "      <td>ALIMENTÍCIOS</td>\n",
              "      <td>SUDESTE / CENTRO-OESTE</td>\n",
              "      <td>MT</td>\n",
              "      <td>0.19</td>\n",
              "    </tr>\n",
              "    <tr>\n",
              "      <th>102673</th>\n",
              "      <td>2019</td>\n",
              "      <td>Autoprodutor</td>\n",
              "      <td>ALIMENTÍCIOS</td>\n",
              "      <td>SUL</td>\n",
              "      <td>SC</td>\n",
              "      <td>0.15</td>\n",
              "    </tr>\n",
              "    <tr>\n",
              "      <th>102674</th>\n",
              "      <td>2019</td>\n",
              "      <td>Autoprodutor</td>\n",
              "      <td>ALIMENTÍCIOS</td>\n",
              "      <td>SUL</td>\n",
              "      <td>RS</td>\n",
              "      <td>0.11</td>\n",
              "    </tr>\n",
              "    <tr>\n",
              "      <th>...</th>\n",
              "      <td>...</td>\n",
              "      <td>...</td>\n",
              "      <td>...</td>\n",
              "      <td>...</td>\n",
              "      <td>...</td>\n",
              "      <td>...</td>\n",
              "    </tr>\n",
              "    <tr>\n",
              "      <th>312631</th>\n",
              "      <td>2019</td>\n",
              "      <td>Distribuidor</td>\n",
              "      <td>ACR</td>\n",
              "      <td>SUL</td>\n",
              "      <td>SC</td>\n",
              "      <td>2345.76</td>\n",
              "    </tr>\n",
              "    <tr>\n",
              "      <th>312632</th>\n",
              "      <td>2019</td>\n",
              "      <td>Distribuidor</td>\n",
              "      <td>ACR</td>\n",
              "      <td>SUL</td>\n",
              "      <td>RS</td>\n",
              "      <td>3569.17</td>\n",
              "    </tr>\n",
              "    <tr>\n",
              "      <th>312633</th>\n",
              "      <td>2019</td>\n",
              "      <td>Distribuidor</td>\n",
              "      <td>ACR</td>\n",
              "      <td>SUL</td>\n",
              "      <td>PR</td>\n",
              "      <td>2698.92</td>\n",
              "    </tr>\n",
              "    <tr>\n",
              "      <th>312634</th>\n",
              "      <td>2019</td>\n",
              "      <td>Exportador</td>\n",
              "      <td>SERVIÇOS</td>\n",
              "      <td>SUL</td>\n",
              "      <td>SC</td>\n",
              "      <td>0.00</td>\n",
              "    </tr>\n",
              "    <tr>\n",
              "      <th>312635</th>\n",
              "      <td>2019</td>\n",
              "      <td>Exportador</td>\n",
              "      <td>SERVIÇOS</td>\n",
              "      <td>SUL</td>\n",
              "      <td>RS</td>\n",
              "      <td>0.00</td>\n",
              "    </tr>\n",
              "  </tbody>\n",
              "</table>\n",
              "<p>209966 rows × 6 columns</p>\n",
              "</div>"
            ],
            "text/plain": [
              "        Data        Classe          Ramo              Submercado   UF      MWm\n",
              "102670  2019  Autoprodutor  ALIMENTÍCIOS                NORDESTE  PE      0.01\n",
              "102671  2019  Autoprodutor  ALIMENTÍCIOS  SUDESTE / CENTRO-OESTE   MG     0.24\n",
              "102672  2019  Autoprodutor  ALIMENTÍCIOS  SUDESTE / CENTRO-OESTE   MT     0.19\n",
              "102673  2019  Autoprodutor  ALIMENTÍCIOS                     SUL   SC     0.15\n",
              "102674  2019  Autoprodutor  ALIMENTÍCIOS                     SUL   RS     0.11\n",
              "...      ...           ...           ...                     ...  ...      ...\n",
              "312631  2019  Distribuidor           ACR                     SUL   SC  2345.76\n",
              "312632  2019  Distribuidor           ACR                     SUL   RS  3569.17\n",
              "312633  2019  Distribuidor           ACR                     SUL   PR  2698.92\n",
              "312634  2019    Exportador      SERVIÇOS                     SUL   SC     0.00\n",
              "312635  2019    Exportador      SERVIÇOS                     SUL   RS     0.00\n",
              "\n",
              "[209966 rows x 6 columns]"
            ]
          },
          "execution_count": 14,
          "metadata": {},
          "output_type": "execute_result"
        }
      ],
      "source": [
        "table.drop(columns='Covid', inplace=True)\n",
        "table.rename(columns={'Consumo':'MWm'}, inplace=True)\n",
        "table['Data'] = pd.to_datetime(table['Data'], format='%d/%m/%Y').dt.year\n",
        "table_2019 = table.loc[(table['Data'] == 2019)]\n",
        "table_2019"
      ]
    },
    {
      "cell_type": "code",
      "execution_count": 15,
      "metadata": {
        "colab": {
          "base_uri": "https://localhost:8080/",
          "height": 269
        },
        "id": "XD_UwGRtYwvS",
        "outputId": "9891a617-0b0c-47a3-fa64-2f2a9ff13db3"
      },
      "outputs": [
        {
          "data": {
            "text/html": [
              "<div>\n",
              "<style scoped>\n",
              "    .dataframe tbody tr th:only-of-type {\n",
              "        vertical-align: middle;\n",
              "    }\n",
              "\n",
              "    .dataframe tbody tr th {\n",
              "        vertical-align: top;\n",
              "    }\n",
              "\n",
              "    .dataframe thead th {\n",
              "        text-align: right;\n",
              "    }\n",
              "</style>\n",
              "<table border=\"1\" class=\"dataframe\">\n",
              "  <thead>\n",
              "    <tr style=\"text-align: right;\">\n",
              "      <th></th>\n",
              "      <th>Data</th>\n",
              "      <th>Ramo</th>\n",
              "      <th>Submercado</th>\n",
              "      <th>UF</th>\n",
              "      <th>MWm</th>\n",
              "    </tr>\n",
              "    <tr>\n",
              "      <th>Classe</th>\n",
              "      <th></th>\n",
              "      <th></th>\n",
              "      <th></th>\n",
              "      <th></th>\n",
              "      <th></th>\n",
              "    </tr>\n",
              "  </thead>\n",
              "  <tbody>\n",
              "    <tr>\n",
              "      <th>Distribuidor</th>\n",
              "      <td>{2019}</td>\n",
              "      <td>{ACR}</td>\n",
              "      <td>{SUDESTE / CENTRO-OESTE, NORDESTE, SUL, NORTE}</td>\n",
              "      <td>{BA , DF , RO, SP, MA, AC, AP, MS, PA, TO, AM,...</td>\n",
              "      <td>1.581386e+07</td>\n",
              "    </tr>\n",
              "    <tr>\n",
              "      <th>Consumidor Livre</th>\n",
              "      <td>{2019}</td>\n",
              "      <td>{QUÍMICOS, EXTRAÇÃO DE MINERAIS METÁLICOS, SER...</td>\n",
              "      <td>{SUDESTE / CENTRO-OESTE, NORDESTE, SUL, NORTE}</td>\n",
              "      <td>{BA , DF , RO, SP, MA, MS, PA, TO, PE , AM, RN...</td>\n",
              "      <td>3.400625e+06</td>\n",
              "    </tr>\n",
              "    <tr>\n",
              "      <th>Consumidor Especial</th>\n",
              "      <td>{2019}</td>\n",
              "      <td>{QUÍMICOS, EXTRAÇÃO DE MINERAIS METÁLICOS, SER...</td>\n",
              "      <td>{SUDESTE / CENTRO-OESTE, NORDESTE, SUL, NORTE}</td>\n",
              "      <td>{BA , DF , RO, SP, MA, AC, AP, MS, PA, TO, PE ...</td>\n",
              "      <td>7.304708e+05</td>\n",
              "    </tr>\n",
              "    <tr>\n",
              "      <th>Autoprodutor</th>\n",
              "      <td>{2019}</td>\n",
              "      <td>{QUÍMICOS, EXTRAÇÃO DE MINERAIS METÁLICOS, SER...</td>\n",
              "      <td>{NORTE, NORDESTE, SUL, SUDESTE / CENTRO-OESTE}</td>\n",
              "      <td>{BA , DF , SP, MA, MS, PA, PE , RN, RJ, GO, SE...</td>\n",
              "      <td>6.625548e+05</td>\n",
              "    </tr>\n",
              "    <tr>\n",
              "      <th>Comercializador Varejista</th>\n",
              "      <td>{2019}</td>\n",
              "      <td>{QUÍMICOS, SERVIÇOS, TRANSPORTE, SANEAMENTO, M...</td>\n",
              "      <td>{NORTE, SUL, NORDESTE, SUDESTE / CENTRO-OESTE}</td>\n",
              "      <td>{ES, MA, BA , RJ, GO, SC, MG, RS, DF , PR, CE,...</td>\n",
              "      <td>3.478490e+03</td>\n",
              "    </tr>\n",
              "    <tr>\n",
              "      <th>Exportador</th>\n",
              "      <td>{2019}</td>\n",
              "      <td>{SERVIÇOS}</td>\n",
              "      <td>{SUL}</td>\n",
              "      <td>{RS, SC}</td>\n",
              "      <td>0.000000e+00</td>\n",
              "    </tr>\n",
              "  </tbody>\n",
              "</table>\n",
              "</div>"
            ],
            "text/plain": [
              "                             Data  \\\n",
              "Classe                              \n",
              "Distribuidor               {2019}   \n",
              "Consumidor Livre           {2019}   \n",
              "Consumidor Especial        {2019}   \n",
              "Autoprodutor               {2019}   \n",
              "Comercializador Varejista  {2019}   \n",
              "Exportador                 {2019}   \n",
              "\n",
              "                                                                        Ramo  \\\n",
              "Classe                                                                         \n",
              "Distribuidor                                                           {ACR}   \n",
              "Consumidor Livre           {QUÍMICOS, EXTRAÇÃO DE MINERAIS METÁLICOS, SER...   \n",
              "Consumidor Especial        {QUÍMICOS, EXTRAÇÃO DE MINERAIS METÁLICOS, SER...   \n",
              "Autoprodutor               {QUÍMICOS, EXTRAÇÃO DE MINERAIS METÁLICOS, SER...   \n",
              "Comercializador Varejista  {QUÍMICOS, SERVIÇOS, TRANSPORTE, SANEAMENTO, M...   \n",
              "Exportador                                                        {SERVIÇOS}   \n",
              "\n",
              "                                                               Submercado  \\\n",
              "Classe                                                                      \n",
              "Distribuidor               {SUDESTE / CENTRO-OESTE, NORDESTE, SUL, NORTE}   \n",
              "Consumidor Livre           {SUDESTE / CENTRO-OESTE, NORDESTE, SUL, NORTE}   \n",
              "Consumidor Especial        {SUDESTE / CENTRO-OESTE, NORDESTE, SUL, NORTE}   \n",
              "Autoprodutor               {NORTE, NORDESTE, SUL, SUDESTE / CENTRO-OESTE}   \n",
              "Comercializador Varejista  {NORTE, SUL, NORDESTE, SUDESTE / CENTRO-OESTE}   \n",
              "Exportador                                                          {SUL}   \n",
              "\n",
              "                                                                          UF  \\\n",
              "Classe                                                                         \n",
              "Distribuidor               {BA , DF , RO, SP, MA, AC, AP, MS, PA, TO, AM,...   \n",
              "Consumidor Livre           {BA , DF , RO, SP, MA, MS, PA, TO, PE , AM, RN...   \n",
              "Consumidor Especial        {BA , DF , RO, SP, MA, AC, AP, MS, PA, TO, PE ...   \n",
              "Autoprodutor               {BA , DF , SP, MA, MS, PA, PE , RN, RJ, GO, SE...   \n",
              "Comercializador Varejista  {ES, MA, BA , RJ, GO, SC, MG, RS, DF , PR, CE,...   \n",
              "Exportador                                                          {RS, SC}   \n",
              "\n",
              "                                    MWm  \n",
              "Classe                                   \n",
              "Distribuidor               1.581386e+07  \n",
              "Consumidor Livre           3.400625e+06  \n",
              "Consumidor Especial        7.304708e+05  \n",
              "Autoprodutor               6.625548e+05  \n",
              "Comercializador Varejista  3.478490e+03  \n",
              "Exportador                 0.000000e+00  "
            ]
          },
          "execution_count": 15,
          "metadata": {},
          "output_type": "execute_result"
        }
      ],
      "source": [
        "agregado = table_2019.groupby(by='Classe').agg(set)\n",
        "agregado['MWm'] = [sum(x) for x in agregado['MWm']]\n",
        "agregado.sort_values(by='MWm', ascending=False, inplace=True)\n",
        "agregado"
      ]
    },
    {
      "cell_type": "code",
      "execution_count": 16,
      "metadata": {
        "colab": {
          "base_uri": "https://localhost:8080/",
          "height": 542
        },
        "id": "8GCBWBacYyYG",
        "outputId": "ab13a3fc-78a2-4178-9b56-c83f00853e72"
      },
      "outputs": [
        {
          "data": {
            "application/vnd.plotly.v1+json": {
              "config": {
                "plotlyServerURL": "https://plot.ly"
              },
              "data": [
                {
                  "alignmentgroup": "True",
                  "hovertemplate": "Classe=%{x}<br>MWm=%{y}<extra></extra>",
                  "legendgroup": "",
                  "marker": {
                    "color": "darkslateblue",
                    "pattern": {
                      "shape": ""
                    }
                  },
                  "name": "",
                  "offsetgroup": "",
                  "orientation": "v",
                  "showlegend": false,
                  "textposition": "auto",
                  "type": "bar",
                  "x": [
                    "Distribuidor",
                    "Consumidor Livre",
                    "Consumidor Especial",
                    "Autoprodutor",
                    "Comercializador Varejista",
                    "Exportador"
                  ],
                  "xaxis": "x",
                  "y": [
                    15813856.510000043,
                    3400624.8799994425,
                    730470.7999999927,
                    662554.8000000102,
                    3478.490000000002,
                    0
                  ],
                  "yaxis": "y"
                }
              ],
              "layout": {
                "barmode": "relative",
                "legend": {
                  "tracegroupgap": 0
                },
                "template": {
                  "data": {
                    "bar": [
                      {
                        "error_x": {
                          "color": "#2a3f5f"
                        },
                        "error_y": {
                          "color": "#2a3f5f"
                        },
                        "marker": {
                          "line": {
                            "color": "#E5ECF6",
                            "width": 0.5
                          },
                          "pattern": {
                            "fillmode": "overlay",
                            "size": 10,
                            "solidity": 0.2
                          }
                        },
                        "type": "bar"
                      }
                    ],
                    "barpolar": [
                      {
                        "marker": {
                          "line": {
                            "color": "#E5ECF6",
                            "width": 0.5
                          },
                          "pattern": {
                            "fillmode": "overlay",
                            "size": 10,
                            "solidity": 0.2
                          }
                        },
                        "type": "barpolar"
                      }
                    ],
                    "carpet": [
                      {
                        "aaxis": {
                          "endlinecolor": "#2a3f5f",
                          "gridcolor": "white",
                          "linecolor": "white",
                          "minorgridcolor": "white",
                          "startlinecolor": "#2a3f5f"
                        },
                        "baxis": {
                          "endlinecolor": "#2a3f5f",
                          "gridcolor": "white",
                          "linecolor": "white",
                          "minorgridcolor": "white",
                          "startlinecolor": "#2a3f5f"
                        },
                        "type": "carpet"
                      }
                    ],
                    "choropleth": [
                      {
                        "colorbar": {
                          "outlinewidth": 0,
                          "ticks": ""
                        },
                        "type": "choropleth"
                      }
                    ],
                    "contour": [
                      {
                        "colorbar": {
                          "outlinewidth": 0,
                          "ticks": ""
                        },
                        "colorscale": [
                          [
                            0,
                            "#0d0887"
                          ],
                          [
                            0.1111111111111111,
                            "#46039f"
                          ],
                          [
                            0.2222222222222222,
                            "#7201a8"
                          ],
                          [
                            0.3333333333333333,
                            "#9c179e"
                          ],
                          [
                            0.4444444444444444,
                            "#bd3786"
                          ],
                          [
                            0.5555555555555556,
                            "#d8576b"
                          ],
                          [
                            0.6666666666666666,
                            "#ed7953"
                          ],
                          [
                            0.7777777777777778,
                            "#fb9f3a"
                          ],
                          [
                            0.8888888888888888,
                            "#fdca26"
                          ],
                          [
                            1,
                            "#f0f921"
                          ]
                        ],
                        "type": "contour"
                      }
                    ],
                    "contourcarpet": [
                      {
                        "colorbar": {
                          "outlinewidth": 0,
                          "ticks": ""
                        },
                        "type": "contourcarpet"
                      }
                    ],
                    "heatmap": [
                      {
                        "colorbar": {
                          "outlinewidth": 0,
                          "ticks": ""
                        },
                        "colorscale": [
                          [
                            0,
                            "#0d0887"
                          ],
                          [
                            0.1111111111111111,
                            "#46039f"
                          ],
                          [
                            0.2222222222222222,
                            "#7201a8"
                          ],
                          [
                            0.3333333333333333,
                            "#9c179e"
                          ],
                          [
                            0.4444444444444444,
                            "#bd3786"
                          ],
                          [
                            0.5555555555555556,
                            "#d8576b"
                          ],
                          [
                            0.6666666666666666,
                            "#ed7953"
                          ],
                          [
                            0.7777777777777778,
                            "#fb9f3a"
                          ],
                          [
                            0.8888888888888888,
                            "#fdca26"
                          ],
                          [
                            1,
                            "#f0f921"
                          ]
                        ],
                        "type": "heatmap"
                      }
                    ],
                    "heatmapgl": [
                      {
                        "colorbar": {
                          "outlinewidth": 0,
                          "ticks": ""
                        },
                        "colorscale": [
                          [
                            0,
                            "#0d0887"
                          ],
                          [
                            0.1111111111111111,
                            "#46039f"
                          ],
                          [
                            0.2222222222222222,
                            "#7201a8"
                          ],
                          [
                            0.3333333333333333,
                            "#9c179e"
                          ],
                          [
                            0.4444444444444444,
                            "#bd3786"
                          ],
                          [
                            0.5555555555555556,
                            "#d8576b"
                          ],
                          [
                            0.6666666666666666,
                            "#ed7953"
                          ],
                          [
                            0.7777777777777778,
                            "#fb9f3a"
                          ],
                          [
                            0.8888888888888888,
                            "#fdca26"
                          ],
                          [
                            1,
                            "#f0f921"
                          ]
                        ],
                        "type": "heatmapgl"
                      }
                    ],
                    "histogram": [
                      {
                        "marker": {
                          "pattern": {
                            "fillmode": "overlay",
                            "size": 10,
                            "solidity": 0.2
                          }
                        },
                        "type": "histogram"
                      }
                    ],
                    "histogram2d": [
                      {
                        "colorbar": {
                          "outlinewidth": 0,
                          "ticks": ""
                        },
                        "colorscale": [
                          [
                            0,
                            "#0d0887"
                          ],
                          [
                            0.1111111111111111,
                            "#46039f"
                          ],
                          [
                            0.2222222222222222,
                            "#7201a8"
                          ],
                          [
                            0.3333333333333333,
                            "#9c179e"
                          ],
                          [
                            0.4444444444444444,
                            "#bd3786"
                          ],
                          [
                            0.5555555555555556,
                            "#d8576b"
                          ],
                          [
                            0.6666666666666666,
                            "#ed7953"
                          ],
                          [
                            0.7777777777777778,
                            "#fb9f3a"
                          ],
                          [
                            0.8888888888888888,
                            "#fdca26"
                          ],
                          [
                            1,
                            "#f0f921"
                          ]
                        ],
                        "type": "histogram2d"
                      }
                    ],
                    "histogram2dcontour": [
                      {
                        "colorbar": {
                          "outlinewidth": 0,
                          "ticks": ""
                        },
                        "colorscale": [
                          [
                            0,
                            "#0d0887"
                          ],
                          [
                            0.1111111111111111,
                            "#46039f"
                          ],
                          [
                            0.2222222222222222,
                            "#7201a8"
                          ],
                          [
                            0.3333333333333333,
                            "#9c179e"
                          ],
                          [
                            0.4444444444444444,
                            "#bd3786"
                          ],
                          [
                            0.5555555555555556,
                            "#d8576b"
                          ],
                          [
                            0.6666666666666666,
                            "#ed7953"
                          ],
                          [
                            0.7777777777777778,
                            "#fb9f3a"
                          ],
                          [
                            0.8888888888888888,
                            "#fdca26"
                          ],
                          [
                            1,
                            "#f0f921"
                          ]
                        ],
                        "type": "histogram2dcontour"
                      }
                    ],
                    "mesh3d": [
                      {
                        "colorbar": {
                          "outlinewidth": 0,
                          "ticks": ""
                        },
                        "type": "mesh3d"
                      }
                    ],
                    "parcoords": [
                      {
                        "line": {
                          "colorbar": {
                            "outlinewidth": 0,
                            "ticks": ""
                          }
                        },
                        "type": "parcoords"
                      }
                    ],
                    "pie": [
                      {
                        "automargin": true,
                        "type": "pie"
                      }
                    ],
                    "scatter": [
                      {
                        "fillpattern": {
                          "fillmode": "overlay",
                          "size": 10,
                          "solidity": 0.2
                        },
                        "type": "scatter"
                      }
                    ],
                    "scatter3d": [
                      {
                        "line": {
                          "colorbar": {
                            "outlinewidth": 0,
                            "ticks": ""
                          }
                        },
                        "marker": {
                          "colorbar": {
                            "outlinewidth": 0,
                            "ticks": ""
                          }
                        },
                        "type": "scatter3d"
                      }
                    ],
                    "scattercarpet": [
                      {
                        "marker": {
                          "colorbar": {
                            "outlinewidth": 0,
                            "ticks": ""
                          }
                        },
                        "type": "scattercarpet"
                      }
                    ],
                    "scattergeo": [
                      {
                        "marker": {
                          "colorbar": {
                            "outlinewidth": 0,
                            "ticks": ""
                          }
                        },
                        "type": "scattergeo"
                      }
                    ],
                    "scattergl": [
                      {
                        "marker": {
                          "colorbar": {
                            "outlinewidth": 0,
                            "ticks": ""
                          }
                        },
                        "type": "scattergl"
                      }
                    ],
                    "scattermapbox": [
                      {
                        "marker": {
                          "colorbar": {
                            "outlinewidth": 0,
                            "ticks": ""
                          }
                        },
                        "type": "scattermapbox"
                      }
                    ],
                    "scatterpolar": [
                      {
                        "marker": {
                          "colorbar": {
                            "outlinewidth": 0,
                            "ticks": ""
                          }
                        },
                        "type": "scatterpolar"
                      }
                    ],
                    "scatterpolargl": [
                      {
                        "marker": {
                          "colorbar": {
                            "outlinewidth": 0,
                            "ticks": ""
                          }
                        },
                        "type": "scatterpolargl"
                      }
                    ],
                    "scatterternary": [
                      {
                        "marker": {
                          "colorbar": {
                            "outlinewidth": 0,
                            "ticks": ""
                          }
                        },
                        "type": "scatterternary"
                      }
                    ],
                    "surface": [
                      {
                        "colorbar": {
                          "outlinewidth": 0,
                          "ticks": ""
                        },
                        "colorscale": [
                          [
                            0,
                            "#0d0887"
                          ],
                          [
                            0.1111111111111111,
                            "#46039f"
                          ],
                          [
                            0.2222222222222222,
                            "#7201a8"
                          ],
                          [
                            0.3333333333333333,
                            "#9c179e"
                          ],
                          [
                            0.4444444444444444,
                            "#bd3786"
                          ],
                          [
                            0.5555555555555556,
                            "#d8576b"
                          ],
                          [
                            0.6666666666666666,
                            "#ed7953"
                          ],
                          [
                            0.7777777777777778,
                            "#fb9f3a"
                          ],
                          [
                            0.8888888888888888,
                            "#fdca26"
                          ],
                          [
                            1,
                            "#f0f921"
                          ]
                        ],
                        "type": "surface"
                      }
                    ],
                    "table": [
                      {
                        "cells": {
                          "fill": {
                            "color": "#EBF0F8"
                          },
                          "line": {
                            "color": "white"
                          }
                        },
                        "header": {
                          "fill": {
                            "color": "#C8D4E3"
                          },
                          "line": {
                            "color": "white"
                          }
                        },
                        "type": "table"
                      }
                    ]
                  },
                  "layout": {
                    "annotationdefaults": {
                      "arrowcolor": "#2a3f5f",
                      "arrowhead": 0,
                      "arrowwidth": 1
                    },
                    "autotypenumbers": "strict",
                    "coloraxis": {
                      "colorbar": {
                        "outlinewidth": 0,
                        "ticks": ""
                      }
                    },
                    "colorscale": {
                      "diverging": [
                        [
                          0,
                          "#8e0152"
                        ],
                        [
                          0.1,
                          "#c51b7d"
                        ],
                        [
                          0.2,
                          "#de77ae"
                        ],
                        [
                          0.3,
                          "#f1b6da"
                        ],
                        [
                          0.4,
                          "#fde0ef"
                        ],
                        [
                          0.5,
                          "#f7f7f7"
                        ],
                        [
                          0.6,
                          "#e6f5d0"
                        ],
                        [
                          0.7,
                          "#b8e186"
                        ],
                        [
                          0.8,
                          "#7fbc41"
                        ],
                        [
                          0.9,
                          "#4d9221"
                        ],
                        [
                          1,
                          "#276419"
                        ]
                      ],
                      "sequential": [
                        [
                          0,
                          "#0d0887"
                        ],
                        [
                          0.1111111111111111,
                          "#46039f"
                        ],
                        [
                          0.2222222222222222,
                          "#7201a8"
                        ],
                        [
                          0.3333333333333333,
                          "#9c179e"
                        ],
                        [
                          0.4444444444444444,
                          "#bd3786"
                        ],
                        [
                          0.5555555555555556,
                          "#d8576b"
                        ],
                        [
                          0.6666666666666666,
                          "#ed7953"
                        ],
                        [
                          0.7777777777777778,
                          "#fb9f3a"
                        ],
                        [
                          0.8888888888888888,
                          "#fdca26"
                        ],
                        [
                          1,
                          "#f0f921"
                        ]
                      ],
                      "sequentialminus": [
                        [
                          0,
                          "#0d0887"
                        ],
                        [
                          0.1111111111111111,
                          "#46039f"
                        ],
                        [
                          0.2222222222222222,
                          "#7201a8"
                        ],
                        [
                          0.3333333333333333,
                          "#9c179e"
                        ],
                        [
                          0.4444444444444444,
                          "#bd3786"
                        ],
                        [
                          0.5555555555555556,
                          "#d8576b"
                        ],
                        [
                          0.6666666666666666,
                          "#ed7953"
                        ],
                        [
                          0.7777777777777778,
                          "#fb9f3a"
                        ],
                        [
                          0.8888888888888888,
                          "#fdca26"
                        ],
                        [
                          1,
                          "#f0f921"
                        ]
                      ]
                    },
                    "colorway": [
                      "#636efa",
                      "#EF553B",
                      "#00cc96",
                      "#ab63fa",
                      "#FFA15A",
                      "#19d3f3",
                      "#FF6692",
                      "#B6E880",
                      "#FF97FF",
                      "#FECB52"
                    ],
                    "font": {
                      "color": "#2a3f5f"
                    },
                    "geo": {
                      "bgcolor": "white",
                      "lakecolor": "white",
                      "landcolor": "#E5ECF6",
                      "showlakes": true,
                      "showland": true,
                      "subunitcolor": "white"
                    },
                    "hoverlabel": {
                      "align": "left"
                    },
                    "hovermode": "closest",
                    "mapbox": {
                      "style": "light"
                    },
                    "paper_bgcolor": "white",
                    "plot_bgcolor": "#E5ECF6",
                    "polar": {
                      "angularaxis": {
                        "gridcolor": "white",
                        "linecolor": "white",
                        "ticks": ""
                      },
                      "bgcolor": "#E5ECF6",
                      "radialaxis": {
                        "gridcolor": "white",
                        "linecolor": "white",
                        "ticks": ""
                      }
                    },
                    "scene": {
                      "xaxis": {
                        "backgroundcolor": "#E5ECF6",
                        "gridcolor": "white",
                        "gridwidth": 2,
                        "linecolor": "white",
                        "showbackground": true,
                        "ticks": "",
                        "zerolinecolor": "white"
                      },
                      "yaxis": {
                        "backgroundcolor": "#E5ECF6",
                        "gridcolor": "white",
                        "gridwidth": 2,
                        "linecolor": "white",
                        "showbackground": true,
                        "ticks": "",
                        "zerolinecolor": "white"
                      },
                      "zaxis": {
                        "backgroundcolor": "#E5ECF6",
                        "gridcolor": "white",
                        "gridwidth": 2,
                        "linecolor": "white",
                        "showbackground": true,
                        "ticks": "",
                        "zerolinecolor": "white"
                      }
                    },
                    "shapedefaults": {
                      "line": {
                        "color": "#2a3f5f"
                      }
                    },
                    "ternary": {
                      "aaxis": {
                        "gridcolor": "white",
                        "linecolor": "white",
                        "ticks": ""
                      },
                      "baxis": {
                        "gridcolor": "white",
                        "linecolor": "white",
                        "ticks": ""
                      },
                      "bgcolor": "#E5ECF6",
                      "caxis": {
                        "gridcolor": "white",
                        "linecolor": "white",
                        "ticks": ""
                      }
                    },
                    "title": {
                      "x": 0.05
                    },
                    "xaxis": {
                      "automargin": true,
                      "gridcolor": "white",
                      "linecolor": "white",
                      "ticks": "",
                      "title": {
                        "standoff": 15
                      },
                      "zerolinecolor": "white",
                      "zerolinewidth": 2
                    },
                    "yaxis": {
                      "automargin": true,
                      "gridcolor": "white",
                      "linecolor": "white",
                      "ticks": "",
                      "title": {
                        "standoff": 15
                      },
                      "zerolinecolor": "white",
                      "zerolinewidth": 2
                    }
                  }
                },
                "title": {
                  "text": "Consumo por classe em 2019"
                },
                "xaxis": {
                  "anchor": "y",
                  "domain": [
                    0,
                    1
                  ],
                  "title": {
                    "text": "Classe"
                  }
                },
                "yaxis": {
                  "anchor": "x",
                  "domain": [
                    0,
                    1
                  ],
                  "title": {
                    "text": "MWm"
                  }
                }
              }
            }
          },
          "metadata": {},
          "output_type": "display_data"
        }
      ],
      "source": [
        "\n",
        "fig = px.bar(agregado, x=agregado.index, y='MWm', color_discrete_sequence=['darkslateblue'], title='Consumo por classe em 2019')\n",
        "fig.show()"
      ]
    },
    {
      "attachments": {},
      "cell_type": "markdown",
      "metadata": {},
      "source": [
        "#### Análise Beatriz"
      ]
    },
    {
      "cell_type": "code",
      "execution_count": 17,
      "metadata": {
        "id": "2TfosOa9Zo8u"
      },
      "outputs": [
        {
          "data": {
            "text/html": [
              "<div>\n",
              "<style scoped>\n",
              "    .dataframe tbody tr th:only-of-type {\n",
              "        vertical-align: middle;\n",
              "    }\n",
              "\n",
              "    .dataframe tbody tr th {\n",
              "        vertical-align: top;\n",
              "    }\n",
              "\n",
              "    .dataframe thead th {\n",
              "        text-align: right;\n",
              "    }\n",
              "</style>\n",
              "<table border=\"1\" class=\"dataframe\">\n",
              "  <thead>\n",
              "    <tr style=\"text-align: right;\">\n",
              "      <th></th>\n",
              "      <th>iso_code</th>\n",
              "      <th>country</th>\n",
              "      <th>year</th>\n",
              "      <th>coal_prod_change_pct</th>\n",
              "      <th>coal_prod_change_twh</th>\n",
              "      <th>gas_prod_change_pct</th>\n",
              "      <th>gas_prod_change_twh</th>\n",
              "      <th>oil_prod_change_pct</th>\n",
              "      <th>oil_prod_change_twh</th>\n",
              "      <th>energy_cons_change_pct</th>\n",
              "      <th>...</th>\n",
              "      <th>solar_consumption</th>\n",
              "      <th>solar_elec_per_capita</th>\n",
              "      <th>solar_energy_per_capita</th>\n",
              "      <th>wind_share_elec</th>\n",
              "      <th>wind_cons_change_pct</th>\n",
              "      <th>wind_share_energy</th>\n",
              "      <th>wind_cons_change_twh</th>\n",
              "      <th>wind_consumption</th>\n",
              "      <th>wind_elec_per_capita</th>\n",
              "      <th>wind_energy_per_capita</th>\n",
              "    </tr>\n",
              "  </thead>\n",
              "  <tbody>\n",
              "    <tr>\n",
              "      <th>0</th>\n",
              "      <td>BRA</td>\n",
              "      <td>Brazil</td>\n",
              "      <td>1900</td>\n",
              "      <td>NaN</td>\n",
              "      <td>NaN</td>\n",
              "      <td>NaN</td>\n",
              "      <td>NaN</td>\n",
              "      <td>NaN</td>\n",
              "      <td>NaN</td>\n",
              "      <td>NaN</td>\n",
              "      <td>...</td>\n",
              "      <td>NaN</td>\n",
              "      <td>NaN</td>\n",
              "      <td>NaN</td>\n",
              "      <td>NaN</td>\n",
              "      <td>NaN</td>\n",
              "      <td>NaN</td>\n",
              "      <td>NaN</td>\n",
              "      <td>NaN</td>\n",
              "      <td>NaN</td>\n",
              "      <td>NaN</td>\n",
              "    </tr>\n",
              "    <tr>\n",
              "      <th>1</th>\n",
              "      <td>BRA</td>\n",
              "      <td>Brazil</td>\n",
              "      <td>1901</td>\n",
              "      <td>NaN</td>\n",
              "      <td>0.000</td>\n",
              "      <td>NaN</td>\n",
              "      <td>0.000</td>\n",
              "      <td>NaN</td>\n",
              "      <td>0.000</td>\n",
              "      <td>NaN</td>\n",
              "      <td>...</td>\n",
              "      <td>NaN</td>\n",
              "      <td>NaN</td>\n",
              "      <td>NaN</td>\n",
              "      <td>NaN</td>\n",
              "      <td>NaN</td>\n",
              "      <td>NaN</td>\n",
              "      <td>NaN</td>\n",
              "      <td>NaN</td>\n",
              "      <td>NaN</td>\n",
              "      <td>NaN</td>\n",
              "    </tr>\n",
              "    <tr>\n",
              "      <th>2</th>\n",
              "      <td>BRA</td>\n",
              "      <td>Brazil</td>\n",
              "      <td>1902</td>\n",
              "      <td>NaN</td>\n",
              "      <td>0.000</td>\n",
              "      <td>NaN</td>\n",
              "      <td>0.000</td>\n",
              "      <td>NaN</td>\n",
              "      <td>0.000</td>\n",
              "      <td>NaN</td>\n",
              "      <td>...</td>\n",
              "      <td>NaN</td>\n",
              "      <td>NaN</td>\n",
              "      <td>NaN</td>\n",
              "      <td>NaN</td>\n",
              "      <td>NaN</td>\n",
              "      <td>NaN</td>\n",
              "      <td>NaN</td>\n",
              "      <td>NaN</td>\n",
              "      <td>NaN</td>\n",
              "      <td>NaN</td>\n",
              "    </tr>\n",
              "    <tr>\n",
              "      <th>3</th>\n",
              "      <td>BRA</td>\n",
              "      <td>Brazil</td>\n",
              "      <td>1903</td>\n",
              "      <td>NaN</td>\n",
              "      <td>0.000</td>\n",
              "      <td>NaN</td>\n",
              "      <td>0.000</td>\n",
              "      <td>NaN</td>\n",
              "      <td>0.000</td>\n",
              "      <td>NaN</td>\n",
              "      <td>...</td>\n",
              "      <td>NaN</td>\n",
              "      <td>NaN</td>\n",
              "      <td>NaN</td>\n",
              "      <td>NaN</td>\n",
              "      <td>NaN</td>\n",
              "      <td>NaN</td>\n",
              "      <td>NaN</td>\n",
              "      <td>NaN</td>\n",
              "      <td>NaN</td>\n",
              "      <td>NaN</td>\n",
              "    </tr>\n",
              "    <tr>\n",
              "      <th>4</th>\n",
              "      <td>BRA</td>\n",
              "      <td>Brazil</td>\n",
              "      <td>1904</td>\n",
              "      <td>NaN</td>\n",
              "      <td>0.000</td>\n",
              "      <td>NaN</td>\n",
              "      <td>0.000</td>\n",
              "      <td>NaN</td>\n",
              "      <td>0.000</td>\n",
              "      <td>NaN</td>\n",
              "      <td>...</td>\n",
              "      <td>NaN</td>\n",
              "      <td>NaN</td>\n",
              "      <td>NaN</td>\n",
              "      <td>NaN</td>\n",
              "      <td>NaN</td>\n",
              "      <td>NaN</td>\n",
              "      <td>NaN</td>\n",
              "      <td>NaN</td>\n",
              "      <td>NaN</td>\n",
              "      <td>NaN</td>\n",
              "    </tr>\n",
              "    <tr>\n",
              "      <th>...</th>\n",
              "      <td>...</td>\n",
              "      <td>...</td>\n",
              "      <td>...</td>\n",
              "      <td>...</td>\n",
              "      <td>...</td>\n",
              "      <td>...</td>\n",
              "      <td>...</td>\n",
              "      <td>...</td>\n",
              "      <td>...</td>\n",
              "      <td>...</td>\n",
              "      <td>...</td>\n",
              "      <td>...</td>\n",
              "      <td>...</td>\n",
              "      <td>...</td>\n",
              "      <td>...</td>\n",
              "      <td>...</td>\n",
              "      <td>...</td>\n",
              "      <td>...</td>\n",
              "      <td>...</td>\n",
              "      <td>...</td>\n",
              "      <td>...</td>\n",
              "    </tr>\n",
              "    <tr>\n",
              "      <th>117</th>\n",
              "      <td>BRA</td>\n",
              "      <td>Brazil</td>\n",
              "      <td>2017</td>\n",
              "      <td>-18.682</td>\n",
              "      <td>-5.819</td>\n",
              "      <td>12.676</td>\n",
              "      <td>30.578</td>\n",
              "      <td>4.491</td>\n",
              "      <td>71.136</td>\n",
              "      <td>1.265</td>\n",
              "      <td>...</td>\n",
              "      <td>2.080</td>\n",
              "      <td>3.994</td>\n",
              "      <td>10.006</td>\n",
              "      <td>7.337</td>\n",
              "      <td>25.785</td>\n",
              "      <td>3.169</td>\n",
              "      <td>21.716</td>\n",
              "      <td>105.933</td>\n",
              "      <td>203.865</td>\n",
              "      <td>509.702</td>\n",
              "    </tr>\n",
              "    <tr>\n",
              "      <th>118</th>\n",
              "      <td>BRA</td>\n",
              "      <td>Brazil</td>\n",
              "      <td>2018</td>\n",
              "      <td>8.369</td>\n",
              "      <td>2.120</td>\n",
              "      <td>-7.428</td>\n",
              "      <td>-20.191</td>\n",
              "      <td>-1.471</td>\n",
              "      <td>-24.346</td>\n",
              "      <td>0.675</td>\n",
              "      <td>...</td>\n",
              "      <td>8.603</td>\n",
              "      <td>16.518</td>\n",
              "      <td>41.070</td>\n",
              "      <td>8.200</td>\n",
              "      <td>13.731</td>\n",
              "      <td>3.579</td>\n",
              "      <td>14.546</td>\n",
              "      <td>120.479</td>\n",
              "      <td>231.394</td>\n",
              "      <td>575.164</td>\n",
              "    </tr>\n",
              "    <tr>\n",
              "      <th>119</th>\n",
              "      <td>BRA</td>\n",
              "      <td>Brazil</td>\n",
              "      <td>2019</td>\n",
              "      <td>-8.395</td>\n",
              "      <td>-2.304</td>\n",
              "      <td>2.322</td>\n",
              "      <td>5.842</td>\n",
              "      <td>7.525</td>\n",
              "      <td>122.710</td>\n",
              "      <td>2.512</td>\n",
              "      <td>...</td>\n",
              "      <td>16.478</td>\n",
              "      <td>31.557</td>\n",
              "      <td>78.077</td>\n",
              "      <td>9.111</td>\n",
              "      <td>15.068</td>\n",
              "      <td>4.018</td>\n",
              "      <td>18.153</td>\n",
              "      <td>138.633</td>\n",
              "      <td>265.293</td>\n",
              "      <td>656.873</td>\n",
              "    </tr>\n",
              "    <tr>\n",
              "      <th>120</th>\n",
              "      <td>BRA</td>\n",
              "      <td>Brazil</td>\n",
              "      <td>2020</td>\n",
              "      <td>4.180</td>\n",
              "      <td>1.051</td>\n",
              "      <td>-7.062</td>\n",
              "      <td>-18.183</td>\n",
              "      <td>5.582</td>\n",
              "      <td>97.883</td>\n",
              "      <td>-3.328</td>\n",
              "      <td>...</td>\n",
              "      <td>19.635</td>\n",
              "      <td>50.574</td>\n",
              "      <td>92.374</td>\n",
              "      <td>9.172</td>\n",
              "      <td>1.462</td>\n",
              "      <td>4.217</td>\n",
              "      <td>2.027</td>\n",
              "      <td>140.660</td>\n",
              "      <td>268.396</td>\n",
              "      <td>661.742</td>\n",
              "    </tr>\n",
              "    <tr>\n",
              "      <th>121</th>\n",
              "      <td>BRA</td>\n",
              "      <td>Brazil</td>\n",
              "      <td>2021</td>\n",
              "      <td>NaN</td>\n",
              "      <td>NaN</td>\n",
              "      <td>NaN</td>\n",
              "      <td>NaN</td>\n",
              "      <td>NaN</td>\n",
              "      <td>NaN</td>\n",
              "      <td>NaN</td>\n",
              "      <td>...</td>\n",
              "      <td>NaN</td>\n",
              "      <td>58.320</td>\n",
              "      <td>NaN</td>\n",
              "      <td>11.279</td>\n",
              "      <td>NaN</td>\n",
              "      <td>NaN</td>\n",
              "      <td>NaN</td>\n",
              "      <td>NaN</td>\n",
              "      <td>337.580</td>\n",
              "      <td>NaN</td>\n",
              "    </tr>\n",
              "  </tbody>\n",
              "</table>\n",
              "<p>122 rows × 128 columns</p>\n",
              "</div>"
            ],
            "text/plain": [
              "    iso_code country  year  coal_prod_change_pct  coal_prod_change_twh  \\\n",
              "0        BRA  Brazil  1900                   NaN                   NaN   \n",
              "1        BRA  Brazil  1901                   NaN                 0.000   \n",
              "2        BRA  Brazil  1902                   NaN                 0.000   \n",
              "3        BRA  Brazil  1903                   NaN                 0.000   \n",
              "4        BRA  Brazil  1904                   NaN                 0.000   \n",
              "..       ...     ...   ...                   ...                   ...   \n",
              "117      BRA  Brazil  2017               -18.682                -5.819   \n",
              "118      BRA  Brazil  2018                 8.369                 2.120   \n",
              "119      BRA  Brazil  2019                -8.395                -2.304   \n",
              "120      BRA  Brazil  2020                 4.180                 1.051   \n",
              "121      BRA  Brazil  2021                   NaN                   NaN   \n",
              "\n",
              "     gas_prod_change_pct  gas_prod_change_twh  oil_prod_change_pct  \\\n",
              "0                    NaN                  NaN                  NaN   \n",
              "1                    NaN                0.000                  NaN   \n",
              "2                    NaN                0.000                  NaN   \n",
              "3                    NaN                0.000                  NaN   \n",
              "4                    NaN                0.000                  NaN   \n",
              "..                   ...                  ...                  ...   \n",
              "117               12.676               30.578                4.491   \n",
              "118               -7.428              -20.191               -1.471   \n",
              "119                2.322                5.842                7.525   \n",
              "120               -7.062              -18.183                5.582   \n",
              "121                  NaN                  NaN                  NaN   \n",
              "\n",
              "     oil_prod_change_twh  energy_cons_change_pct  ...  solar_consumption  \\\n",
              "0                    NaN                     NaN  ...                NaN   \n",
              "1                  0.000                     NaN  ...                NaN   \n",
              "2                  0.000                     NaN  ...                NaN   \n",
              "3                  0.000                     NaN  ...                NaN   \n",
              "4                  0.000                     NaN  ...                NaN   \n",
              "..                   ...                     ...  ...                ...   \n",
              "117               71.136                   1.265  ...              2.080   \n",
              "118              -24.346                   0.675  ...              8.603   \n",
              "119              122.710                   2.512  ...             16.478   \n",
              "120               97.883                  -3.328  ...             19.635   \n",
              "121                  NaN                     NaN  ...                NaN   \n",
              "\n",
              "     solar_elec_per_capita  solar_energy_per_capita  wind_share_elec  \\\n",
              "0                      NaN                      NaN              NaN   \n",
              "1                      NaN                      NaN              NaN   \n",
              "2                      NaN                      NaN              NaN   \n",
              "3                      NaN                      NaN              NaN   \n",
              "4                      NaN                      NaN              NaN   \n",
              "..                     ...                      ...              ...   \n",
              "117                  3.994                   10.006            7.337   \n",
              "118                 16.518                   41.070            8.200   \n",
              "119                 31.557                   78.077            9.111   \n",
              "120                 50.574                   92.374            9.172   \n",
              "121                 58.320                      NaN           11.279   \n",
              "\n",
              "     wind_cons_change_pct  wind_share_energy  wind_cons_change_twh  \\\n",
              "0                     NaN                NaN                   NaN   \n",
              "1                     NaN                NaN                   NaN   \n",
              "2                     NaN                NaN                   NaN   \n",
              "3                     NaN                NaN                   NaN   \n",
              "4                     NaN                NaN                   NaN   \n",
              "..                    ...                ...                   ...   \n",
              "117                25.785              3.169                21.716   \n",
              "118                13.731              3.579                14.546   \n",
              "119                15.068              4.018                18.153   \n",
              "120                 1.462              4.217                 2.027   \n",
              "121                   NaN                NaN                   NaN   \n",
              "\n",
              "     wind_consumption  wind_elec_per_capita  wind_energy_per_capita  \n",
              "0                 NaN                   NaN                     NaN  \n",
              "1                 NaN                   NaN                     NaN  \n",
              "2                 NaN                   NaN                     NaN  \n",
              "3                 NaN                   NaN                     NaN  \n",
              "4                 NaN                   NaN                     NaN  \n",
              "..                ...                   ...                     ...  \n",
              "117           105.933               203.865                 509.702  \n",
              "118           120.479               231.394                 575.164  \n",
              "119           138.633               265.293                 656.873  \n",
              "120           140.660               268.396                 661.742  \n",
              "121               NaN               337.580                     NaN  \n",
              "\n",
              "[122 rows x 128 columns]"
            ]
          },
          "execution_count": 17,
          "metadata": {},
          "output_type": "execute_result"
        }
      ],
      "source": [
        "# Visualização da base de dados\n",
        "energy_table = pd.read_csv('Brazil_energy_data.csv')\n",
        "energy_table"
      ]
    },
    {
      "cell_type": "code",
      "execution_count": 18,
      "metadata": {},
      "outputs": [
        {
          "data": {
            "text/html": [
              "<div>\n",
              "<style scoped>\n",
              "    .dataframe tbody tr th:only-of-type {\n",
              "        vertical-align: middle;\n",
              "    }\n",
              "\n",
              "    .dataframe tbody tr th {\n",
              "        vertical-align: top;\n",
              "    }\n",
              "\n",
              "    .dataframe thead th {\n",
              "        text-align: right;\n",
              "    }\n",
              "</style>\n",
              "<table border=\"1\" class=\"dataframe\">\n",
              "  <thead>\n",
              "    <tr style=\"text-align: right;\">\n",
              "      <th></th>\n",
              "      <th>iso_code</th>\n",
              "      <th>country</th>\n",
              "      <th>year</th>\n",
              "      <th>coal_prod_change_pct</th>\n",
              "      <th>coal_prod_change_twh</th>\n",
              "      <th>gas_prod_change_pct</th>\n",
              "      <th>gas_prod_change_twh</th>\n",
              "      <th>oil_prod_change_pct</th>\n",
              "      <th>oil_prod_change_twh</th>\n",
              "      <th>energy_cons_change_pct</th>\n",
              "      <th>...</th>\n",
              "      <th>solar_consumption</th>\n",
              "      <th>solar_elec_per_capita</th>\n",
              "      <th>solar_energy_per_capita</th>\n",
              "      <th>wind_share_elec</th>\n",
              "      <th>wind_cons_change_pct</th>\n",
              "      <th>wind_share_energy</th>\n",
              "      <th>wind_cons_change_twh</th>\n",
              "      <th>wind_consumption</th>\n",
              "      <th>wind_elec_per_capita</th>\n",
              "      <th>wind_energy_per_capita</th>\n",
              "    </tr>\n",
              "  </thead>\n",
              "  <tbody>\n",
              "    <tr>\n",
              "      <th>118</th>\n",
              "      <td>BRA</td>\n",
              "      <td>Brazil</td>\n",
              "      <td>2018</td>\n",
              "      <td>8.369</td>\n",
              "      <td>2.120</td>\n",
              "      <td>-7.428</td>\n",
              "      <td>-20.191</td>\n",
              "      <td>-1.471</td>\n",
              "      <td>-24.346</td>\n",
              "      <td>0.675</td>\n",
              "      <td>...</td>\n",
              "      <td>8.603</td>\n",
              "      <td>16.518</td>\n",
              "      <td>41.070</td>\n",
              "      <td>8.200</td>\n",
              "      <td>13.731</td>\n",
              "      <td>3.579</td>\n",
              "      <td>14.546</td>\n",
              "      <td>120.479</td>\n",
              "      <td>231.394</td>\n",
              "      <td>575.164</td>\n",
              "    </tr>\n",
              "    <tr>\n",
              "      <th>119</th>\n",
              "      <td>BRA</td>\n",
              "      <td>Brazil</td>\n",
              "      <td>2019</td>\n",
              "      <td>-8.395</td>\n",
              "      <td>-2.304</td>\n",
              "      <td>2.322</td>\n",
              "      <td>5.842</td>\n",
              "      <td>7.525</td>\n",
              "      <td>122.710</td>\n",
              "      <td>2.512</td>\n",
              "      <td>...</td>\n",
              "      <td>16.478</td>\n",
              "      <td>31.557</td>\n",
              "      <td>78.077</td>\n",
              "      <td>9.111</td>\n",
              "      <td>15.068</td>\n",
              "      <td>4.018</td>\n",
              "      <td>18.153</td>\n",
              "      <td>138.633</td>\n",
              "      <td>265.293</td>\n",
              "      <td>656.873</td>\n",
              "    </tr>\n",
              "    <tr>\n",
              "      <th>120</th>\n",
              "      <td>BRA</td>\n",
              "      <td>Brazil</td>\n",
              "      <td>2020</td>\n",
              "      <td>4.180</td>\n",
              "      <td>1.051</td>\n",
              "      <td>-7.062</td>\n",
              "      <td>-18.183</td>\n",
              "      <td>5.582</td>\n",
              "      <td>97.883</td>\n",
              "      <td>-3.328</td>\n",
              "      <td>...</td>\n",
              "      <td>19.635</td>\n",
              "      <td>50.574</td>\n",
              "      <td>92.374</td>\n",
              "      <td>9.172</td>\n",
              "      <td>1.462</td>\n",
              "      <td>4.217</td>\n",
              "      <td>2.027</td>\n",
              "      <td>140.660</td>\n",
              "      <td>268.396</td>\n",
              "      <td>661.742</td>\n",
              "    </tr>\n",
              "    <tr>\n",
              "      <th>121</th>\n",
              "      <td>BRA</td>\n",
              "      <td>Brazil</td>\n",
              "      <td>2021</td>\n",
              "      <td>NaN</td>\n",
              "      <td>NaN</td>\n",
              "      <td>NaN</td>\n",
              "      <td>NaN</td>\n",
              "      <td>NaN</td>\n",
              "      <td>NaN</td>\n",
              "      <td>NaN</td>\n",
              "      <td>...</td>\n",
              "      <td>NaN</td>\n",
              "      <td>58.320</td>\n",
              "      <td>NaN</td>\n",
              "      <td>11.279</td>\n",
              "      <td>NaN</td>\n",
              "      <td>NaN</td>\n",
              "      <td>NaN</td>\n",
              "      <td>NaN</td>\n",
              "      <td>337.580</td>\n",
              "      <td>NaN</td>\n",
              "    </tr>\n",
              "  </tbody>\n",
              "</table>\n",
              "<p>4 rows × 128 columns</p>\n",
              "</div>"
            ],
            "text/plain": [
              "    iso_code country  year  coal_prod_change_pct  coal_prod_change_twh  \\\n",
              "118      BRA  Brazil  2018                 8.369                 2.120   \n",
              "119      BRA  Brazil  2019                -8.395                -2.304   \n",
              "120      BRA  Brazil  2020                 4.180                 1.051   \n",
              "121      BRA  Brazil  2021                   NaN                   NaN   \n",
              "\n",
              "     gas_prod_change_pct  gas_prod_change_twh  oil_prod_change_pct  \\\n",
              "118               -7.428              -20.191               -1.471   \n",
              "119                2.322                5.842                7.525   \n",
              "120               -7.062              -18.183                5.582   \n",
              "121                  NaN                  NaN                  NaN   \n",
              "\n",
              "     oil_prod_change_twh  energy_cons_change_pct  ...  solar_consumption  \\\n",
              "118              -24.346                   0.675  ...              8.603   \n",
              "119              122.710                   2.512  ...             16.478   \n",
              "120               97.883                  -3.328  ...             19.635   \n",
              "121                  NaN                     NaN  ...                NaN   \n",
              "\n",
              "     solar_elec_per_capita  solar_energy_per_capita  wind_share_elec  \\\n",
              "118                 16.518                   41.070            8.200   \n",
              "119                 31.557                   78.077            9.111   \n",
              "120                 50.574                   92.374            9.172   \n",
              "121                 58.320                      NaN           11.279   \n",
              "\n",
              "     wind_cons_change_pct  wind_share_energy  wind_cons_change_twh  \\\n",
              "118                13.731              3.579                14.546   \n",
              "119                15.068              4.018                18.153   \n",
              "120                 1.462              4.217                 2.027   \n",
              "121                   NaN                NaN                   NaN   \n",
              "\n",
              "     wind_consumption  wind_elec_per_capita  wind_energy_per_capita  \n",
              "118           120.479               231.394                 575.164  \n",
              "119           138.633               265.293                 656.873  \n",
              "120           140.660               268.396                 661.742  \n",
              "121               NaN               337.580                     NaN  \n",
              "\n",
              "[4 rows x 128 columns]"
            ]
          },
          "execution_count": 18,
          "metadata": {},
          "output_type": "execute_result"
        }
      ],
      "source": [
        "# Período considerado: 2018-2021\n",
        "\n",
        "actual_table = energy_table.loc[(energy_table['year'] >= 2018)]\n",
        "actual_table\n"
      ]
    },
    {
      "cell_type": "code",
      "execution_count": 19,
      "metadata": {},
      "outputs": [
        {
          "data": {
            "text/html": [
              "<div>\n",
              "<style scoped>\n",
              "    .dataframe tbody tr th:only-of-type {\n",
              "        vertical-align: middle;\n",
              "    }\n",
              "\n",
              "    .dataframe tbody tr th {\n",
              "        vertical-align: top;\n",
              "    }\n",
              "\n",
              "    .dataframe thead th {\n",
              "        text-align: right;\n",
              "    }\n",
              "</style>\n",
              "<table border=\"1\" class=\"dataframe\">\n",
              "  <thead>\n",
              "    <tr style=\"text-align: right;\">\n",
              "      <th></th>\n",
              "      <th>year</th>\n",
              "      <th>coal_prod_change_pct</th>\n",
              "      <th>coal_prod_change_twh</th>\n",
              "      <th>gas_prod_change_pct</th>\n",
              "      <th>gas_prod_change_twh</th>\n",
              "      <th>oil_prod_change_pct</th>\n",
              "      <th>oil_prod_change_twh</th>\n",
              "      <th>energy_cons_change_pct</th>\n",
              "      <th>energy_cons_change_twh</th>\n",
              "      <th>biofuel_share_elec</th>\n",
              "      <th>...</th>\n",
              "      <th>solar_consumption</th>\n",
              "      <th>solar_elec_per_capita</th>\n",
              "      <th>solar_energy_per_capita</th>\n",
              "      <th>wind_share_elec</th>\n",
              "      <th>wind_cons_change_pct</th>\n",
              "      <th>wind_share_energy</th>\n",
              "      <th>wind_cons_change_twh</th>\n",
              "      <th>wind_consumption</th>\n",
              "      <th>wind_elec_per_capita</th>\n",
              "      <th>wind_energy_per_capita</th>\n",
              "    </tr>\n",
              "  </thead>\n",
              "  <tbody>\n",
              "    <tr>\n",
              "      <th>count</th>\n",
              "      <td>4.000000</td>\n",
              "      <td>3.000000</td>\n",
              "      <td>3.000000</td>\n",
              "      <td>3.000000</td>\n",
              "      <td>3.000000</td>\n",
              "      <td>3.000000</td>\n",
              "      <td>3.000000</td>\n",
              "      <td>3.000000</td>\n",
              "      <td>3.000000</td>\n",
              "      <td>4.000000</td>\n",
              "      <td>...</td>\n",
              "      <td>3.000000</td>\n",
              "      <td>4.000000</td>\n",
              "      <td>3.000000</td>\n",
              "      <td>4.000000</td>\n",
              "      <td>3.000000</td>\n",
              "      <td>3.000000</td>\n",
              "      <td>3.000000</td>\n",
              "      <td>3.000000</td>\n",
              "      <td>4.00000</td>\n",
              "      <td>3.000000</td>\n",
              "    </tr>\n",
              "    <tr>\n",
              "      <th>mean</th>\n",
              "      <td>2019.500000</td>\n",
              "      <td>1.384667</td>\n",
              "      <td>0.289000</td>\n",
              "      <td>-4.056000</td>\n",
              "      <td>-10.844000</td>\n",
              "      <td>3.878667</td>\n",
              "      <td>65.415667</td>\n",
              "      <td>-0.047000</td>\n",
              "      <td>-2.569000</td>\n",
              "      <td>8.287500</td>\n",
              "      <td>...</td>\n",
              "      <td>14.905333</td>\n",
              "      <td>39.242250</td>\n",
              "      <td>70.507000</td>\n",
              "      <td>9.440500</td>\n",
              "      <td>10.087000</td>\n",
              "      <td>3.938000</td>\n",
              "      <td>11.575333</td>\n",
              "      <td>133.257333</td>\n",
              "      <td>275.66575</td>\n",
              "      <td>631.259667</td>\n",
              "    </tr>\n",
              "    <tr>\n",
              "      <th>std</th>\n",
              "      <td>1.290994</td>\n",
              "      <td>8.724583</td>\n",
              "      <td>2.308339</td>\n",
              "      <td>5.526541</td>\n",
              "      <td>14.485336</td>\n",
              "      <td>4.733710</td>\n",
              "      <td>78.720789</td>\n",
              "      <td>2.986195</td>\n",
              "      <td>102.043092</td>\n",
              "      <td>0.494557</td>\n",
              "      <td>...</td>\n",
              "      <td>5.681656</td>\n",
              "      <td>18.866405</td>\n",
              "      <td>26.476476</td>\n",
              "      <td>1.303787</td>\n",
              "      <td>7.499324</td>\n",
              "      <td>0.326437</td>\n",
              "      <td>8.463487</td>\n",
              "      <td>11.112674</td>\n",
              "      <td>44.54887</td>\n",
              "      <td>48.641234</td>\n",
              "    </tr>\n",
              "    <tr>\n",
              "      <th>min</th>\n",
              "      <td>2018.000000</td>\n",
              "      <td>-8.395000</td>\n",
              "      <td>-2.304000</td>\n",
              "      <td>-7.428000</td>\n",
              "      <td>-20.191000</td>\n",
              "      <td>-1.471000</td>\n",
              "      <td>-24.346000</td>\n",
              "      <td>-3.328000</td>\n",
              "      <td>-114.829000</td>\n",
              "      <td>7.646000</td>\n",
              "      <td>...</td>\n",
              "      <td>8.603000</td>\n",
              "      <td>16.518000</td>\n",
              "      <td>41.070000</td>\n",
              "      <td>8.200000</td>\n",
              "      <td>1.462000</td>\n",
              "      <td>3.579000</td>\n",
              "      <td>2.027000</td>\n",
              "      <td>120.479000</td>\n",
              "      <td>231.39400</td>\n",
              "      <td>575.164000</td>\n",
              "    </tr>\n",
              "    <tr>\n",
              "      <th>25%</th>\n",
              "      <td>2018.750000</td>\n",
              "      <td>-2.107500</td>\n",
              "      <td>-0.626500</td>\n",
              "      <td>-7.245000</td>\n",
              "      <td>-19.187000</td>\n",
              "      <td>2.055500</td>\n",
              "      <td>36.768500</td>\n",
              "      <td>-1.326500</td>\n",
              "      <td>-46.134500</td>\n",
              "      <td>8.051000</td>\n",
              "      <td>...</td>\n",
              "      <td>12.540500</td>\n",
              "      <td>27.797250</td>\n",
              "      <td>59.573500</td>\n",
              "      <td>8.883250</td>\n",
              "      <td>7.596500</td>\n",
              "      <td>3.798500</td>\n",
              "      <td>8.286500</td>\n",
              "      <td>129.556000</td>\n",
              "      <td>256.81825</td>\n",
              "      <td>616.018500</td>\n",
              "    </tr>\n",
              "    <tr>\n",
              "      <th>50%</th>\n",
              "      <td>2019.500000</td>\n",
              "      <td>4.180000</td>\n",
              "      <td>1.051000</td>\n",
              "      <td>-7.062000</td>\n",
              "      <td>-18.183000</td>\n",
              "      <td>5.582000</td>\n",
              "      <td>97.883000</td>\n",
              "      <td>0.675000</td>\n",
              "      <td>22.560000</td>\n",
              "      <td>8.355500</td>\n",
              "      <td>...</td>\n",
              "      <td>16.478000</td>\n",
              "      <td>41.065500</td>\n",
              "      <td>78.077000</td>\n",
              "      <td>9.141500</td>\n",
              "      <td>13.731000</td>\n",
              "      <td>4.018000</td>\n",
              "      <td>14.546000</td>\n",
              "      <td>138.633000</td>\n",
              "      <td>266.84450</td>\n",
              "      <td>656.873000</td>\n",
              "    </tr>\n",
              "    <tr>\n",
              "      <th>75%</th>\n",
              "      <td>2020.250000</td>\n",
              "      <td>6.274500</td>\n",
              "      <td>1.585500</td>\n",
              "      <td>-2.370000</td>\n",
              "      <td>-6.170500</td>\n",
              "      <td>6.553500</td>\n",
              "      <td>110.296500</td>\n",
              "      <td>1.593500</td>\n",
              "      <td>53.561000</td>\n",
              "      <td>8.592000</td>\n",
              "      <td>...</td>\n",
              "      <td>18.056500</td>\n",
              "      <td>52.510500</td>\n",
              "      <td>85.225500</td>\n",
              "      <td>9.698750</td>\n",
              "      <td>14.399500</td>\n",
              "      <td>4.117500</td>\n",
              "      <td>16.349500</td>\n",
              "      <td>139.646500</td>\n",
              "      <td>285.69200</td>\n",
              "      <td>659.307500</td>\n",
              "    </tr>\n",
              "    <tr>\n",
              "      <th>max</th>\n",
              "      <td>2021.000000</td>\n",
              "      <td>8.369000</td>\n",
              "      <td>2.120000</td>\n",
              "      <td>2.322000</td>\n",
              "      <td>5.842000</td>\n",
              "      <td>7.525000</td>\n",
              "      <td>122.710000</td>\n",
              "      <td>2.512000</td>\n",
              "      <td>84.562000</td>\n",
              "      <td>8.793000</td>\n",
              "      <td>...</td>\n",
              "      <td>19.635000</td>\n",
              "      <td>58.320000</td>\n",
              "      <td>92.374000</td>\n",
              "      <td>11.279000</td>\n",
              "      <td>15.068000</td>\n",
              "      <td>4.217000</td>\n",
              "      <td>18.153000</td>\n",
              "      <td>140.660000</td>\n",
              "      <td>337.58000</td>\n",
              "      <td>661.742000</td>\n",
              "    </tr>\n",
              "  </tbody>\n",
              "</table>\n",
              "<p>8 rows × 126 columns</p>\n",
              "</div>"
            ],
            "text/plain": [
              "              year  coal_prod_change_pct  coal_prod_change_twh  \\\n",
              "count     4.000000              3.000000              3.000000   \n",
              "mean   2019.500000              1.384667              0.289000   \n",
              "std       1.290994              8.724583              2.308339   \n",
              "min    2018.000000             -8.395000             -2.304000   \n",
              "25%    2018.750000             -2.107500             -0.626500   \n",
              "50%    2019.500000              4.180000              1.051000   \n",
              "75%    2020.250000              6.274500              1.585500   \n",
              "max    2021.000000              8.369000              2.120000   \n",
              "\n",
              "       gas_prod_change_pct  gas_prod_change_twh  oil_prod_change_pct  \\\n",
              "count             3.000000             3.000000             3.000000   \n",
              "mean             -4.056000           -10.844000             3.878667   \n",
              "std               5.526541            14.485336             4.733710   \n",
              "min              -7.428000           -20.191000            -1.471000   \n",
              "25%              -7.245000           -19.187000             2.055500   \n",
              "50%              -7.062000           -18.183000             5.582000   \n",
              "75%              -2.370000            -6.170500             6.553500   \n",
              "max               2.322000             5.842000             7.525000   \n",
              "\n",
              "       oil_prod_change_twh  energy_cons_change_pct  energy_cons_change_twh  \\\n",
              "count             3.000000                3.000000                3.000000   \n",
              "mean             65.415667               -0.047000               -2.569000   \n",
              "std              78.720789                2.986195              102.043092   \n",
              "min             -24.346000               -3.328000             -114.829000   \n",
              "25%              36.768500               -1.326500              -46.134500   \n",
              "50%              97.883000                0.675000               22.560000   \n",
              "75%             110.296500                1.593500               53.561000   \n",
              "max             122.710000                2.512000               84.562000   \n",
              "\n",
              "       biofuel_share_elec  ...  solar_consumption  solar_elec_per_capita  \\\n",
              "count            4.000000  ...           3.000000               4.000000   \n",
              "mean             8.287500  ...          14.905333              39.242250   \n",
              "std              0.494557  ...           5.681656              18.866405   \n",
              "min              7.646000  ...           8.603000              16.518000   \n",
              "25%              8.051000  ...          12.540500              27.797250   \n",
              "50%              8.355500  ...          16.478000              41.065500   \n",
              "75%              8.592000  ...          18.056500              52.510500   \n",
              "max              8.793000  ...          19.635000              58.320000   \n",
              "\n",
              "       solar_energy_per_capita  wind_share_elec  wind_cons_change_pct  \\\n",
              "count                 3.000000         4.000000              3.000000   \n",
              "mean                 70.507000         9.440500             10.087000   \n",
              "std                  26.476476         1.303787              7.499324   \n",
              "min                  41.070000         8.200000              1.462000   \n",
              "25%                  59.573500         8.883250              7.596500   \n",
              "50%                  78.077000         9.141500             13.731000   \n",
              "75%                  85.225500         9.698750             14.399500   \n",
              "max                  92.374000        11.279000             15.068000   \n",
              "\n",
              "       wind_share_energy  wind_cons_change_twh  wind_consumption  \\\n",
              "count           3.000000              3.000000          3.000000   \n",
              "mean            3.938000             11.575333        133.257333   \n",
              "std             0.326437              8.463487         11.112674   \n",
              "min             3.579000              2.027000        120.479000   \n",
              "25%             3.798500              8.286500        129.556000   \n",
              "50%             4.018000             14.546000        138.633000   \n",
              "75%             4.117500             16.349500        139.646500   \n",
              "max             4.217000             18.153000        140.660000   \n",
              "\n",
              "       wind_elec_per_capita  wind_energy_per_capita  \n",
              "count               4.00000                3.000000  \n",
              "mean              275.66575              631.259667  \n",
              "std                44.54887               48.641234  \n",
              "min               231.39400              575.164000  \n",
              "25%               256.81825              616.018500  \n",
              "50%               266.84450              656.873000  \n",
              "75%               285.69200              659.307500  \n",
              "max               337.58000              661.742000  \n",
              "\n",
              "[8 rows x 126 columns]"
            ]
          },
          "execution_count": 19,
          "metadata": {},
          "output_type": "execute_result"
        }
      ],
      "source": [
        "actual_table.describe()"
      ]
    },
    {
      "cell_type": "code",
      "execution_count": 20,
      "metadata": {},
      "outputs": [
        {
          "data": {
            "text/plain": [
              "iso_code                  0\n",
              "country                   0\n",
              "year                      0\n",
              "coal_prod_change_pct      1\n",
              "coal_prod_change_twh      1\n",
              "                         ..\n",
              "wind_share_energy         1\n",
              "wind_cons_change_twh      1\n",
              "wind_consumption          1\n",
              "wind_elec_per_capita      0\n",
              "wind_energy_per_capita    1\n",
              "Length: 128, dtype: int64"
            ]
          },
          "execution_count": 20,
          "metadata": {},
          "output_type": "execute_result"
        }
      ],
      "source": [
        "# Quantidade de dados nulos em cada coluna da base geral\n",
        "\n",
        "actual_table.isnull().sum()\n"
      ]
    },
    {
      "cell_type": "code",
      "execution_count": 21,
      "metadata": {},
      "outputs": [
        {
          "name": "stdout",
          "output_type": "stream",
          "text": [
            "iso_code\n",
            "country\n",
            "year\n",
            "coal_prod_change_pct\n",
            "coal_prod_change_twh\n",
            "gas_prod_change_pct\n",
            "gas_prod_change_twh\n",
            "oil_prod_change_pct\n",
            "oil_prod_change_twh\n",
            "energy_cons_change_pct\n",
            "energy_cons_change_twh\n",
            "biofuel_share_elec\n",
            "biofuel_elec_per_capita\n",
            "biofuel_cons_change_pct\n",
            "biofuel_share_energy\n",
            "biofuel_cons_change_twh\n",
            "biofuel_consumption\n",
            "biofuel_cons_per_capita\n",
            "carbon_intensity_elec\n",
            "coal_share_elec\n",
            "coal_cons_change_pct\n",
            "coal_share_energy\n",
            "coal_cons_change_twh\n",
            "coal_consumption\n",
            "coal_elec_per_capita\n",
            "coal_cons_per_capita\n",
            "coal_production\n",
            "coal_prod_per_capita\n",
            "electricity_demand\n",
            "biofuel_electricity\n",
            "coal_electricity\n",
            "fossil_electricity\n",
            "gas_electricity\n",
            "hydro_electricity\n",
            "nuclear_electricity\n",
            "oil_electricity\n",
            "other_renewable_exc_biofuel_electricity\n",
            "other_renewable_electricity\n",
            "renewables_electricity\n",
            "solar_electricity\n",
            "wind_electricity\n",
            "electricity_generation\n",
            "greenhouse_gas_emissions\n",
            "energy_per_gdp\n",
            "energy_per_capita\n",
            "fossil_cons_change_pct\n",
            "fossil_share_energy\n",
            "fossil_cons_change_twh\n",
            "fossil_fuel_consumption\n",
            "fossil_energy_per_capita\n",
            "fossil_cons_per_capita\n",
            "fossil_share_elec\n",
            "gdp\n",
            "gas_share_elec\n",
            "gas_cons_change_pct\n",
            "gas_share_energy\n",
            "gas_cons_change_twh\n",
            "gas_consumption\n",
            "gas_elec_per_capita\n",
            "gas_energy_per_capita\n",
            "gas_production\n",
            "gas_prod_per_capita\n",
            "hydro_share_elec\n",
            "hydro_cons_change_pct\n",
            "hydro_share_energy\n",
            "hydro_cons_change_twh\n",
            "hydro_consumption\n",
            "hydro_elec_per_capita\n",
            "hydro_energy_per_capita\n",
            "low_carbon_share_elec\n",
            "low_carbon_electricity\n",
            "low_carbon_elec_per_capita\n",
            "low_carbon_cons_change_pct\n",
            "low_carbon_share_energy\n",
            "low_carbon_cons_change_twh\n",
            "low_carbon_consumption\n",
            "low_carbon_energy_per_capita\n",
            "net_elec_imports_share_demand\n",
            "net_elec_imports\n",
            "nuclear_share_elec\n",
            "nuclear_cons_change_pct\n",
            "nuclear_share_energy\n",
            "nuclear_cons_change_twh\n",
            "nuclear_consumption\n",
            "nuclear_elec_per_capita\n",
            "nuclear_energy_per_capita\n",
            "oil_share_elec\n",
            "oil_cons_change_pct\n",
            "oil_share_energy\n",
            "oil_cons_change_twh\n",
            "oil_consumption\n",
            "oil_elec_per_capita\n",
            "oil_energy_per_capita\n",
            "oil_production\n",
            "oil_prod_per_capita\n",
            "other_renewables_elec_per_capita_exc_biofuel\n",
            "other_renewables_elec_per_capita\n",
            "other_renewables_cons_change_pct\n",
            "other_renewables_share_energy\n",
            "other_renewables_cons_change_twh\n",
            "other_renewable_consumption\n",
            "other_renewables_share_elec_exc_biofuel\n",
            "other_renewables_share_elec\n",
            "other_renewables_energy_per_capita\n",
            "per_capita_electricity\n",
            "population\n",
            "primary_energy_consumption\n",
            "renewables_elec_per_capita\n",
            "renewables_share_elec\n",
            "renewables_cons_change_pct\n",
            "renewables_share_energy\n",
            "renewables_cons_change_twh\n",
            "renewables_consumption\n",
            "renewables_energy_per_capita\n",
            "solar_share_elec\n",
            "solar_cons_change_pct\n",
            "solar_share_energy\n",
            "solar_cons_change_twh\n",
            "solar_consumption\n",
            "solar_elec_per_capita\n",
            "solar_energy_per_capita\n",
            "wind_share_elec\n",
            "wind_cons_change_pct\n",
            "wind_share_energy\n",
            "wind_cons_change_twh\n",
            "wind_consumption\n",
            "wind_elec_per_capita\n",
            "wind_energy_per_capita\n"
          ]
        }
      ],
      "source": [
        "# Visualização de todas as colunas da base\n",
        "print(*pd.Series(actual_table.columns).to_list(), sep='\\n')"
      ]
    },
    {
      "attachments": {},
      "cell_type": "markdown",
      "metadata": {},
      "source": [
        " MWmed-dia = KWh / (1000*24)"
      ]
    },
    {
      "cell_type": "code",
      "execution_count": 22,
      "metadata": {},
      "outputs": [
        {
          "data": {
            "text/plain": [
              "Data\n",
              "2019    22822383.79\n",
              "2020    10355540.65\n",
              "Name: MWm, dtype: float64"
            ]
          },
          "execution_count": 22,
          "metadata": {},
          "output_type": "execute_result"
        }
      ],
      "source": [
        "# Consumo de energia em todo o Brasil por ano\n",
        "df_consumo = table[table['Data'] >= 2019]\n",
        "df_consumo = df_consumo.groupby('Data')['MWm'].sum()\n",
        "df_consumo # energia consumida em MWm\n"
      ]
    },
    {
      "cell_type": "code",
      "execution_count": 23,
      "metadata": {},
      "outputs": [
        {
          "data": {
            "text/html": [
              "<div>\n",
              "<style scoped>\n",
              "    .dataframe tbody tr th:only-of-type {\n",
              "        vertical-align: middle;\n",
              "    }\n",
              "\n",
              "    .dataframe tbody tr th {\n",
              "        vertical-align: top;\n",
              "    }\n",
              "\n",
              "    .dataframe thead th {\n",
              "        text-align: right;\n",
              "    }\n",
              "</style>\n",
              "<table border=\"1\" class=\"dataframe\">\n",
              "  <thead>\n",
              "    <tr style=\"text-align: right;\">\n",
              "      <th></th>\n",
              "      <th>year</th>\n",
              "      <th>population</th>\n",
              "      <th>per_capita_electricity</th>\n",
              "      <th>Geração (MWm)</th>\n",
              "    </tr>\n",
              "  </thead>\n",
              "  <tbody>\n",
              "    <tr>\n",
              "      <th>119</th>\n",
              "      <td>2019</td>\n",
              "      <td>211049520.0</td>\n",
              "      <td>2911.876</td>\n",
              "      <td>2.560625e+07</td>\n",
              "    </tr>\n",
              "    <tr>\n",
              "      <th>120</th>\n",
              "      <td>2020</td>\n",
              "      <td>212559408.0</td>\n",
              "      <td>2926.288</td>\n",
              "      <td>2.591709e+07</td>\n",
              "    </tr>\n",
              "  </tbody>\n",
              "</table>\n",
              "</div>"
            ],
            "text/plain": [
              "     year   population  per_capita_electricity  Geração (MWm)\n",
              "119  2019  211049520.0                2911.876   2.560625e+07\n",
              "120  2020  212559408.0                2926.288   2.591709e+07"
            ]
          },
          "execution_count": 23,
          "metadata": {},
          "output_type": "execute_result"
        }
      ],
      "source": [
        "# Geração de energia em todo o Brasil por ano\n",
        "df_generation = actual_table[(actual_table['year'] >= 2019) & (\n",
        "    actual_table['year'] <=2020)]\n",
        "df_generation = df_generation.loc[:, [\n",
        "    \"year\", \"population\", \"per_capita_electricity\"]]\n",
        "df_generation[\"Geração (MWm)\"] = (df_generation[\"population\"] * df_generation[\"per_capita_electricity\"])/24000\n",
        "df_generation\n"
      ]
    },
    {
      "cell_type": "code",
      "execution_count": 50,
      "metadata": {},
      "outputs": [
        {
          "data": {
            "image/png": "[encoded data removed]",
            "text/plain": [
              "<Figure size 640x480 with 1 Axes>"
            ]
          },
          "metadata": {},
          "output_type": "display_data"
        }
      ],
      "source": [
        "\n",
        "# Plot the first dataframe\n",
        "bar_width = 0.4\n",
        "plt.bar(df_consumo.index + bar_width/2, df_consumo.values,\n",
        "        bar_width, label='Consumo de Energia', color='#ECA06F')\n",
        "\n",
        "# Plot the second dataframe\n",
        "plt.bar(df_generation['year'] - bar_width/2,\n",
        "        df_generation['Geração (MWm)'], bar_width, label='Geração de Energia', color='#7CDCA9')\n",
        "\n",
        "plt.title(\"Diferença de Geração e Consumo de Energia em 2019 e 2020\", fontsize=12)\n",
        "plt.xticks(df_generation[\"year\"], labels=[\"2019\", \"2020\"])\n",
        "plt.xlabel('Ano', fontsize=12)\n",
        "plt.yticks(\n",
        "    np.arange(0, 30000000,5000000))\n",
        "plt.ylabel('Eletricidade (MWm)', fontsize=12)\n",
        "plt.legend(bbox_to_anchor=(1, 1), fontsize=10)\n",
        "# Add a legend\n",
        "plt.legend()\n",
        "\n",
        "# Show the plot\n",
        "plt.show()\n"
      ]
    },
    {
      "cell_type": "code",
      "execution_count": 25,
      "metadata": {},
      "outputs": [
        {
          "data": {
            "text/html": [
              "<div>\n",
              "<style scoped>\n",
              "    .dataframe tbody tr th:only-of-type {\n",
              "        vertical-align: middle;\n",
              "    }\n",
              "\n",
              "    .dataframe tbody tr th {\n",
              "        vertical-align: top;\n",
              "    }\n",
              "\n",
              "    .dataframe thead th {\n",
              "        text-align: right;\n",
              "    }\n",
              "</style>\n",
              "<table border=\"1\" class=\"dataframe\">\n",
              "  <thead>\n",
              "    <tr style=\"text-align: right;\">\n",
              "      <th></th>\n",
              "      <th>year</th>\n",
              "      <th>coal_prod_change_pct</th>\n",
              "      <th>coal_prod_change_twh</th>\n",
              "      <th>coal_share_elec</th>\n",
              "      <th>coal_cons_change_pct</th>\n",
              "      <th>coal_share_energy</th>\n",
              "      <th>coal_cons_change_twh</th>\n",
              "      <th>coal_consumption</th>\n",
              "      <th>coal_elec_per_capita</th>\n",
              "      <th>coal_cons_per_capita</th>\n",
              "      <th>coal_production</th>\n",
              "      <th>coal_prod_per_capita</th>\n",
              "      <th>coal_electricity</th>\n",
              "    </tr>\n",
              "  </thead>\n",
              "  <tbody>\n",
              "    <tr>\n",
              "      <th>0</th>\n",
              "      <td>2018</td>\n",
              "      <td>8.369</td>\n",
              "      <td>2.120</td>\n",
              "      <td>3.825</td>\n",
              "      <td>-2.219</td>\n",
              "      <td>5.673</td>\n",
              "      <td>-4.333</td>\n",
              "      <td>190.938</td>\n",
              "      <td>107.939</td>\n",
              "      <td>911.535</td>\n",
              "      <td>27.449</td>\n",
              "      <td>131.039</td>\n",
              "      <td>22.61</td>\n",
              "    </tr>\n",
              "    <tr>\n",
              "      <th>1</th>\n",
              "      <td>2019</td>\n",
              "      <td>-8.395</td>\n",
              "      <td>-2.304</td>\n",
              "      <td>3.796</td>\n",
              "      <td>-5.711</td>\n",
              "      <td>5.218</td>\n",
              "      <td>-10.904</td>\n",
              "      <td>180.034</td>\n",
              "      <td>110.543</td>\n",
              "      <td>853.044</td>\n",
              "      <td>25.144</td>\n",
              "      <td>119.139</td>\n",
              "      <td>23.33</td>\n",
              "    </tr>\n",
              "    <tr>\n",
              "      <th>2</th>\n",
              "      <td>2020</td>\n",
              "      <td>4.180</td>\n",
              "      <td>1.051</td>\n",
              "      <td>3.384</td>\n",
              "      <td>-10.670</td>\n",
              "      <td>4.822</td>\n",
              "      <td>-19.210</td>\n",
              "      <td>160.825</td>\n",
              "      <td>99.031</td>\n",
              "      <td>756.610</td>\n",
              "      <td>26.195</td>\n",
              "      <td>123.237</td>\n",
              "      <td>21.05</td>\n",
              "    </tr>\n",
              "    <tr>\n",
              "      <th>3</th>\n",
              "      <td>2021</td>\n",
              "      <td>NaN</td>\n",
              "      <td>NaN</td>\n",
              "      <td>4.153</td>\n",
              "      <td>NaN</td>\n",
              "      <td>NaN</td>\n",
              "      <td>NaN</td>\n",
              "      <td>NaN</td>\n",
              "      <td>124.303</td>\n",
              "      <td>NaN</td>\n",
              "      <td>NaN</td>\n",
              "      <td>NaN</td>\n",
              "      <td>26.60</td>\n",
              "    </tr>\n",
              "  </tbody>\n",
              "</table>\n",
              "</div>"
            ],
            "text/plain": [
              "   year  coal_prod_change_pct  coal_prod_change_twh  coal_share_elec  \\\n",
              "0  2018                 8.369                 2.120            3.825   \n",
              "1  2019                -8.395                -2.304            3.796   \n",
              "2  2020                 4.180                 1.051            3.384   \n",
              "3  2021                   NaN                   NaN            4.153   \n",
              "\n",
              "   coal_cons_change_pct  coal_share_energy  coal_cons_change_twh  \\\n",
              "0                -2.219              5.673                -4.333   \n",
              "1                -5.711              5.218               -10.904   \n",
              "2               -10.670              4.822               -19.210   \n",
              "3                   NaN                NaN                   NaN   \n",
              "\n",
              "   coal_consumption  coal_elec_per_capita  coal_cons_per_capita  \\\n",
              "0           190.938               107.939               911.535   \n",
              "1           180.034               110.543               853.044   \n",
              "2           160.825                99.031               756.610   \n",
              "3               NaN               124.303                   NaN   \n",
              "\n",
              "   coal_production  coal_prod_per_capita  coal_electricity  \n",
              "0           27.449               131.039             22.61  \n",
              "1           25.144               119.139             23.33  \n",
              "2           26.195               123.237             21.05  \n",
              "3              NaN                   NaN             26.60  "
            ]
          },
          "execution_count": 25,
          "metadata": {},
          "output_type": "execute_result"
        }
      ],
      "source": [
        "# Dataframe com informações apenas de carvão\n",
        "df = actual_table.loc[:, actual_table.columns.str.contains('coal')]\n",
        "df_coal = pd.concat((actual_table['year'], df), axis=1).reset_index(drop=True)\n",
        "df_coal"
      ]
    },
    {
      "cell_type": "code",
      "execution_count": 26,
      "metadata": {},
      "outputs": [
        {
          "data": {
            "text/html": [
              "<div>\n",
              "<style scoped>\n",
              "    .dataframe tbody tr th:only-of-type {\n",
              "        vertical-align: middle;\n",
              "    }\n",
              "\n",
              "    .dataframe tbody tr th {\n",
              "        vertical-align: top;\n",
              "    }\n",
              "\n",
              "    .dataframe thead th {\n",
              "        text-align: right;\n",
              "    }\n",
              "</style>\n",
              "<table border=\"1\" class=\"dataframe\">\n",
              "  <thead>\n",
              "    <tr style=\"text-align: right;\">\n",
              "      <th></th>\n",
              "      <th>year</th>\n",
              "      <th>gas_prod_change_pct</th>\n",
              "      <th>gas_prod_change_twh</th>\n",
              "      <th>gas_electricity</th>\n",
              "      <th>greenhouse_gas_emissions</th>\n",
              "      <th>gas_share_elec</th>\n",
              "      <th>gas_cons_change_pct</th>\n",
              "      <th>gas_share_energy</th>\n",
              "      <th>gas_cons_change_twh</th>\n",
              "      <th>gas_consumption</th>\n",
              "      <th>gas_elec_per_capita</th>\n",
              "      <th>gas_energy_per_capita</th>\n",
              "      <th>gas_production</th>\n",
              "      <th>gas_prod_per_capita</th>\n",
              "    </tr>\n",
              "  </thead>\n",
              "  <tbody>\n",
              "    <tr>\n",
              "      <th>0</th>\n",
              "      <td>2018</td>\n",
              "      <td>-7.428</td>\n",
              "      <td>-20.191</td>\n",
              "      <td>52.20</td>\n",
              "      <td>74.33</td>\n",
              "      <td>8.831</td>\n",
              "      <td>-4.627</td>\n",
              "      <td>10.663</td>\n",
              "      <td>-17.412</td>\n",
              "      <td>358.908</td>\n",
              "      <td>249.201</td>\n",
              "      <td>1713.417</td>\n",
              "      <td>251.624</td>\n",
              "      <td>1201.243</td>\n",
              "    </tr>\n",
              "    <tr>\n",
              "      <th>1</th>\n",
              "      <td>2019</td>\n",
              "      <td>2.322</td>\n",
              "      <td>5.842</td>\n",
              "      <td>57.66</td>\n",
              "      <td>76.58</td>\n",
              "      <td>9.382</td>\n",
              "      <td>-0.439</td>\n",
              "      <td>10.356</td>\n",
              "      <td>-1.574</td>\n",
              "      <td>357.333</td>\n",
              "      <td>273.206</td>\n",
              "      <td>1693.128</td>\n",
              "      <td>257.465</td>\n",
              "      <td>1219.928</td>\n",
              "    </tr>\n",
              "    <tr>\n",
              "      <th>2</th>\n",
              "      <td>2020</td>\n",
              "      <td>-7.062</td>\n",
              "      <td>-18.183</td>\n",
              "      <td>51.78</td>\n",
              "      <td>70.33</td>\n",
              "      <td>8.325</td>\n",
              "      <td>-10.117</td>\n",
              "      <td>9.629</td>\n",
              "      <td>-36.152</td>\n",
              "      <td>321.182</td>\n",
              "      <td>243.602</td>\n",
              "      <td>1511.022</td>\n",
              "      <td>239.282</td>\n",
              "      <td>1125.717</td>\n",
              "    </tr>\n",
              "    <tr>\n",
              "      <th>3</th>\n",
              "      <td>2021</td>\n",
              "      <td>NaN</td>\n",
              "      <td>NaN</td>\n",
              "      <td>78.33</td>\n",
              "      <td>92.66</td>\n",
              "      <td>12.230</td>\n",
              "      <td>NaN</td>\n",
              "      <td>NaN</td>\n",
              "      <td>NaN</td>\n",
              "      <td>NaN</td>\n",
              "      <td>366.039</td>\n",
              "      <td>NaN</td>\n",
              "      <td>NaN</td>\n",
              "      <td>NaN</td>\n",
              "    </tr>\n",
              "  </tbody>\n",
              "</table>\n",
              "</div>"
            ],
            "text/plain": [
              "   year  gas_prod_change_pct  gas_prod_change_twh  gas_electricity  \\\n",
              "0  2018               -7.428              -20.191            52.20   \n",
              "1  2019                2.322                5.842            57.66   \n",
              "2  2020               -7.062              -18.183            51.78   \n",
              "3  2021                  NaN                  NaN            78.33   \n",
              "\n",
              "   greenhouse_gas_emissions  gas_share_elec  gas_cons_change_pct  \\\n",
              "0                     74.33           8.831               -4.627   \n",
              "1                     76.58           9.382               -0.439   \n",
              "2                     70.33           8.325              -10.117   \n",
              "3                     92.66          12.230                  NaN   \n",
              "\n",
              "   gas_share_energy  gas_cons_change_twh  gas_consumption  \\\n",
              "0            10.663              -17.412          358.908   \n",
              "1            10.356               -1.574          357.333   \n",
              "2             9.629              -36.152          321.182   \n",
              "3               NaN                  NaN              NaN   \n",
              "\n",
              "   gas_elec_per_capita  gas_energy_per_capita  gas_production  \\\n",
              "0              249.201               1713.417         251.624   \n",
              "1              273.206               1693.128         257.465   \n",
              "2              243.602               1511.022         239.282   \n",
              "3              366.039                    NaN             NaN   \n",
              "\n",
              "   gas_prod_per_capita  \n",
              "0             1201.243  \n",
              "1             1219.928  \n",
              "2             1125.717  \n",
              "3                  NaN  "
            ]
          },
          "execution_count": 26,
          "metadata": {},
          "output_type": "execute_result"
        }
      ],
      "source": [
        "# Dataframe com informações apenas de gás\n",
        "df = actual_table.loc[:, actual_table.columns.str.contains('gas')]\n",
        "df_gas = pd.concat((actual_table['year'], df), axis=1).reset_index(drop=True)\n",
        "df_gas\n"
      ]
    },
    {
      "cell_type": "code",
      "execution_count": 27,
      "metadata": {},
      "outputs": [
        {
          "data": {
            "text/html": [
              "<div>\n",
              "<style scoped>\n",
              "    .dataframe tbody tr th:only-of-type {\n",
              "        vertical-align: middle;\n",
              "    }\n",
              "\n",
              "    .dataframe tbody tr th {\n",
              "        vertical-align: top;\n",
              "    }\n",
              "\n",
              "    .dataframe thead th {\n",
              "        text-align: right;\n",
              "    }\n",
              "</style>\n",
              "<table border=\"1\" class=\"dataframe\">\n",
              "  <thead>\n",
              "    <tr style=\"text-align: right;\">\n",
              "      <th></th>\n",
              "      <th>year</th>\n",
              "      <th>oil_prod_change_pct</th>\n",
              "      <th>oil_prod_change_twh</th>\n",
              "      <th>oil_electricity</th>\n",
              "      <th>oil_share_elec</th>\n",
              "      <th>oil_cons_change_pct</th>\n",
              "      <th>oil_share_energy</th>\n",
              "      <th>oil_cons_change_twh</th>\n",
              "      <th>oil_consumption</th>\n",
              "      <th>oil_elec_per_capita</th>\n",
              "      <th>oil_energy_per_capita</th>\n",
              "      <th>oil_production</th>\n",
              "      <th>oil_prod_per_capita</th>\n",
              "    </tr>\n",
              "  </thead>\n",
              "  <tbody>\n",
              "    <tr>\n",
              "      <th>0</th>\n",
              "      <td>2018</td>\n",
              "      <td>-1.471</td>\n",
              "      <td>-24.346</td>\n",
              "      <td>11.61</td>\n",
              "      <td>1.964</td>\n",
              "      <td>-3.750</td>\n",
              "      <td>38.963</td>\n",
              "      <td>-51.088</td>\n",
              "      <td>1311.409</td>\n",
              "      <td>55.426</td>\n",
              "      <td>6260.629</td>\n",
              "      <td>1630.797</td>\n",
              "      <td>7785.372</td>\n",
              "    </tr>\n",
              "    <tr>\n",
              "      <th>1</th>\n",
              "      <td>2019</td>\n",
              "      <td>7.525</td>\n",
              "      <td>122.710</td>\n",
              "      <td>9.40</td>\n",
              "      <td>1.530</td>\n",
              "      <td>1.887</td>\n",
              "      <td>38.725</td>\n",
              "      <td>24.751</td>\n",
              "      <td>1336.160</td>\n",
              "      <td>44.539</td>\n",
              "      <td>6331.029</td>\n",
              "      <td>1753.507</td>\n",
              "      <td>8308.508</td>\n",
              "    </tr>\n",
              "    <tr>\n",
              "      <th>2</th>\n",
              "      <td>2020</td>\n",
              "      <td>5.582</td>\n",
              "      <td>97.883</td>\n",
              "      <td>6.91</td>\n",
              "      <td>1.111</td>\n",
              "      <td>-4.228</td>\n",
              "      <td>38.364</td>\n",
              "      <td>-56.496</td>\n",
              "      <td>1279.664</td>\n",
              "      <td>32.509</td>\n",
              "      <td>6020.270</td>\n",
              "      <td>1851.390</td>\n",
              "      <td>8709.988</td>\n",
              "    </tr>\n",
              "    <tr>\n",
              "      <th>3</th>\n",
              "      <td>2021</td>\n",
              "      <td>NaN</td>\n",
              "      <td>NaN</td>\n",
              "      <td>15.32</td>\n",
              "      <td>2.392</td>\n",
              "      <td>NaN</td>\n",
              "      <td>NaN</td>\n",
              "      <td>NaN</td>\n",
              "      <td>NaN</td>\n",
              "      <td>71.591</td>\n",
              "      <td>NaN</td>\n",
              "      <td>NaN</td>\n",
              "      <td>NaN</td>\n",
              "    </tr>\n",
              "  </tbody>\n",
              "</table>\n",
              "</div>"
            ],
            "text/plain": [
              "   year  oil_prod_change_pct  oil_prod_change_twh  oil_electricity  \\\n",
              "0  2018               -1.471              -24.346            11.61   \n",
              "1  2019                7.525              122.710             9.40   \n",
              "2  2020                5.582               97.883             6.91   \n",
              "3  2021                  NaN                  NaN            15.32   \n",
              "\n",
              "   oil_share_elec  oil_cons_change_pct  oil_share_energy  oil_cons_change_twh  \\\n",
              "0           1.964               -3.750            38.963              -51.088   \n",
              "1           1.530                1.887            38.725               24.751   \n",
              "2           1.111               -4.228            38.364              -56.496   \n",
              "3           2.392                  NaN               NaN                  NaN   \n",
              "\n",
              "   oil_consumption  oil_elec_per_capita  oil_energy_per_capita  \\\n",
              "0         1311.409               55.426               6260.629   \n",
              "1         1336.160               44.539               6331.029   \n",
              "2         1279.664               32.509               6020.270   \n",
              "3              NaN               71.591                    NaN   \n",
              "\n",
              "   oil_production  oil_prod_per_capita  \n",
              "0        1630.797             7785.372  \n",
              "1        1753.507             8308.508  \n",
              "2        1851.390             8709.988  \n",
              "3             NaN                  NaN  "
            ]
          },
          "execution_count": 27,
          "metadata": {},
          "output_type": "execute_result"
        }
      ],
      "source": [
        "# Dataframe com informações apenas de óleo\n",
        "df = actual_table.loc[:, actual_table.columns.str.contains('oil')]\n",
        "df_oil = pd.concat((actual_table['year'], df), axis=1).reset_index(drop=True)\n",
        "df_oil\n"
      ]
    },
    {
      "cell_type": "code",
      "execution_count": 28,
      "metadata": {},
      "outputs": [
        {
          "data": {
            "text/html": [
              "<div>\n",
              "<style scoped>\n",
              "    .dataframe tbody tr th:only-of-type {\n",
              "        vertical-align: middle;\n",
              "    }\n",
              "\n",
              "    .dataframe tbody tr th {\n",
              "        vertical-align: top;\n",
              "    }\n",
              "\n",
              "    .dataframe thead th {\n",
              "        text-align: right;\n",
              "    }\n",
              "</style>\n",
              "<table border=\"1\" class=\"dataframe\">\n",
              "  <thead>\n",
              "    <tr style=\"text-align: right;\">\n",
              "      <th></th>\n",
              "      <th>year</th>\n",
              "      <th>biofuel_share_elec</th>\n",
              "      <th>biofuel_elec_per_capita</th>\n",
              "      <th>biofuel_cons_change_pct</th>\n",
              "      <th>biofuel_share_energy</th>\n",
              "      <th>biofuel_cons_change_twh</th>\n",
              "      <th>biofuel_consumption</th>\n",
              "      <th>biofuel_cons_per_capita</th>\n",
              "      <th>biofuel_electricity</th>\n",
              "    </tr>\n",
              "  </thead>\n",
              "  <tbody>\n",
              "    <tr>\n",
              "      <th>0</th>\n",
              "      <td>2018</td>\n",
              "      <td>8.793</td>\n",
              "      <td>248.103</td>\n",
              "      <td>15.999</td>\n",
              "      <td>6.971</td>\n",
              "      <td>32.361</td>\n",
              "      <td>234.628</td>\n",
              "      <td>1120.106</td>\n",
              "      <td>51.97</td>\n",
              "    </tr>\n",
              "    <tr>\n",
              "      <th>1</th>\n",
              "      <td>2019</td>\n",
              "      <td>8.525</td>\n",
              "      <td>248.236</td>\n",
              "      <td>11.062</td>\n",
              "      <td>7.552</td>\n",
              "      <td>25.954</td>\n",
              "      <td>260.582</td>\n",
              "      <td>1234.697</td>\n",
              "      <td>52.39</td>\n",
              "    </tr>\n",
              "    <tr>\n",
              "      <th>2</th>\n",
              "      <td>2020</td>\n",
              "      <td>8.186</td>\n",
              "      <td>239.557</td>\n",
              "      <td>-0.106</td>\n",
              "      <td>7.804</td>\n",
              "      <td>-0.277</td>\n",
              "      <td>260.305</td>\n",
              "      <td>1224.622</td>\n",
              "      <td>50.92</td>\n",
              "    </tr>\n",
              "    <tr>\n",
              "      <th>3</th>\n",
              "      <td>2021</td>\n",
              "      <td>7.646</td>\n",
              "      <td>228.839</td>\n",
              "      <td>NaN</td>\n",
              "      <td>NaN</td>\n",
              "      <td>NaN</td>\n",
              "      <td>NaN</td>\n",
              "      <td>NaN</td>\n",
              "      <td>48.97</td>\n",
              "    </tr>\n",
              "  </tbody>\n",
              "</table>\n",
              "</div>"
            ],
            "text/plain": [
              "   year  biofuel_share_elec  biofuel_elec_per_capita  biofuel_cons_change_pct  \\\n",
              "0  2018               8.793                  248.103                   15.999   \n",
              "1  2019               8.525                  248.236                   11.062   \n",
              "2  2020               8.186                  239.557                   -0.106   \n",
              "3  2021               7.646                  228.839                      NaN   \n",
              "\n",
              "   biofuel_share_energy  biofuel_cons_change_twh  biofuel_consumption  \\\n",
              "0                 6.971                   32.361              234.628   \n",
              "1                 7.552                   25.954              260.582   \n",
              "2                 7.804                   -0.277              260.305   \n",
              "3                   NaN                      NaN                  NaN   \n",
              "\n",
              "   biofuel_cons_per_capita  biofuel_electricity  \n",
              "0                 1120.106                51.97  \n",
              "1                 1234.697                52.39  \n",
              "2                 1224.622                50.92  \n",
              "3                      NaN                48.97  "
            ]
          },
          "execution_count": 28,
          "metadata": {},
          "output_type": "execute_result"
        }
      ],
      "source": [
        "# Dataframe com informações apenas de biocombustível\n",
        "df = actual_table.loc[:, actual_table.columns.str.contains('biofuel')]\n",
        "df_biofuel = pd.concat((actual_table['year'], df), axis=1).reset_index(drop=True)\n",
        "df_biofuel = df_biofuel.iloc[:, :-3]\n",
        "df_biofuel\n"
      ]
    },
    {
      "cell_type": "code",
      "execution_count": 29,
      "metadata": {},
      "outputs": [
        {
          "data": {
            "text/html": [
              "<div>\n",
              "<style scoped>\n",
              "    .dataframe tbody tr th:only-of-type {\n",
              "        vertical-align: middle;\n",
              "    }\n",
              "\n",
              "    .dataframe tbody tr th {\n",
              "        vertical-align: top;\n",
              "    }\n",
              "\n",
              "    .dataframe thead th {\n",
              "        text-align: right;\n",
              "    }\n",
              "</style>\n",
              "<table border=\"1\" class=\"dataframe\">\n",
              "  <thead>\n",
              "    <tr style=\"text-align: right;\">\n",
              "      <th></th>\n",
              "      <th>year</th>\n",
              "      <th>fossil_electricity</th>\n",
              "      <th>fossil_cons_change_pct</th>\n",
              "      <th>fossil_share_energy</th>\n",
              "      <th>fossil_cons_change_twh</th>\n",
              "      <th>fossil_fuel_consumption</th>\n",
              "      <th>fossil_energy_per_capita</th>\n",
              "      <th>fossil_cons_per_capita</th>\n",
              "      <th>fossil_share_elec</th>\n",
              "    </tr>\n",
              "  </thead>\n",
              "  <tbody>\n",
              "    <tr>\n",
              "      <th>0</th>\n",
              "      <td>2018</td>\n",
              "      <td>86.42</td>\n",
              "      <td>-3.766</td>\n",
              "      <td>55.299</td>\n",
              "      <td>-72.833</td>\n",
              "      <td>1861.256</td>\n",
              "      <td>8885.581</td>\n",
              "      <td>412.566</td>\n",
              "      <td>14.621</td>\n",
              "    </tr>\n",
              "    <tr>\n",
              "      <th>1</th>\n",
              "      <td>2019</td>\n",
              "      <td>90.39</td>\n",
              "      <td>0.659</td>\n",
              "      <td>54.299</td>\n",
              "      <td>12.272</td>\n",
              "      <td>1873.529</td>\n",
              "      <td>8877.200</td>\n",
              "      <td>428.288</td>\n",
              "      <td>14.708</td>\n",
              "    </tr>\n",
              "    <tr>\n",
              "      <th>2</th>\n",
              "      <td>2020</td>\n",
              "      <td>79.74</td>\n",
              "      <td>-5.970</td>\n",
              "      <td>52.815</td>\n",
              "      <td>-111.857</td>\n",
              "      <td>1761.672</td>\n",
              "      <td>8287.902</td>\n",
              "      <td>375.142</td>\n",
              "      <td>12.820</td>\n",
              "    </tr>\n",
              "    <tr>\n",
              "      <th>3</th>\n",
              "      <td>2021</td>\n",
              "      <td>120.25</td>\n",
              "      <td>NaN</td>\n",
              "      <td>NaN</td>\n",
              "      <td>NaN</td>\n",
              "      <td>NaN</td>\n",
              "      <td>NaN</td>\n",
              "      <td>561.933</td>\n",
              "      <td>18.776</td>\n",
              "    </tr>\n",
              "  </tbody>\n",
              "</table>\n",
              "</div>"
            ],
            "text/plain": [
              "   year  fossil_electricity  fossil_cons_change_pct  fossil_share_energy  \\\n",
              "0  2018               86.42                  -3.766               55.299   \n",
              "1  2019               90.39                   0.659               54.299   \n",
              "2  2020               79.74                  -5.970               52.815   \n",
              "3  2021              120.25                     NaN                  NaN   \n",
              "\n",
              "   fossil_cons_change_twh  fossil_fuel_consumption  fossil_energy_per_capita  \\\n",
              "0                 -72.833                 1861.256                  8885.581   \n",
              "1                  12.272                 1873.529                  8877.200   \n",
              "2                -111.857                 1761.672                  8287.902   \n",
              "3                     NaN                      NaN                       NaN   \n",
              "\n",
              "   fossil_cons_per_capita  fossil_share_elec  \n",
              "0                 412.566             14.621  \n",
              "1                 428.288             14.708  \n",
              "2                 375.142             12.820  \n",
              "3                 561.933             18.776  "
            ]
          },
          "execution_count": 29,
          "metadata": {},
          "output_type": "execute_result"
        }
      ],
      "source": [
        "# Dataframe com informações apenas de fóssil\n",
        "df = actual_table.loc[:, actual_table.columns.str.contains('fossil')]\n",
        "df_fossil = pd.concat((actual_table['year'], df), axis=1).reset_index(drop=True)\n",
        "df_fossil\n"
      ]
    },
    {
      "cell_type": "code",
      "execution_count": 30,
      "metadata": {},
      "outputs": [
        {
          "data": {
            "text/html": [
              "<div>\n",
              "<style scoped>\n",
              "    .dataframe tbody tr th:only-of-type {\n",
              "        vertical-align: middle;\n",
              "    }\n",
              "\n",
              "    .dataframe tbody tr th {\n",
              "        vertical-align: top;\n",
              "    }\n",
              "\n",
              "    .dataframe thead th {\n",
              "        text-align: right;\n",
              "    }\n",
              "</style>\n",
              "<table border=\"1\" class=\"dataframe\">\n",
              "  <thead>\n",
              "    <tr style=\"text-align: right;\">\n",
              "      <th></th>\n",
              "      <th>year</th>\n",
              "      <th>hydro_electricity</th>\n",
              "      <th>hydro_share_elec</th>\n",
              "      <th>hydro_cons_change_pct</th>\n",
              "      <th>hydro_share_energy</th>\n",
              "      <th>hydro_cons_change_twh</th>\n",
              "      <th>hydro_consumption</th>\n",
              "      <th>hydro_elec_per_capita</th>\n",
              "      <th>hydro_energy_per_capita</th>\n",
              "    </tr>\n",
              "  </thead>\n",
              "  <tbody>\n",
              "    <tr>\n",
              "      <th>0</th>\n",
              "      <td>2018</td>\n",
              "      <td>385.08</td>\n",
              "      <td>65.150</td>\n",
              "      <td>4.257</td>\n",
              "      <td>28.722</td>\n",
              "      <td>39.475</td>\n",
              "      <td>966.742</td>\n",
              "      <td>1838.360</td>\n",
              "      <td>4615.195</td>\n",
              "    </tr>\n",
              "    <tr>\n",
              "      <th>1</th>\n",
              "      <td>2019</td>\n",
              "      <td>393.90</td>\n",
              "      <td>64.096</td>\n",
              "      <td>1.912</td>\n",
              "      <td>28.554</td>\n",
              "      <td>18.489</td>\n",
              "      <td>985.231</td>\n",
              "      <td>1866.387</td>\n",
              "      <td>4668.243</td>\n",
              "    </tr>\n",
              "    <tr>\n",
              "      <th>2</th>\n",
              "      <td>2020</td>\n",
              "      <td>409.50</td>\n",
              "      <td>65.835</td>\n",
              "      <td>-0.637</td>\n",
              "      <td>29.349</td>\n",
              "      <td>-6.280</td>\n",
              "      <td>978.950</td>\n",
              "      <td>1926.520</td>\n",
              "      <td>4605.538</td>\n",
              "    </tr>\n",
              "    <tr>\n",
              "      <th>3</th>\n",
              "      <td>2021</td>\n",
              "      <td>371.81</td>\n",
              "      <td>58.054</td>\n",
              "      <td>NaN</td>\n",
              "      <td>NaN</td>\n",
              "      <td>NaN</td>\n",
              "      <td>NaN</td>\n",
              "      <td>1737.483</td>\n",
              "      <td>NaN</td>\n",
              "    </tr>\n",
              "  </tbody>\n",
              "</table>\n",
              "</div>"
            ],
            "text/plain": [
              "   year  hydro_electricity  hydro_share_elec  hydro_cons_change_pct  \\\n",
              "0  2018             385.08            65.150                  4.257   \n",
              "1  2019             393.90            64.096                  1.912   \n",
              "2  2020             409.50            65.835                 -0.637   \n",
              "3  2021             371.81            58.054                    NaN   \n",
              "\n",
              "   hydro_share_energy  hydro_cons_change_twh  hydro_consumption  \\\n",
              "0              28.722                 39.475            966.742   \n",
              "1              28.554                 18.489            985.231   \n",
              "2              29.349                 -6.280            978.950   \n",
              "3                 NaN                    NaN                NaN   \n",
              "\n",
              "   hydro_elec_per_capita  hydro_energy_per_capita  \n",
              "0               1838.360                 4615.195  \n",
              "1               1866.387                 4668.243  \n",
              "2               1926.520                 4605.538  \n",
              "3               1737.483                      NaN  "
            ]
          },
          "execution_count": 30,
          "metadata": {},
          "output_type": "execute_result"
        }
      ],
      "source": [
        "# Dataframe com informações apenas de Hidroelétricas\n",
        "df = actual_table.loc[:, actual_table.columns.str.contains('hydro')]\n",
        "df_hydro = pd.concat((actual_table['year'], df), axis=1).reset_index(drop=True)\n",
        "df_hydro\n"
      ]
    },
    {
      "cell_type": "code",
      "execution_count": 31,
      "metadata": {},
      "outputs": [
        {
          "data": {
            "text/html": [
              "<div>\n",
              "<style scoped>\n",
              "    .dataframe tbody tr th:only-of-type {\n",
              "        vertical-align: middle;\n",
              "    }\n",
              "\n",
              "    .dataframe tbody tr th {\n",
              "        vertical-align: top;\n",
              "    }\n",
              "\n",
              "    .dataframe thead th {\n",
              "        text-align: right;\n",
              "    }\n",
              "</style>\n",
              "<table border=\"1\" class=\"dataframe\">\n",
              "  <thead>\n",
              "    <tr style=\"text-align: right;\">\n",
              "      <th></th>\n",
              "      <th>year</th>\n",
              "      <th>low_carbon_share_elec</th>\n",
              "      <th>low_carbon_electricity</th>\n",
              "      <th>low_carbon_elec_per_capita</th>\n",
              "      <th>low_carbon_cons_change_pct</th>\n",
              "      <th>low_carbon_share_energy</th>\n",
              "      <th>low_carbon_cons_change_twh</th>\n",
              "      <th>low_carbon_consumption</th>\n",
              "      <th>low_carbon_energy_per_capita</th>\n",
              "    </tr>\n",
              "  </thead>\n",
              "  <tbody>\n",
              "    <tr>\n",
              "      <th>0</th>\n",
              "      <td>2018</td>\n",
              "      <td>85.379</td>\n",
              "      <td>504.65</td>\n",
              "      <td>2409.183</td>\n",
              "      <td>6.769</td>\n",
              "      <td>44.701</td>\n",
              "      <td>95.393</td>\n",
              "      <td>1504.568</td>\n",
              "      <td>7182.762</td>\n",
              "    </tr>\n",
              "    <tr>\n",
              "      <th>1</th>\n",
              "      <td>2019</td>\n",
              "      <td>85.292</td>\n",
              "      <td>524.16</td>\n",
              "      <td>2483.588</td>\n",
              "      <td>4.805</td>\n",
              "      <td>45.701</td>\n",
              "      <td>72.290</td>\n",
              "      <td>1576.858</td>\n",
              "      <td>7471.508</td>\n",
              "    </tr>\n",
              "    <tr>\n",
              "      <th>2</th>\n",
              "      <td>2020</td>\n",
              "      <td>87.180</td>\n",
              "      <td>542.27</td>\n",
              "      <td>2551.146</td>\n",
              "      <td>-0.188</td>\n",
              "      <td>47.185</td>\n",
              "      <td>-2.972</td>\n",
              "      <td>1573.886</td>\n",
              "      <td>7404.454</td>\n",
              "    </tr>\n",
              "    <tr>\n",
              "      <th>3</th>\n",
              "      <td>2021</td>\n",
              "      <td>81.224</td>\n",
              "      <td>520.21</td>\n",
              "      <td>2430.962</td>\n",
              "      <td>NaN</td>\n",
              "      <td>NaN</td>\n",
              "      <td>NaN</td>\n",
              "      <td>NaN</td>\n",
              "      <td>NaN</td>\n",
              "    </tr>\n",
              "  </tbody>\n",
              "</table>\n",
              "</div>"
            ],
            "text/plain": [
              "   year  low_carbon_share_elec  low_carbon_electricity  \\\n",
              "0  2018                 85.379                  504.65   \n",
              "1  2019                 85.292                  524.16   \n",
              "2  2020                 87.180                  542.27   \n",
              "3  2021                 81.224                  520.21   \n",
              "\n",
              "   low_carbon_elec_per_capita  low_carbon_cons_change_pct  \\\n",
              "0                    2409.183                       6.769   \n",
              "1                    2483.588                       4.805   \n",
              "2                    2551.146                      -0.188   \n",
              "3                    2430.962                         NaN   \n",
              "\n",
              "   low_carbon_share_energy  low_carbon_cons_change_twh  \\\n",
              "0                   44.701                      95.393   \n",
              "1                   45.701                      72.290   \n",
              "2                   47.185                      -2.972   \n",
              "3                      NaN                         NaN   \n",
              "\n",
              "   low_carbon_consumption  low_carbon_energy_per_capita  \n",
              "0                1504.568                      7182.762  \n",
              "1                1576.858                      7471.508  \n",
              "2                1573.886                      7404.454  \n",
              "3                     NaN                           NaN  "
            ]
          },
          "execution_count": 31,
          "metadata": {},
          "output_type": "execute_result"
        }
      ],
      "source": [
        "# Dataframe com informações apenas de baixo carbono\n",
        "df = actual_table.loc[:, actual_table.columns.str.contains('low_carbon')]\n",
        "df_lowcarbon = pd.concat((actual_table['year'], df), axis=1).reset_index(drop=True)\n",
        "df_lowcarbon\n"
      ]
    },
    {
      "cell_type": "code",
      "execution_count": 32,
      "metadata": {},
      "outputs": [
        {
          "data": {
            "text/html": [
              "<div>\n",
              "<style scoped>\n",
              "    .dataframe tbody tr th:only-of-type {\n",
              "        vertical-align: middle;\n",
              "    }\n",
              "\n",
              "    .dataframe tbody tr th {\n",
              "        vertical-align: top;\n",
              "    }\n",
              "\n",
              "    .dataframe thead th {\n",
              "        text-align: right;\n",
              "    }\n",
              "</style>\n",
              "<table border=\"1\" class=\"dataframe\">\n",
              "  <thead>\n",
              "    <tr style=\"text-align: right;\">\n",
              "      <th></th>\n",
              "      <th>year</th>\n",
              "      <th>nuclear_electricity</th>\n",
              "      <th>nuclear_share_elec</th>\n",
              "      <th>nuclear_cons_change_pct</th>\n",
              "      <th>nuclear_share_energy</th>\n",
              "      <th>nuclear_cons_change_twh</th>\n",
              "      <th>nuclear_consumption</th>\n",
              "      <th>nuclear_elec_per_capita</th>\n",
              "      <th>nuclear_energy_per_capita</th>\n",
              "    </tr>\n",
              "  </thead>\n",
              "  <tbody>\n",
              "    <tr>\n",
              "      <th>0</th>\n",
              "      <td>2018</td>\n",
              "      <td>15.67</td>\n",
              "      <td>2.651</td>\n",
              "      <td>-0.997</td>\n",
              "      <td>1.157</td>\n",
              "      <td>-0.392</td>\n",
              "      <td>38.956</td>\n",
              "      <td>74.808</td>\n",
              "      <td>185.973</td>\n",
              "    </tr>\n",
              "    <tr>\n",
              "      <th>1</th>\n",
              "      <td>2019</td>\n",
              "      <td>15.22</td>\n",
              "      <td>2.477</td>\n",
              "      <td>2.523</td>\n",
              "      <td>1.158</td>\n",
              "      <td>0.983</td>\n",
              "      <td>39.938</td>\n",
              "      <td>72.116</td>\n",
              "      <td>189.238</td>\n",
              "    </tr>\n",
              "    <tr>\n",
              "      <th>2</th>\n",
              "      <td>2020</td>\n",
              "      <td>14.05</td>\n",
              "      <td>2.259</td>\n",
              "      <td>-5.513</td>\n",
              "      <td>1.131</td>\n",
              "      <td>-2.202</td>\n",
              "      <td>37.737</td>\n",
              "      <td>66.099</td>\n",
              "      <td>177.534</td>\n",
              "    </tr>\n",
              "    <tr>\n",
              "      <th>3</th>\n",
              "      <td>2021</td>\n",
              "      <td>14.71</td>\n",
              "      <td>2.297</td>\n",
              "      <td>NaN</td>\n",
              "      <td>NaN</td>\n",
              "      <td>NaN</td>\n",
              "      <td>NaN</td>\n",
              "      <td>68.740</td>\n",
              "      <td>NaN</td>\n",
              "    </tr>\n",
              "  </tbody>\n",
              "</table>\n",
              "</div>"
            ],
            "text/plain": [
              "   year  nuclear_electricity  nuclear_share_elec  nuclear_cons_change_pct  \\\n",
              "0  2018                15.67               2.651                   -0.997   \n",
              "1  2019                15.22               2.477                    2.523   \n",
              "2  2020                14.05               2.259                   -5.513   \n",
              "3  2021                14.71               2.297                      NaN   \n",
              "\n",
              "   nuclear_share_energy  nuclear_cons_change_twh  nuclear_consumption  \\\n",
              "0                 1.157                   -0.392               38.956   \n",
              "1                 1.158                    0.983               39.938   \n",
              "2                 1.131                   -2.202               37.737   \n",
              "3                   NaN                      NaN                  NaN   \n",
              "\n",
              "   nuclear_elec_per_capita  nuclear_energy_per_capita  \n",
              "0                   74.808                    185.973  \n",
              "1                   72.116                    189.238  \n",
              "2                   66.099                    177.534  \n",
              "3                   68.740                        NaN  "
            ]
          },
          "execution_count": 32,
          "metadata": {},
          "output_type": "execute_result"
        }
      ],
      "source": [
        "# Dataframe com informações apenas de nuclear\n",
        "df = actual_table.loc[:, actual_table.columns.str.contains('nuclear')]\n",
        "df_nuclear = pd.concat((actual_table['year'], df), axis=1).reset_index(drop=True)\n",
        "df_nuclear\n"
      ]
    },
    {
      "cell_type": "code",
      "execution_count": 33,
      "metadata": {},
      "outputs": [
        {
          "data": {
            "text/html": [
              "<div>\n",
              "<style scoped>\n",
              "    .dataframe tbody tr th:only-of-type {\n",
              "        vertical-align: middle;\n",
              "    }\n",
              "\n",
              "    .dataframe tbody tr th {\n",
              "        vertical-align: top;\n",
              "    }\n",
              "\n",
              "    .dataframe thead th {\n",
              "        text-align: right;\n",
              "    }\n",
              "</style>\n",
              "<table border=\"1\" class=\"dataframe\">\n",
              "  <thead>\n",
              "    <tr style=\"text-align: right;\">\n",
              "      <th></th>\n",
              "      <th>year</th>\n",
              "      <th>other_renewables_elec_per_capita_exc_biofuel</th>\n",
              "      <th>other_renewables_elec_per_capita</th>\n",
              "      <th>other_renewables_cons_change_pct</th>\n",
              "      <th>other_renewables_share_energy</th>\n",
              "      <th>other_renewables_cons_change_twh</th>\n",
              "      <th>other_renewables_share_elec_exc_biofuel</th>\n",
              "      <th>other_renewables_share_elec</th>\n",
              "      <th>other_renewables_energy_per_capita</th>\n",
              "    </tr>\n",
              "  </thead>\n",
              "  <tbody>\n",
              "    <tr>\n",
              "      <th>0</th>\n",
              "      <td>2018</td>\n",
              "      <td>0.0</td>\n",
              "      <td>248.103</td>\n",
              "      <td>2.177</td>\n",
              "      <td>4.016</td>\n",
              "      <td>2.880</td>\n",
              "      <td>0.0</td>\n",
              "      <td>8.793</td>\n",
              "      <td>645.253</td>\n",
              "    </tr>\n",
              "    <tr>\n",
              "      <th>1</th>\n",
              "      <td>2019</td>\n",
              "      <td>0.0</td>\n",
              "      <td>248.236</td>\n",
              "      <td>0.618</td>\n",
              "      <td>3.941</td>\n",
              "      <td>0.835</td>\n",
              "      <td>0.0</td>\n",
              "      <td>8.525</td>\n",
              "      <td>644.380</td>\n",
              "    </tr>\n",
              "    <tr>\n",
              "      <th>2</th>\n",
              "      <td>2020</td>\n",
              "      <td>0.0</td>\n",
              "      <td>239.557</td>\n",
              "      <td>0.444</td>\n",
              "      <td>4.095</td>\n",
              "      <td>0.604</td>\n",
              "      <td>0.0</td>\n",
              "      <td>8.186</td>\n",
              "      <td>642.643</td>\n",
              "    </tr>\n",
              "    <tr>\n",
              "      <th>3</th>\n",
              "      <td>2021</td>\n",
              "      <td>0.0</td>\n",
              "      <td>228.839</td>\n",
              "      <td>NaN</td>\n",
              "      <td>NaN</td>\n",
              "      <td>NaN</td>\n",
              "      <td>0.0</td>\n",
              "      <td>7.646</td>\n",
              "      <td>NaN</td>\n",
              "    </tr>\n",
              "  </tbody>\n",
              "</table>\n",
              "</div>"
            ],
            "text/plain": [
              "   year  other_renewables_elec_per_capita_exc_biofuel  \\\n",
              "0  2018                                           0.0   \n",
              "1  2019                                           0.0   \n",
              "2  2020                                           0.0   \n",
              "3  2021                                           0.0   \n",
              "\n",
              "   other_renewables_elec_per_capita  other_renewables_cons_change_pct  \\\n",
              "0                           248.103                             2.177   \n",
              "1                           248.236                             0.618   \n",
              "2                           239.557                             0.444   \n",
              "3                           228.839                               NaN   \n",
              "\n",
              "   other_renewables_share_energy  other_renewables_cons_change_twh  \\\n",
              "0                          4.016                             2.880   \n",
              "1                          3.941                             0.835   \n",
              "2                          4.095                             0.604   \n",
              "3                            NaN                               NaN   \n",
              "\n",
              "   other_renewables_share_elec_exc_biofuel  other_renewables_share_elec  \\\n",
              "0                                      0.0                        8.793   \n",
              "1                                      0.0                        8.525   \n",
              "2                                      0.0                        8.186   \n",
              "3                                      0.0                        7.646   \n",
              "\n",
              "   other_renewables_energy_per_capita  \n",
              "0                             645.253  \n",
              "1                             644.380  \n",
              "2                             642.643  \n",
              "3                                 NaN  "
            ]
          },
          "execution_count": 33,
          "metadata": {},
          "output_type": "execute_result"
        }
      ],
      "source": [
        "# Dataframe com informações apenas de outros renováveis\n",
        "df = actual_table.loc[:, actual_table.columns.str.contains('other_renewables')]\n",
        "df_other_renewables = pd.concat(\n",
        "    (actual_table['year'], df), axis=1).reset_index(drop=True)\n",
        "df_other_renewables\n"
      ]
    },
    {
      "cell_type": "code",
      "execution_count": 34,
      "metadata": {},
      "outputs": [
        {
          "data": {
            "text/html": [
              "<div>\n",
              "<style scoped>\n",
              "    .dataframe tbody tr th:only-of-type {\n",
              "        vertical-align: middle;\n",
              "    }\n",
              "\n",
              "    .dataframe tbody tr th {\n",
              "        vertical-align: top;\n",
              "    }\n",
              "\n",
              "    .dataframe thead th {\n",
              "        text-align: right;\n",
              "    }\n",
              "</style>\n",
              "<table border=\"1\" class=\"dataframe\">\n",
              "  <thead>\n",
              "    <tr style=\"text-align: right;\">\n",
              "      <th></th>\n",
              "      <th>year</th>\n",
              "      <th>renewables_electricity</th>\n",
              "      <th>other_renewables_elec_per_capita_exc_biofuel</th>\n",
              "      <th>other_renewables_elec_per_capita</th>\n",
              "      <th>other_renewables_cons_change_pct</th>\n",
              "      <th>other_renewables_share_energy</th>\n",
              "      <th>other_renewables_cons_change_twh</th>\n",
              "      <th>other_renewables_share_elec_exc_biofuel</th>\n",
              "      <th>other_renewables_share_elec</th>\n",
              "      <th>other_renewables_energy_per_capita</th>\n",
              "      <th>renewables_elec_per_capita</th>\n",
              "      <th>renewables_share_elec</th>\n",
              "      <th>renewables_cons_change_pct</th>\n",
              "      <th>renewables_share_energy</th>\n",
              "      <th>renewables_cons_change_twh</th>\n",
              "      <th>renewables_consumption</th>\n",
              "      <th>renewables_energy_per_capita</th>\n",
              "    </tr>\n",
              "  </thead>\n",
              "  <tbody>\n",
              "    <tr>\n",
              "      <th>0</th>\n",
              "      <td>2018</td>\n",
              "      <td>488.98</td>\n",
              "      <td>0.0</td>\n",
              "      <td>248.103</td>\n",
              "      <td>2.177</td>\n",
              "      <td>4.016</td>\n",
              "      <td>2.880</td>\n",
              "      <td>0.0</td>\n",
              "      <td>8.793</td>\n",
              "      <td>645.253</td>\n",
              "      <td>2334.375</td>\n",
              "      <td>82.728</td>\n",
              "      <td>6.993</td>\n",
              "      <td>43.544</td>\n",
              "      <td>95.785</td>\n",
              "      <td>1465.613</td>\n",
              "      <td>6996.789</td>\n",
              "    </tr>\n",
              "    <tr>\n",
              "      <th>1</th>\n",
              "      <td>2019</td>\n",
              "      <td>508.94</td>\n",
              "      <td>0.0</td>\n",
              "      <td>248.236</td>\n",
              "      <td>0.618</td>\n",
              "      <td>3.941</td>\n",
              "      <td>0.835</td>\n",
              "      <td>0.0</td>\n",
              "      <td>8.525</td>\n",
              "      <td>644.380</td>\n",
              "      <td>2411.472</td>\n",
              "      <td>82.815</td>\n",
              "      <td>4.865</td>\n",
              "      <td>44.543</td>\n",
              "      <td>71.307</td>\n",
              "      <td>1536.920</td>\n",
              "      <td>7282.270</td>\n",
              "    </tr>\n",
              "    <tr>\n",
              "      <th>2</th>\n",
              "      <td>2020</td>\n",
              "      <td>528.22</td>\n",
              "      <td>0.0</td>\n",
              "      <td>239.557</td>\n",
              "      <td>0.444</td>\n",
              "      <td>4.095</td>\n",
              "      <td>0.604</td>\n",
              "      <td>0.0</td>\n",
              "      <td>8.186</td>\n",
              "      <td>642.643</td>\n",
              "      <td>2485.046</td>\n",
              "      <td>84.921</td>\n",
              "      <td>-0.050</td>\n",
              "      <td>46.054</td>\n",
              "      <td>-0.770</td>\n",
              "      <td>1536.150</td>\n",
              "      <td>7226.920</td>\n",
              "    </tr>\n",
              "    <tr>\n",
              "      <th>3</th>\n",
              "      <td>2021</td>\n",
              "      <td>505.50</td>\n",
              "      <td>0.0</td>\n",
              "      <td>228.839</td>\n",
              "      <td>NaN</td>\n",
              "      <td>NaN</td>\n",
              "      <td>NaN</td>\n",
              "      <td>0.0</td>\n",
              "      <td>7.646</td>\n",
              "      <td>NaN</td>\n",
              "      <td>2362.222</td>\n",
              "      <td>78.928</td>\n",
              "      <td>NaN</td>\n",
              "      <td>NaN</td>\n",
              "      <td>NaN</td>\n",
              "      <td>NaN</td>\n",
              "      <td>NaN</td>\n",
              "    </tr>\n",
              "  </tbody>\n",
              "</table>\n",
              "</div>"
            ],
            "text/plain": [
              "   year  renewables_electricity  other_renewables_elec_per_capita_exc_biofuel  \\\n",
              "0  2018                  488.98                                           0.0   \n",
              "1  2019                  508.94                                           0.0   \n",
              "2  2020                  528.22                                           0.0   \n",
              "3  2021                  505.50                                           0.0   \n",
              "\n",
              "   other_renewables_elec_per_capita  other_renewables_cons_change_pct  \\\n",
              "0                           248.103                             2.177   \n",
              "1                           248.236                             0.618   \n",
              "2                           239.557                             0.444   \n",
              "3                           228.839                               NaN   \n",
              "\n",
              "   other_renewables_share_energy  other_renewables_cons_change_twh  \\\n",
              "0                          4.016                             2.880   \n",
              "1                          3.941                             0.835   \n",
              "2                          4.095                             0.604   \n",
              "3                            NaN                               NaN   \n",
              "\n",
              "   other_renewables_share_elec_exc_biofuel  other_renewables_share_elec  \\\n",
              "0                                      0.0                        8.793   \n",
              "1                                      0.0                        8.525   \n",
              "2                                      0.0                        8.186   \n",
              "3                                      0.0                        7.646   \n",
              "\n",
              "   other_renewables_energy_per_capita  renewables_elec_per_capita  \\\n",
              "0                             645.253                    2334.375   \n",
              "1                             644.380                    2411.472   \n",
              "2                             642.643                    2485.046   \n",
              "3                                 NaN                    2362.222   \n",
              "\n",
              "   renewables_share_elec  renewables_cons_change_pct  renewables_share_energy  \\\n",
              "0                 82.728                       6.993                   43.544   \n",
              "1                 82.815                       4.865                   44.543   \n",
              "2                 84.921                      -0.050                   46.054   \n",
              "3                 78.928                         NaN                      NaN   \n",
              "\n",
              "   renewables_cons_change_twh  renewables_consumption  \\\n",
              "0                      95.785                1465.613   \n",
              "1                      71.307                1536.920   \n",
              "2                      -0.770                1536.150   \n",
              "3                         NaN                     NaN   \n",
              "\n",
              "   renewables_energy_per_capita  \n",
              "0                      6996.789  \n",
              "1                      7282.270  \n",
              "2                      7226.920  \n",
              "3                           NaN  "
            ]
          },
          "execution_count": 34,
          "metadata": {},
          "output_type": "execute_result"
        }
      ],
      "source": [
        "# Dataframe com informações apenas de renováveis\n",
        "df = actual_table.loc[:, actual_table.columns.str.contains('renewables')]\n",
        "df_renew = pd.concat((actual_table['year'], df), axis=1).reset_index(drop=True)\n",
        "df_renew\n"
      ]
    },
    {
      "cell_type": "code",
      "execution_count": 35,
      "metadata": {},
      "outputs": [
        {
          "data": {
            "text/html": [
              "<div>\n",
              "<style scoped>\n",
              "    .dataframe tbody tr th:only-of-type {\n",
              "        vertical-align: middle;\n",
              "    }\n",
              "\n",
              "    .dataframe tbody tr th {\n",
              "        vertical-align: top;\n",
              "    }\n",
              "\n",
              "    .dataframe thead th {\n",
              "        text-align: right;\n",
              "    }\n",
              "</style>\n",
              "<table border=\"1\" class=\"dataframe\">\n",
              "  <thead>\n",
              "    <tr style=\"text-align: right;\">\n",
              "      <th></th>\n",
              "      <th>year</th>\n",
              "      <th>solar_electricity</th>\n",
              "      <th>solar_share_elec</th>\n",
              "      <th>solar_cons_change_pct</th>\n",
              "      <th>solar_share_energy</th>\n",
              "      <th>solar_cons_change_twh</th>\n",
              "      <th>solar_consumption</th>\n",
              "      <th>solar_elec_per_capita</th>\n",
              "      <th>solar_energy_per_capita</th>\n",
              "    </tr>\n",
              "  </thead>\n",
              "  <tbody>\n",
              "    <tr>\n",
              "      <th>0</th>\n",
              "      <td>2018</td>\n",
              "      <td>3.46</td>\n",
              "      <td>0.585</td>\n",
              "      <td>313.698</td>\n",
              "      <td>0.256</td>\n",
              "      <td>6.523</td>\n",
              "      <td>8.603</td>\n",
              "      <td>16.518</td>\n",
              "      <td>41.070</td>\n",
              "    </tr>\n",
              "    <tr>\n",
              "      <th>1</th>\n",
              "      <td>2019</td>\n",
              "      <td>6.66</td>\n",
              "      <td>1.084</td>\n",
              "      <td>91.540</td>\n",
              "      <td>0.478</td>\n",
              "      <td>7.875</td>\n",
              "      <td>16.478</td>\n",
              "      <td>31.557</td>\n",
              "      <td>78.077</td>\n",
              "    </tr>\n",
              "    <tr>\n",
              "      <th>2</th>\n",
              "      <td>2020</td>\n",
              "      <td>10.75</td>\n",
              "      <td>1.728</td>\n",
              "      <td>19.158</td>\n",
              "      <td>0.589</td>\n",
              "      <td>3.157</td>\n",
              "      <td>19.635</td>\n",
              "      <td>50.574</td>\n",
              "      <td>92.374</td>\n",
              "    </tr>\n",
              "    <tr>\n",
              "      <th>3</th>\n",
              "      <td>2021</td>\n",
              "      <td>12.48</td>\n",
              "      <td>1.949</td>\n",
              "      <td>NaN</td>\n",
              "      <td>NaN</td>\n",
              "      <td>NaN</td>\n",
              "      <td>NaN</td>\n",
              "      <td>58.320</td>\n",
              "      <td>NaN</td>\n",
              "    </tr>\n",
              "  </tbody>\n",
              "</table>\n",
              "</div>"
            ],
            "text/plain": [
              "   year  solar_electricity  solar_share_elec  solar_cons_change_pct  \\\n",
              "0  2018               3.46             0.585                313.698   \n",
              "1  2019               6.66             1.084                 91.540   \n",
              "2  2020              10.75             1.728                 19.158   \n",
              "3  2021              12.48             1.949                    NaN   \n",
              "\n",
              "   solar_share_energy  solar_cons_change_twh  solar_consumption  \\\n",
              "0               0.256                  6.523              8.603   \n",
              "1               0.478                  7.875             16.478   \n",
              "2               0.589                  3.157             19.635   \n",
              "3                 NaN                    NaN                NaN   \n",
              "\n",
              "   solar_elec_per_capita  solar_energy_per_capita  \n",
              "0                 16.518                   41.070  \n",
              "1                 31.557                   78.077  \n",
              "2                 50.574                   92.374  \n",
              "3                 58.320                      NaN  "
            ]
          },
          "execution_count": 35,
          "metadata": {},
          "output_type": "execute_result"
        }
      ],
      "source": [
        "# Dataframe com informações apenas de energia solar\n",
        "df = actual_table.loc[:, actual_table.columns.str.contains('solar')]\n",
        "df_solar = pd.concat((actual_table['year'], df), axis=1).reset_index(drop=True)\n",
        "df_solar\n"
      ]
    },
    {
      "cell_type": "code",
      "execution_count": 36,
      "metadata": {},
      "outputs": [
        {
          "data": {
            "text/html": [
              "<div>\n",
              "<style scoped>\n",
              "    .dataframe tbody tr th:only-of-type {\n",
              "        vertical-align: middle;\n",
              "    }\n",
              "\n",
              "    .dataframe tbody tr th {\n",
              "        vertical-align: top;\n",
              "    }\n",
              "\n",
              "    .dataframe thead th {\n",
              "        text-align: right;\n",
              "    }\n",
              "</style>\n",
              "<table border=\"1\" class=\"dataframe\">\n",
              "  <thead>\n",
              "    <tr style=\"text-align: right;\">\n",
              "      <th></th>\n",
              "      <th>year</th>\n",
              "      <th>wind_electricity</th>\n",
              "      <th>wind_share_elec</th>\n",
              "      <th>wind_cons_change_pct</th>\n",
              "      <th>wind_share_energy</th>\n",
              "      <th>wind_cons_change_twh</th>\n",
              "      <th>wind_consumption</th>\n",
              "      <th>wind_elec_per_capita</th>\n",
              "      <th>wind_energy_per_capita</th>\n",
              "    </tr>\n",
              "  </thead>\n",
              "  <tbody>\n",
              "    <tr>\n",
              "      <th>0</th>\n",
              "      <td>2018</td>\n",
              "      <td>48.47</td>\n",
              "      <td>8.200</td>\n",
              "      <td>13.731</td>\n",
              "      <td>3.579</td>\n",
              "      <td>14.546</td>\n",
              "      <td>120.479</td>\n",
              "      <td>231.394</td>\n",
              "      <td>575.164</td>\n",
              "    </tr>\n",
              "    <tr>\n",
              "      <th>1</th>\n",
              "      <td>2019</td>\n",
              "      <td>55.99</td>\n",
              "      <td>9.111</td>\n",
              "      <td>15.068</td>\n",
              "      <td>4.018</td>\n",
              "      <td>18.153</td>\n",
              "      <td>138.633</td>\n",
              "      <td>265.293</td>\n",
              "      <td>656.873</td>\n",
              "    </tr>\n",
              "    <tr>\n",
              "      <th>2</th>\n",
              "      <td>2020</td>\n",
              "      <td>57.05</td>\n",
              "      <td>9.172</td>\n",
              "      <td>1.462</td>\n",
              "      <td>4.217</td>\n",
              "      <td>2.027</td>\n",
              "      <td>140.660</td>\n",
              "      <td>268.396</td>\n",
              "      <td>661.742</td>\n",
              "    </tr>\n",
              "    <tr>\n",
              "      <th>3</th>\n",
              "      <td>2021</td>\n",
              "      <td>72.24</td>\n",
              "      <td>11.279</td>\n",
              "      <td>NaN</td>\n",
              "      <td>NaN</td>\n",
              "      <td>NaN</td>\n",
              "      <td>NaN</td>\n",
              "      <td>337.580</td>\n",
              "      <td>NaN</td>\n",
              "    </tr>\n",
              "  </tbody>\n",
              "</table>\n",
              "</div>"
            ],
            "text/plain": [
              "   year  wind_electricity  wind_share_elec  wind_cons_change_pct  \\\n",
              "0  2018             48.47            8.200                13.731   \n",
              "1  2019             55.99            9.111                15.068   \n",
              "2  2020             57.05            9.172                 1.462   \n",
              "3  2021             72.24           11.279                   NaN   \n",
              "\n",
              "   wind_share_energy  wind_cons_change_twh  wind_consumption  \\\n",
              "0              3.579                14.546           120.479   \n",
              "1              4.018                18.153           138.633   \n",
              "2              4.217                 2.027           140.660   \n",
              "3                NaN                   NaN               NaN   \n",
              "\n",
              "   wind_elec_per_capita  wind_energy_per_capita  \n",
              "0               231.394                 575.164  \n",
              "1               265.293                 656.873  \n",
              "2               268.396                 661.742  \n",
              "3               337.580                     NaN  "
            ]
          },
          "execution_count": 36,
          "metadata": {},
          "output_type": "execute_result"
        }
      ],
      "source": [
        "# Dataframe com informações apenas de energia eólica\n",
        "df = actual_table.loc[:, actual_table.columns.str.contains('wind')]\n",
        "df_wind = pd.concat((actual_table['year'], df), axis=1).reset_index(drop=True)\n",
        "df_wind\n"
      ]
    },
    {
      "cell_type": "code",
      "execution_count": 37,
      "metadata": {},
      "outputs": [
        {
          "data": {
            "text/html": [
              "<div>\n",
              "<style scoped>\n",
              "    .dataframe tbody tr th:only-of-type {\n",
              "        vertical-align: middle;\n",
              "    }\n",
              "\n",
              "    .dataframe tbody tr th {\n",
              "        vertical-align: top;\n",
              "    }\n",
              "\n",
              "    .dataframe thead th {\n",
              "        text-align: right;\n",
              "    }\n",
              "</style>\n",
              "<table border=\"1\" class=\"dataframe\">\n",
              "  <thead>\n",
              "    <tr style=\"text-align: right;\">\n",
              "      <th></th>\n",
              "      <th>year</th>\n",
              "      <th>electricity_demand</th>\n",
              "      <th>biofuel_electricity</th>\n",
              "      <th>coal_electricity</th>\n",
              "      <th>fossil_electricity</th>\n",
              "      <th>gas_electricity</th>\n",
              "      <th>hydro_electricity</th>\n",
              "      <th>nuclear_electricity</th>\n",
              "      <th>oil_electricity</th>\n",
              "      <th>other_renewable_exc_biofuel_electricity</th>\n",
              "      <th>other_renewable_electricity</th>\n",
              "      <th>renewables_electricity</th>\n",
              "      <th>solar_electricity</th>\n",
              "      <th>wind_electricity</th>\n",
              "      <th>electricity_generation</th>\n",
              "      <th>low_carbon_electricity</th>\n",
              "      <th>per_capita_electricity</th>\n",
              "    </tr>\n",
              "  </thead>\n",
              "  <tbody>\n",
              "    <tr>\n",
              "      <th>0</th>\n",
              "      <td>2018</td>\n",
              "      <td>626.05</td>\n",
              "      <td>51.97</td>\n",
              "      <td>22.61</td>\n",
              "      <td>86.42</td>\n",
              "      <td>52.20</td>\n",
              "      <td>385.08</td>\n",
              "      <td>15.67</td>\n",
              "      <td>11.61</td>\n",
              "      <td>0.0</td>\n",
              "      <td>51.97</td>\n",
              "      <td>488.98</td>\n",
              "      <td>3.46</td>\n",
              "      <td>48.47</td>\n",
              "      <td>591.07</td>\n",
              "      <td>504.65</td>\n",
              "      <td>2821.750</td>\n",
              "    </tr>\n",
              "    <tr>\n",
              "      <th>1</th>\n",
              "      <td>2019</td>\n",
              "      <td>639.51</td>\n",
              "      <td>52.39</td>\n",
              "      <td>23.33</td>\n",
              "      <td>90.39</td>\n",
              "      <td>57.66</td>\n",
              "      <td>393.90</td>\n",
              "      <td>15.22</td>\n",
              "      <td>9.40</td>\n",
              "      <td>0.0</td>\n",
              "      <td>52.39</td>\n",
              "      <td>508.94</td>\n",
              "      <td>6.66</td>\n",
              "      <td>55.99</td>\n",
              "      <td>614.55</td>\n",
              "      <td>524.16</td>\n",
              "      <td>2911.876</td>\n",
              "    </tr>\n",
              "    <tr>\n",
              "      <th>2</th>\n",
              "      <td>2020</td>\n",
              "      <td>646.73</td>\n",
              "      <td>50.92</td>\n",
              "      <td>21.05</td>\n",
              "      <td>79.74</td>\n",
              "      <td>51.78</td>\n",
              "      <td>409.50</td>\n",
              "      <td>14.05</td>\n",
              "      <td>6.91</td>\n",
              "      <td>0.0</td>\n",
              "      <td>50.92</td>\n",
              "      <td>528.22</td>\n",
              "      <td>10.75</td>\n",
              "      <td>57.05</td>\n",
              "      <td>622.01</td>\n",
              "      <td>542.27</td>\n",
              "      <td>2926.288</td>\n",
              "    </tr>\n",
              "    <tr>\n",
              "      <th>3</th>\n",
              "      <td>2021</td>\n",
              "      <td>665.18</td>\n",
              "      <td>48.97</td>\n",
              "      <td>26.60</td>\n",
              "      <td>120.25</td>\n",
              "      <td>78.33</td>\n",
              "      <td>371.81</td>\n",
              "      <td>14.71</td>\n",
              "      <td>15.32</td>\n",
              "      <td>0.0</td>\n",
              "      <td>48.97</td>\n",
              "      <td>505.50</td>\n",
              "      <td>12.48</td>\n",
              "      <td>72.24</td>\n",
              "      <td>640.46</td>\n",
              "      <td>520.21</td>\n",
              "      <td>2992.895</td>\n",
              "    </tr>\n",
              "  </tbody>\n",
              "</table>\n",
              "</div>"
            ],
            "text/plain": [
              "   year  electricity_demand  biofuel_electricity  coal_electricity  \\\n",
              "0  2018              626.05                51.97             22.61   \n",
              "1  2019              639.51                52.39             23.33   \n",
              "2  2020              646.73                50.92             21.05   \n",
              "3  2021              665.18                48.97             26.60   \n",
              "\n",
              "   fossil_electricity  gas_electricity  hydro_electricity  \\\n",
              "0               86.42            52.20             385.08   \n",
              "1               90.39            57.66             393.90   \n",
              "2               79.74            51.78             409.50   \n",
              "3              120.25            78.33             371.81   \n",
              "\n",
              "   nuclear_electricity  oil_electricity  \\\n",
              "0                15.67            11.61   \n",
              "1                15.22             9.40   \n",
              "2                14.05             6.91   \n",
              "3                14.71            15.32   \n",
              "\n",
              "   other_renewable_exc_biofuel_electricity  other_renewable_electricity  \\\n",
              "0                                      0.0                        51.97   \n",
              "1                                      0.0                        52.39   \n",
              "2                                      0.0                        50.92   \n",
              "3                                      0.0                        48.97   \n",
              "\n",
              "   renewables_electricity  solar_electricity  wind_electricity  \\\n",
              "0                  488.98               3.46             48.47   \n",
              "1                  508.94               6.66             55.99   \n",
              "2                  528.22              10.75             57.05   \n",
              "3                  505.50              12.48             72.24   \n",
              "\n",
              "   electricity_generation  low_carbon_electricity  per_capita_electricity  \n",
              "0                  591.07                  504.65                2821.750  \n",
              "1                  614.55                  524.16                2911.876  \n",
              "2                  622.01                  542.27                2926.288  \n",
              "3                  640.46                  520.21                2992.895  "
            ]
          },
          "execution_count": 37,
          "metadata": {},
          "output_type": "execute_result"
        }
      ],
      "source": [
        "# Dataframe com informações apenas de eletricidade\n",
        "df = actual_table.loc[:, actual_table.columns.str.contains('electricity')]\n",
        "df_elec = pd.concat((actual_table['year'], df), axis=1).reset_index(drop=True)\n",
        "df_elec\n"
      ]
    }
  ],
  "metadata": {
    "colab": {
      "provenance": []
    },
    "kernelspec": {
      "display_name": "Python 3",
      "language": "python",
      "name": "python3"
    },
    "language_info": {
      "codemirror_mode": {
        "name": "ipython",
        "version": 3
      },
      "file_extension": ".py",
      "mimetype": "text/x-python",
      "name": "python",
      "nbconvert_exporter": "python",
      "pygments_lexer": "ipython3",
      "version": "3.10.7"
    },
    "vscode": {
      "interpreter": {
        "hash": "70a5e680a946ee3d12b9aa5ba6ffdd97058cc06d5dbd336ef374ee0007b8a264"
      }
    }
  },
  "nbformat": 4,
  "nbformat_minor": 0
}
