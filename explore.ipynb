{
 "cells": [
  {
   "cell_type": "code",
   "execution_count": 47,
   "metadata": {},
   "outputs": [
    {
     "name": "stdout",
     "output_type": "stream",
     "text": [
      "Requirement already satisfied: plotly in c:\\users\\hiago\\anaconda3\\envs\\machine\\lib\\site-packages (5.12.0)\n",
      "Requirement already satisfied: tenacity>=6.2.0 in c:\\users\\hiago\\anaconda3\\envs\\machine\\lib\\site-packages (from plotly) (8.1.0)\n",
      "Requirement already satisfied: nbformat in c:\\users\\hiago\\anaconda3\\envs\\machine\\lib\\site-packages (5.7.3)\n",
      "Requirement already satisfied: jsonschema>=2.6 in c:\\users\\hiago\\anaconda3\\envs\\machine\\lib\\site-packages (from nbformat) (4.17.3)\n",
      "Requirement already satisfied: fastjsonschema in c:\\users\\hiago\\anaconda3\\envs\\machine\\lib\\site-packages (from nbformat) (2.16.2)\n",
      "Requirement already satisfied: traitlets>=5.1 in c:\\users\\hiago\\anaconda3\\envs\\machine\\lib\\site-packages (from nbformat) (5.3.0)\n",
      "Requirement already satisfied: jupyter-core in c:\\users\\hiago\\anaconda3\\envs\\machine\\lib\\site-packages (from nbformat) (4.11.1)\n",
      "Requirement already satisfied: pkgutil-resolve-name>=1.3.10 in c:\\users\\hiago\\anaconda3\\envs\\machine\\lib\\site-packages (from jsonschema>=2.6->nbformat) (1.3.10)\n",
      "Requirement already satisfied: attrs>=17.4.0 in c:\\users\\hiago\\anaconda3\\envs\\machine\\lib\\site-packages (from jsonschema>=2.6->nbformat) (22.2.0)\n",
      "Requirement already satisfied: importlib-resources>=1.4.0 in c:\\users\\hiago\\anaconda3\\envs\\machine\\lib\\site-packages (from jsonschema>=2.6->nbformat) (5.10.2)\n",
      "Requirement already satisfied: pyrsistent!=0.17.0,!=0.17.1,!=0.17.2,>=0.14.0 in c:\\users\\hiago\\anaconda3\\envs\\machine\\lib\\site-packages (from jsonschema>=2.6->nbformat) (0.19.3)\n",
      "Requirement already satisfied: pywin32>=1.0 in c:\\users\\hiago\\anaconda3\\envs\\machine\\lib\\site-packages (from jupyter-core->nbformat) (303)\n",
      "Requirement already satisfied: zipp>=3.1.0 in c:\\users\\hiago\\anaconda3\\envs\\machine\\lib\\site-packages (from importlib-resources>=1.4.0->jsonschema>=2.6->nbformat) (3.11.0)\n",
      "Requirement already satisfied: nbformat in c:\\users\\hiago\\anaconda3\\envs\\machine\\lib\\site-packages (5.7.3)\n",
      "Requirement already satisfied: jsonschema>=2.6 in c:\\users\\hiago\\anaconda3\\envs\\machine\\lib\\site-packages (from nbformat) (4.17.3)\n",
      "Requirement already satisfied: fastjsonschema in c:\\users\\hiago\\anaconda3\\envs\\machine\\lib\\site-packages (from nbformat) (2.16.2)\n",
      "Requirement already satisfied: traitlets>=5.1 in c:\\users\\hiago\\anaconda3\\envs\\machine\\lib\\site-packages (from nbformat) (5.3.0)\n",
      "Requirement already satisfied: jupyter-core in c:\\users\\hiago\\anaconda3\\envs\\machine\\lib\\site-packages (from nbformat) (4.11.1)\n",
      "Requirement already satisfied: attrs>=17.4.0 in c:\\users\\hiago\\anaconda3\\envs\\machine\\lib\\site-packages (from jsonschema>=2.6->nbformat) (22.2.0)\n",
      "Requirement already satisfied: pyrsistent!=0.17.0,!=0.17.1,!=0.17.2,>=0.14.0 in c:\\users\\hiago\\anaconda3\\envs\\machine\\lib\\site-packages (from jsonschema>=2.6->nbformat) (0.19.3)\n",
      "Requirement already satisfied: pkgutil-resolve-name>=1.3.10 in c:\\users\\hiago\\anaconda3\\envs\\machine\\lib\\site-packages (from jsonschema>=2.6->nbformat) (1.3.10)\n",
      "Requirement already satisfied: importlib-resources>=1.4.0 in c:\\users\\hiago\\anaconda3\\envs\\machine\\lib\\site-packages (from jsonschema>=2.6->nbformat) (5.10.2)\n",
      "Requirement already satisfied: pywin32>=1.0 in c:\\users\\hiago\\anaconda3\\envs\\machine\\lib\\site-packages (from jupyter-core->nbformat) (303)\n",
      "Requirement already satisfied: zipp>=3.1.0 in c:\\users\\hiago\\anaconda3\\envs\\machine\\lib\\site-packages (from importlib-resources>=1.4.0->jsonschema>=2.6->nbformat) (3.11.0)\n"
     ]
    },
    {
     "data": {
      "text/html": [
       "<div>\n",
       "<style scoped>\n",
       "    .dataframe tbody tr th:only-of-type {\n",
       "        vertical-align: middle;\n",
       "    }\n",
       "\n",
       "    .dataframe tbody tr th {\n",
       "        vertical-align: top;\n",
       "    }\n",
       "\n",
       "    .dataframe thead th {\n",
       "        text-align: right;\n",
       "    }\n",
       "</style>\n",
       "<table border=\"1\" class=\"dataframe\">\n",
       "  <thead>\n",
       "    <tr style=\"text-align: right;\">\n",
       "      <th></th>\n",
       "      <th>Data</th>\n",
       "      <th>Classe</th>\n",
       "      <th>Ramo</th>\n",
       "      <th>Submercado</th>\n",
       "      <th>UF</th>\n",
       "      <th>Consumo</th>\n",
       "      <th>Covid</th>\n",
       "    </tr>\n",
       "  </thead>\n",
       "  <tbody>\n",
       "    <tr>\n",
       "      <th>0</th>\n",
       "      <td>01/07/2018</td>\n",
       "      <td>Autoprodutor</td>\n",
       "      <td>ALIMENTÍCIOS</td>\n",
       "      <td>NORDESTE</td>\n",
       "      <td>PE</td>\n",
       "      <td>0.01</td>\n",
       "      <td>0</td>\n",
       "    </tr>\n",
       "    <tr>\n",
       "      <th>1</th>\n",
       "      <td>01/07/2018</td>\n",
       "      <td>Autoprodutor</td>\n",
       "      <td>ALIMENTÍCIOS</td>\n",
       "      <td>SUDESTE / CENTRO-OESTE</td>\n",
       "      <td>MG</td>\n",
       "      <td>0.00</td>\n",
       "      <td>0</td>\n",
       "    </tr>\n",
       "    <tr>\n",
       "      <th>2</th>\n",
       "      <td>01/07/2018</td>\n",
       "      <td>Autoprodutor</td>\n",
       "      <td>ALIMENTÍCIOS</td>\n",
       "      <td>SUDESTE / CENTRO-OESTE</td>\n",
       "      <td>MT</td>\n",
       "      <td>0.68</td>\n",
       "      <td>0</td>\n",
       "    </tr>\n",
       "    <tr>\n",
       "      <th>3</th>\n",
       "      <td>01/07/2018</td>\n",
       "      <td>Autoprodutor</td>\n",
       "      <td>ALIMENTÍCIOS</td>\n",
       "      <td>SUL</td>\n",
       "      <td>SC</td>\n",
       "      <td>1.88</td>\n",
       "      <td>0</td>\n",
       "    </tr>\n",
       "    <tr>\n",
       "      <th>4</th>\n",
       "      <td>01/07/2018</td>\n",
       "      <td>Autoprodutor</td>\n",
       "      <td>ALIMENTÍCIOS</td>\n",
       "      <td>SUL</td>\n",
       "      <td>RS</td>\n",
       "      <td>0.04</td>\n",
       "      <td>0</td>\n",
       "    </tr>\n",
       "    <tr>\n",
       "      <th>...</th>\n",
       "      <td>...</td>\n",
       "      <td>...</td>\n",
       "      <td>...</td>\n",
       "      <td>...</td>\n",
       "      <td>...</td>\n",
       "      <td>...</td>\n",
       "      <td>...</td>\n",
       "    </tr>\n",
       "    <tr>\n",
       "      <th>418606</th>\n",
       "      <td>19/06/2020</td>\n",
       "      <td>Distribuidor</td>\n",
       "      <td>ACR</td>\n",
       "      <td>SUDESTE / CENTRO-OESTE</td>\n",
       "      <td>DF</td>\n",
       "      <td>689.19</td>\n",
       "      <td>1</td>\n",
       "    </tr>\n",
       "    <tr>\n",
       "      <th>418607</th>\n",
       "      <td>19/06/2020</td>\n",
       "      <td>Distribuidor</td>\n",
       "      <td>ACR</td>\n",
       "      <td>SUDESTE / CENTRO-OESTE</td>\n",
       "      <td>AC</td>\n",
       "      <td>121.34</td>\n",
       "      <td>1</td>\n",
       "    </tr>\n",
       "    <tr>\n",
       "      <th>418608</th>\n",
       "      <td>19/06/2020</td>\n",
       "      <td>Distribuidor</td>\n",
       "      <td>ACR</td>\n",
       "      <td>SUL</td>\n",
       "      <td>SC</td>\n",
       "      <td>2012.83</td>\n",
       "      <td>1</td>\n",
       "    </tr>\n",
       "    <tr>\n",
       "      <th>418609</th>\n",
       "      <td>19/06/2020</td>\n",
       "      <td>Distribuidor</td>\n",
       "      <td>ACR</td>\n",
       "      <td>SUL</td>\n",
       "      <td>RS</td>\n",
       "      <td>2310.67</td>\n",
       "      <td>1</td>\n",
       "    </tr>\n",
       "    <tr>\n",
       "      <th>418610</th>\n",
       "      <td>19/06/2020</td>\n",
       "      <td>Distribuidor</td>\n",
       "      <td>ACR</td>\n",
       "      <td>SUL</td>\n",
       "      <td>PR</td>\n",
       "      <td>2443.64</td>\n",
       "      <td>1</td>\n",
       "    </tr>\n",
       "  </tbody>\n",
       "</table>\n",
       "<p>418611 rows × 7 columns</p>\n",
       "</div>"
      ],
      "text/plain": [
       "              Data        Classe          Ramo              Submercado   UF  \\\n",
       "0       01/07/2018  Autoprodutor  ALIMENTÍCIOS                NORDESTE  PE    \n",
       "1       01/07/2018  Autoprodutor  ALIMENTÍCIOS  SUDESTE / CENTRO-OESTE   MG   \n",
       "2       01/07/2018  Autoprodutor  ALIMENTÍCIOS  SUDESTE / CENTRO-OESTE   MT   \n",
       "3       01/07/2018  Autoprodutor  ALIMENTÍCIOS                     SUL   SC   \n",
       "4       01/07/2018  Autoprodutor  ALIMENTÍCIOS                     SUL   RS   \n",
       "...            ...           ...           ...                     ...  ...   \n",
       "418606  19/06/2020  Distribuidor           ACR  SUDESTE / CENTRO-OESTE  DF    \n",
       "418607  19/06/2020  Distribuidor           ACR  SUDESTE / CENTRO-OESTE   AC   \n",
       "418608  19/06/2020  Distribuidor           ACR                     SUL   SC   \n",
       "418609  19/06/2020  Distribuidor           ACR                     SUL   RS   \n",
       "418610  19/06/2020  Distribuidor           ACR                     SUL   PR   \n",
       "\n",
       "        Consumo  Covid  \n",
       "0          0.01      0  \n",
       "1          0.00      0  \n",
       "2          0.68      0  \n",
       "3          1.88      0  \n",
       "4          0.04      0  \n",
       "...         ...    ...  \n",
       "418606   689.19      1  \n",
       "418607   121.34      1  \n",
       "418608  2012.83      1  \n",
       "418609  2310.67      1  \n",
       "418610  2443.64      1  \n",
       "\n",
       "[418611 rows x 7 columns]"
      ]
     },
     "execution_count": 47,
     "metadata": {},
     "output_type": "execute_result"
    }
   ],
   "source": [
    "!pip install plotly\n",
    "!pip install nbformat\n",
    "!pip install --upgrade nbformat\n",
    "import pandas as pd\n",
    "import numpy as np\n",
    "import plotly.express as px\n",
    "\n",
    "table = pd.read_csv('CCEE_BR_Data.csv', encoding='UTF-8')\n",
    "table"
   ]
  },
  {
   "cell_type": "code",
   "execution_count": 48,
   "metadata": {},
   "outputs": [
    {
     "name": "stdout",
     "output_type": "stream",
     "text": [
      "<class 'pandas.core.frame.DataFrame'>\n",
      "RangeIndex: 418611 entries, 0 to 418610\n",
      "Data columns (total 7 columns):\n",
      " #   Column      Non-Null Count   Dtype  \n",
      "---  ------      --------------   -----  \n",
      " 0   Data        418611 non-null  object \n",
      " 1   Classe      418611 non-null  object \n",
      " 2   Ramo        418611 non-null  object \n",
      " 3   Submercado  418611 non-null  object \n",
      " 4   UF          418611 non-null  object \n",
      " 5   Consumo     418611 non-null  float64\n",
      " 6   Covid       418611 non-null  int64  \n",
      "dtypes: float64(1), int64(1), object(5)\n",
      "memory usage: 22.4+ MB\n"
     ]
    }
   ],
   "source": [
    "table.info()"
   ]
  },
  {
   "cell_type": "code",
   "execution_count": 49,
   "metadata": {},
   "outputs": [
    {
     "data": {
      "text/html": [
       "<div>\n",
       "<style scoped>\n",
       "    .dataframe tbody tr th:only-of-type {\n",
       "        vertical-align: middle;\n",
       "    }\n",
       "\n",
       "    .dataframe tbody tr th {\n",
       "        vertical-align: top;\n",
       "    }\n",
       "\n",
       "    .dataframe thead th {\n",
       "        text-align: right;\n",
       "    }\n",
       "</style>\n",
       "<table border=\"1\" class=\"dataframe\">\n",
       "  <thead>\n",
       "    <tr style=\"text-align: right;\">\n",
       "      <th></th>\n",
       "      <th>Data</th>\n",
       "      <th>Classe</th>\n",
       "      <th>Ramo</th>\n",
       "      <th>Submercado</th>\n",
       "      <th>UF</th>\n",
       "      <th>MWm</th>\n",
       "    </tr>\n",
       "  </thead>\n",
       "  <tbody>\n",
       "    <tr>\n",
       "      <th>102670</th>\n",
       "      <td>2019</td>\n",
       "      <td>Autoprodutor</td>\n",
       "      <td>ALIMENTÍCIOS</td>\n",
       "      <td>NORDESTE</td>\n",
       "      <td>PE</td>\n",
       "      <td>0.01</td>\n",
       "    </tr>\n",
       "    <tr>\n",
       "      <th>102671</th>\n",
       "      <td>2019</td>\n",
       "      <td>Autoprodutor</td>\n",
       "      <td>ALIMENTÍCIOS</td>\n",
       "      <td>SUDESTE / CENTRO-OESTE</td>\n",
       "      <td>MG</td>\n",
       "      <td>0.24</td>\n",
       "    </tr>\n",
       "    <tr>\n",
       "      <th>102672</th>\n",
       "      <td>2019</td>\n",
       "      <td>Autoprodutor</td>\n",
       "      <td>ALIMENTÍCIOS</td>\n",
       "      <td>SUDESTE / CENTRO-OESTE</td>\n",
       "      <td>MT</td>\n",
       "      <td>0.19</td>\n",
       "    </tr>\n",
       "    <tr>\n",
       "      <th>102673</th>\n",
       "      <td>2019</td>\n",
       "      <td>Autoprodutor</td>\n",
       "      <td>ALIMENTÍCIOS</td>\n",
       "      <td>SUL</td>\n",
       "      <td>SC</td>\n",
       "      <td>0.15</td>\n",
       "    </tr>\n",
       "    <tr>\n",
       "      <th>102674</th>\n",
       "      <td>2019</td>\n",
       "      <td>Autoprodutor</td>\n",
       "      <td>ALIMENTÍCIOS</td>\n",
       "      <td>SUL</td>\n",
       "      <td>RS</td>\n",
       "      <td>0.11</td>\n",
       "    </tr>\n",
       "    <tr>\n",
       "      <th>...</th>\n",
       "      <td>...</td>\n",
       "      <td>...</td>\n",
       "      <td>...</td>\n",
       "      <td>...</td>\n",
       "      <td>...</td>\n",
       "      <td>...</td>\n",
       "    </tr>\n",
       "    <tr>\n",
       "      <th>312631</th>\n",
       "      <td>2019</td>\n",
       "      <td>Distribuidor</td>\n",
       "      <td>ACR</td>\n",
       "      <td>SUL</td>\n",
       "      <td>SC</td>\n",
       "      <td>2345.76</td>\n",
       "    </tr>\n",
       "    <tr>\n",
       "      <th>312632</th>\n",
       "      <td>2019</td>\n",
       "      <td>Distribuidor</td>\n",
       "      <td>ACR</td>\n",
       "      <td>SUL</td>\n",
       "      <td>RS</td>\n",
       "      <td>3569.17</td>\n",
       "    </tr>\n",
       "    <tr>\n",
       "      <th>312633</th>\n",
       "      <td>2019</td>\n",
       "      <td>Distribuidor</td>\n",
       "      <td>ACR</td>\n",
       "      <td>SUL</td>\n",
       "      <td>PR</td>\n",
       "      <td>2698.92</td>\n",
       "    </tr>\n",
       "    <tr>\n",
       "      <th>312634</th>\n",
       "      <td>2019</td>\n",
       "      <td>Exportador</td>\n",
       "      <td>SERVIÇOS</td>\n",
       "      <td>SUL</td>\n",
       "      <td>SC</td>\n",
       "      <td>0.00</td>\n",
       "    </tr>\n",
       "    <tr>\n",
       "      <th>312635</th>\n",
       "      <td>2019</td>\n",
       "      <td>Exportador</td>\n",
       "      <td>SERVIÇOS</td>\n",
       "      <td>SUL</td>\n",
       "      <td>RS</td>\n",
       "      <td>0.00</td>\n",
       "    </tr>\n",
       "  </tbody>\n",
       "</table>\n",
       "<p>209966 rows × 6 columns</p>\n",
       "</div>"
      ],
      "text/plain": [
       "        Data        Classe          Ramo              Submercado   UF      MWm\n",
       "102670  2019  Autoprodutor  ALIMENTÍCIOS                NORDESTE  PE      0.01\n",
       "102671  2019  Autoprodutor  ALIMENTÍCIOS  SUDESTE / CENTRO-OESTE   MG     0.24\n",
       "102672  2019  Autoprodutor  ALIMENTÍCIOS  SUDESTE / CENTRO-OESTE   MT     0.19\n",
       "102673  2019  Autoprodutor  ALIMENTÍCIOS                     SUL   SC     0.15\n",
       "102674  2019  Autoprodutor  ALIMENTÍCIOS                     SUL   RS     0.11\n",
       "...      ...           ...           ...                     ...  ...      ...\n",
       "312631  2019  Distribuidor           ACR                     SUL   SC  2345.76\n",
       "312632  2019  Distribuidor           ACR                     SUL   RS  3569.17\n",
       "312633  2019  Distribuidor           ACR                     SUL   PR  2698.92\n",
       "312634  2019    Exportador      SERVIÇOS                     SUL   SC     0.00\n",
       "312635  2019    Exportador      SERVIÇOS                     SUL   RS     0.00\n",
       "\n",
       "[209966 rows x 6 columns]"
      ]
     },
     "execution_count": 49,
     "metadata": {},
     "output_type": "execute_result"
    }
   ],
   "source": [
    "table.drop(columns='Covid', inplace=True)\n",
    "table.rename(columns={'Consumo':'MWm'}, inplace=True)\n",
    "table['Data'] = pd.to_datetime(table['Data'], format='%d/%m/%Y').dt.year\n",
    "table_2019 = table.loc[(table['Data'] == 2019)]\n",
    "table_2019"
   ]
  },
  {
   "cell_type": "code",
   "execution_count": 50,
   "metadata": {},
   "outputs": [
    {
     "data": {
      "text/html": [
       "<div>\n",
       "<style scoped>\n",
       "    .dataframe tbody tr th:only-of-type {\n",
       "        vertical-align: middle;\n",
       "    }\n",
       "\n",
       "    .dataframe tbody tr th {\n",
       "        vertical-align: top;\n",
       "    }\n",
       "\n",
       "    .dataframe thead th {\n",
       "        text-align: right;\n",
       "    }\n",
       "</style>\n",
       "<table border=\"1\" class=\"dataframe\">\n",
       "  <thead>\n",
       "    <tr style=\"text-align: right;\">\n",
       "      <th></th>\n",
       "      <th>Data</th>\n",
       "      <th>Ramo</th>\n",
       "      <th>Submercado</th>\n",
       "      <th>UF</th>\n",
       "      <th>MWm</th>\n",
       "    </tr>\n",
       "    <tr>\n",
       "      <th>Classe</th>\n",
       "      <th></th>\n",
       "      <th></th>\n",
       "      <th></th>\n",
       "      <th></th>\n",
       "      <th></th>\n",
       "    </tr>\n",
       "  </thead>\n",
       "  <tbody>\n",
       "    <tr>\n",
       "      <th>Distribuidor</th>\n",
       "      <td>{2019}</td>\n",
       "      <td>{ACR}</td>\n",
       "      <td>{NORTE, NORDESTE, SUL, SUDESTE / CENTRO-OESTE}</td>\n",
       "      <td>{RJ, RS, TO, DF , AP, PB, ES, PE , MS, SP, RN,...</td>\n",
       "      <td>1.581386e+07</td>\n",
       "    </tr>\n",
       "    <tr>\n",
       "      <th>Consumidor Livre</th>\n",
       "      <td>{2019}</td>\n",
       "      <td>{BEBIDAS, EXTRAÇÃO DE MINERAIS METÁLICOS, TELE...</td>\n",
       "      <td>{NORTE, NORDESTE, SUL, SUDESTE / CENTRO-OESTE}</td>\n",
       "      <td>{RJ, RS, TO, DF , PB, ES, PE , MS, SP, RN, GO,...</td>\n",
       "      <td>3.400625e+06</td>\n",
       "    </tr>\n",
       "    <tr>\n",
       "      <th>Consumidor Especial</th>\n",
       "      <td>{2019}</td>\n",
       "      <td>{BEBIDAS, EXTRAÇÃO DE MINERAIS METÁLICOS, TELE...</td>\n",
       "      <td>{NORTE, NORDESTE, SUL, SUDESTE / CENTRO-OESTE}</td>\n",
       "      <td>{RJ, RS, TO, DF , AP, PB, ES, PE , MS, SP, RN,...</td>\n",
       "      <td>7.304708e+05</td>\n",
       "    </tr>\n",
       "    <tr>\n",
       "      <th>Autoprodutor</th>\n",
       "      <td>{2019}</td>\n",
       "      <td>{EXTRAÇÃO DE MINERAIS METÁLICOS, MANUFATURADOS...</td>\n",
       "      <td>{NORTE, NORDESTE, SUL, SUDESTE / CENTRO-OESTE}</td>\n",
       "      <td>{RJ, RS, DF , PB, ES, PE , MS, SP, RN, GO, MT,...</td>\n",
       "      <td>6.625548e+05</td>\n",
       "    </tr>\n",
       "    <tr>\n",
       "      <th>Comercializador Varejista</th>\n",
       "      <td>{2019}</td>\n",
       "      <td>{VEÍCULOS, TELECOMUNICAÇÕES, MANUFATURADOS DIV...</td>\n",
       "      <td>{NORTE, NORDESTE, SUL, SUDESTE / CENTRO-OESTE}</td>\n",
       "      <td>{RJ, PR, GO, RS, BA , DF , PE , MG, CE, PA, ES...</td>\n",
       "      <td>3.478490e+03</td>\n",
       "    </tr>\n",
       "    <tr>\n",
       "      <th>Exportador</th>\n",
       "      <td>{2019}</td>\n",
       "      <td>{SERVIÇOS}</td>\n",
       "      <td>{SUL}</td>\n",
       "      <td>{RS, SC}</td>\n",
       "      <td>0.000000e+00</td>\n",
       "    </tr>\n",
       "  </tbody>\n",
       "</table>\n",
       "</div>"
      ],
      "text/plain": [
       "                             Data  \\\n",
       "Classe                              \n",
       "Distribuidor               {2019}   \n",
       "Consumidor Livre           {2019}   \n",
       "Consumidor Especial        {2019}   \n",
       "Autoprodutor               {2019}   \n",
       "Comercializador Varejista  {2019}   \n",
       "Exportador                 {2019}   \n",
       "\n",
       "                                                                        Ramo  \\\n",
       "Classe                                                                         \n",
       "Distribuidor                                                           {ACR}   \n",
       "Consumidor Livre           {BEBIDAS, EXTRAÇÃO DE MINERAIS METÁLICOS, TELE...   \n",
       "Consumidor Especial        {BEBIDAS, EXTRAÇÃO DE MINERAIS METÁLICOS, TELE...   \n",
       "Autoprodutor               {EXTRAÇÃO DE MINERAIS METÁLICOS, MANUFATURADOS...   \n",
       "Comercializador Varejista  {VEÍCULOS, TELECOMUNICAÇÕES, MANUFATURADOS DIV...   \n",
       "Exportador                                                        {SERVIÇOS}   \n",
       "\n",
       "                                                               Submercado  \\\n",
       "Classe                                                                      \n",
       "Distribuidor               {NORTE, NORDESTE, SUL, SUDESTE / CENTRO-OESTE}   \n",
       "Consumidor Livre           {NORTE, NORDESTE, SUL, SUDESTE / CENTRO-OESTE}   \n",
       "Consumidor Especial        {NORTE, NORDESTE, SUL, SUDESTE / CENTRO-OESTE}   \n",
       "Autoprodutor               {NORTE, NORDESTE, SUL, SUDESTE / CENTRO-OESTE}   \n",
       "Comercializador Varejista  {NORTE, NORDESTE, SUL, SUDESTE / CENTRO-OESTE}   \n",
       "Exportador                                                          {SUL}   \n",
       "\n",
       "                                                                          UF  \\\n",
       "Classe                                                                         \n",
       "Distribuidor               {RJ, RS, TO, DF , AP, PB, ES, PE , MS, SP, RN,...   \n",
       "Consumidor Livre           {RJ, RS, TO, DF , PB, ES, PE , MS, SP, RN, GO,...   \n",
       "Consumidor Especial        {RJ, RS, TO, DF , AP, PB, ES, PE , MS, SP, RN,...   \n",
       "Autoprodutor               {RJ, RS, DF , PB, ES, PE , MS, SP, RN, GO, MT,...   \n",
       "Comercializador Varejista  {RJ, PR, GO, RS, BA , DF , PE , MG, CE, PA, ES...   \n",
       "Exportador                                                          {RS, SC}   \n",
       "\n",
       "                                    MWm  \n",
       "Classe                                   \n",
       "Distribuidor               1.581386e+07  \n",
       "Consumidor Livre           3.400625e+06  \n",
       "Consumidor Especial        7.304708e+05  \n",
       "Autoprodutor               6.625548e+05  \n",
       "Comercializador Varejista  3.478490e+03  \n",
       "Exportador                 0.000000e+00  "
      ]
     },
     "execution_count": 50,
     "metadata": {},
     "output_type": "execute_result"
    }
   ],
   "source": [
    "agregado = table_2019.groupby(by='Classe').agg(set)\n",
    "agregado['MWm'] = [sum(x) for x in agregado['MWm']]\n",
    "agregado.sort_values(by='MWm', ascending=False, inplace=True)\n",
    "agregado"
   ]
  },
  {
   "cell_type": "code",
   "execution_count": 51,
   "metadata": {},
   "outputs": [
    {
     "data": {
      "application/vnd.plotly.v1+json": {
       "config": {
        "plotlyServerURL": "https://plot.ly"
       },
       "data": [
        {
         "alignmentgroup": "True",
         "hovertemplate": "Classe=%{x}<br>MWm=%{y}<extra></extra>",
         "legendgroup": "",
         "marker": {
          "color": "darkslateblue",
          "pattern": {
           "shape": ""
          }
         },
         "name": "",
         "offsetgroup": "",
         "orientation": "v",
         "showlegend": false,
         "textposition": "auto",
         "type": "bar",
         "x": [
          "Distribuidor",
          "Consumidor Livre",
          "Consumidor Especial",
          "Autoprodutor",
          "Comercializador Varejista",
          "Exportador"
         ],
         "xaxis": "x",
         "y": [
          15813856.510000043,
          3400624.8799994425,
          730470.7999999927,
          662554.8000000102,
          3478.490000000002,
          0
         ],
         "yaxis": "y"
        }
       ],
       "layout": {
        "barmode": "relative",
        "legend": {
         "tracegroupgap": 0
        },
        "template": {
         "data": {
          "bar": [
           {
            "error_x": {
             "color": "#2a3f5f"
            },
            "error_y": {
             "color": "#2a3f5f"
            },
            "marker": {
             "line": {
              "color": "#E5ECF6",
              "width": 0.5
             },
             "pattern": {
              "fillmode": "overlay",
              "size": 10,
              "solidity": 0.2
             }
            },
            "type": "bar"
           }
          ],
          "barpolar": [
           {
            "marker": {
             "line": {
              "color": "#E5ECF6",
              "width": 0.5
             },
             "pattern": {
              "fillmode": "overlay",
              "size": 10,
              "solidity": 0.2
             }
            },
            "type": "barpolar"
           }
          ],
          "carpet": [
           {
            "aaxis": {
             "endlinecolor": "#2a3f5f",
             "gridcolor": "white",
             "linecolor": "white",
             "minorgridcolor": "white",
             "startlinecolor": "#2a3f5f"
            },
            "baxis": {
             "endlinecolor": "#2a3f5f",
             "gridcolor": "white",
             "linecolor": "white",
             "minorgridcolor": "white",
             "startlinecolor": "#2a3f5f"
            },
            "type": "carpet"
           }
          ],
          "choropleth": [
           {
            "colorbar": {
             "outlinewidth": 0,
             "ticks": ""
            },
            "type": "choropleth"
           }
          ],
          "contour": [
           {
            "colorbar": {
             "outlinewidth": 0,
             "ticks": ""
            },
            "colorscale": [
             [
              0,
              "#0d0887"
             ],
             [
              0.1111111111111111,
              "#46039f"
             ],
             [
              0.2222222222222222,
              "#7201a8"
             ],
             [
              0.3333333333333333,
              "#9c179e"
             ],
             [
              0.4444444444444444,
              "#bd3786"
             ],
             [
              0.5555555555555556,
              "#d8576b"
             ],
             [
              0.6666666666666666,
              "#ed7953"
             ],
             [
              0.7777777777777778,
              "#fb9f3a"
             ],
             [
              0.8888888888888888,
              "#fdca26"
             ],
             [
              1,
              "#f0f921"
             ]
            ],
            "type": "contour"
           }
          ],
          "contourcarpet": [
           {
            "colorbar": {
             "outlinewidth": 0,
             "ticks": ""
            },
            "type": "contourcarpet"
           }
          ],
          "heatmap": [
           {
            "colorbar": {
             "outlinewidth": 0,
             "ticks": ""
            },
            "colorscale": [
             [
              0,
              "#0d0887"
             ],
             [
              0.1111111111111111,
              "#46039f"
             ],
             [
              0.2222222222222222,
              "#7201a8"
             ],
             [
              0.3333333333333333,
              "#9c179e"
             ],
             [
              0.4444444444444444,
              "#bd3786"
             ],
             [
              0.5555555555555556,
              "#d8576b"
             ],
             [
              0.6666666666666666,
              "#ed7953"
             ],
             [
              0.7777777777777778,
              "#fb9f3a"
             ],
             [
              0.8888888888888888,
              "#fdca26"
             ],
             [
              1,
              "#f0f921"
             ]
            ],
            "type": "heatmap"
           }
          ],
          "heatmapgl": [
           {
            "colorbar": {
             "outlinewidth": 0,
             "ticks": ""
            },
            "colorscale": [
             [
              0,
              "#0d0887"
             ],
             [
              0.1111111111111111,
              "#46039f"
             ],
             [
              0.2222222222222222,
              "#7201a8"
             ],
             [
              0.3333333333333333,
              "#9c179e"
             ],
             [
              0.4444444444444444,
              "#bd3786"
             ],
             [
              0.5555555555555556,
              "#d8576b"
             ],
             [
              0.6666666666666666,
              "#ed7953"
             ],
             [
              0.7777777777777778,
              "#fb9f3a"
             ],
             [
              0.8888888888888888,
              "#fdca26"
             ],
             [
              1,
              "#f0f921"
             ]
            ],
            "type": "heatmapgl"
           }
          ],
          "histogram": [
           {
            "marker": {
             "pattern": {
              "fillmode": "overlay",
              "size": 10,
              "solidity": 0.2
             }
            },
            "type": "histogram"
           }
          ],
          "histogram2d": [
           {
            "colorbar": {
             "outlinewidth": 0,
             "ticks": ""
            },
            "colorscale": [
             [
              0,
              "#0d0887"
             ],
             [
              0.1111111111111111,
              "#46039f"
             ],
             [
              0.2222222222222222,
              "#7201a8"
             ],
             [
              0.3333333333333333,
              "#9c179e"
             ],
             [
              0.4444444444444444,
              "#bd3786"
             ],
             [
              0.5555555555555556,
              "#d8576b"
             ],
             [
              0.6666666666666666,
              "#ed7953"
             ],
             [
              0.7777777777777778,
              "#fb9f3a"
             ],
             [
              0.8888888888888888,
              "#fdca26"
             ],
             [
              1,
              "#f0f921"
             ]
            ],
            "type": "histogram2d"
           }
          ],
          "histogram2dcontour": [
           {
            "colorbar": {
             "outlinewidth": 0,
             "ticks": ""
            },
            "colorscale": [
             [
              0,
              "#0d0887"
             ],
             [
              0.1111111111111111,
              "#46039f"
             ],
             [
              0.2222222222222222,
              "#7201a8"
             ],
             [
              0.3333333333333333,
              "#9c179e"
             ],
             [
              0.4444444444444444,
              "#bd3786"
             ],
             [
              0.5555555555555556,
              "#d8576b"
             ],
             [
              0.6666666666666666,
              "#ed7953"
             ],
             [
              0.7777777777777778,
              "#fb9f3a"
             ],
             [
              0.8888888888888888,
              "#fdca26"
             ],
             [
              1,
              "#f0f921"
             ]
            ],
            "type": "histogram2dcontour"
           }
          ],
          "mesh3d": [
           {
            "colorbar": {
             "outlinewidth": 0,
             "ticks": ""
            },
            "type": "mesh3d"
           }
          ],
          "parcoords": [
           {
            "line": {
             "colorbar": {
              "outlinewidth": 0,
              "ticks": ""
             }
            },
            "type": "parcoords"
           }
          ],
          "pie": [
           {
            "automargin": true,
            "type": "pie"
           }
          ],
          "scatter": [
           {
            "fillpattern": {
             "fillmode": "overlay",
             "size": 10,
             "solidity": 0.2
            },
            "type": "scatter"
           }
          ],
          "scatter3d": [
           {
            "line": {
             "colorbar": {
              "outlinewidth": 0,
              "ticks": ""
             }
            },
            "marker": {
             "colorbar": {
              "outlinewidth": 0,
              "ticks": ""
             }
            },
            "type": "scatter3d"
           }
          ],
          "scattercarpet": [
           {
            "marker": {
             "colorbar": {
              "outlinewidth": 0,
              "ticks": ""
             }
            },
            "type": "scattercarpet"
           }
          ],
          "scattergeo": [
           {
            "marker": {
             "colorbar": {
              "outlinewidth": 0,
              "ticks": ""
             }
            },
            "type": "scattergeo"
           }
          ],
          "scattergl": [
           {
            "marker": {
             "colorbar": {
              "outlinewidth": 0,
              "ticks": ""
             }
            },
            "type": "scattergl"
           }
          ],
          "scattermapbox": [
           {
            "marker": {
             "colorbar": {
              "outlinewidth": 0,
              "ticks": ""
             }
            },
            "type": "scattermapbox"
           }
          ],
          "scatterpolar": [
           {
            "marker": {
             "colorbar": {
              "outlinewidth": 0,
              "ticks": ""
             }
            },
            "type": "scatterpolar"
           }
          ],
          "scatterpolargl": [
           {
            "marker": {
             "colorbar": {
              "outlinewidth": 0,
              "ticks": ""
             }
            },
            "type": "scatterpolargl"
           }
          ],
          "scatterternary": [
           {
            "marker": {
             "colorbar": {
              "outlinewidth": 0,
              "ticks": ""
             }
            },
            "type": "scatterternary"
           }
          ],
          "surface": [
           {
            "colorbar": {
             "outlinewidth": 0,
             "ticks": ""
            },
            "colorscale": [
             [
              0,
              "#0d0887"
             ],
             [
              0.1111111111111111,
              "#46039f"
             ],
             [
              0.2222222222222222,
              "#7201a8"
             ],
             [
              0.3333333333333333,
              "#9c179e"
             ],
             [
              0.4444444444444444,
              "#bd3786"
             ],
             [
              0.5555555555555556,
              "#d8576b"
             ],
             [
              0.6666666666666666,
              "#ed7953"
             ],
             [
              0.7777777777777778,
              "#fb9f3a"
             ],
             [
              0.8888888888888888,
              "#fdca26"
             ],
             [
              1,
              "#f0f921"
             ]
            ],
            "type": "surface"
           }
          ],
          "table": [
           {
            "cells": {
             "fill": {
              "color": "#EBF0F8"
             },
             "line": {
              "color": "white"
             }
            },
            "header": {
             "fill": {
              "color": "#C8D4E3"
             },
             "line": {
              "color": "white"
             }
            },
            "type": "table"
           }
          ]
         },
         "layout": {
          "annotationdefaults": {
           "arrowcolor": "#2a3f5f",
           "arrowhead": 0,
           "arrowwidth": 1
          },
          "autotypenumbers": "strict",
          "coloraxis": {
           "colorbar": {
            "outlinewidth": 0,
            "ticks": ""
           }
          },
          "colorscale": {
           "diverging": [
            [
             0,
             "#8e0152"
            ],
            [
             0.1,
             "#c51b7d"
            ],
            [
             0.2,
             "#de77ae"
            ],
            [
             0.3,
             "#f1b6da"
            ],
            [
             0.4,
             "#fde0ef"
            ],
            [
             0.5,
             "#f7f7f7"
            ],
            [
             0.6,
             "#e6f5d0"
            ],
            [
             0.7,
             "#b8e186"
            ],
            [
             0.8,
             "#7fbc41"
            ],
            [
             0.9,
             "#4d9221"
            ],
            [
             1,
             "#276419"
            ]
           ],
           "sequential": [
            [
             0,
             "#0d0887"
            ],
            [
             0.1111111111111111,
             "#46039f"
            ],
            [
             0.2222222222222222,
             "#7201a8"
            ],
            [
             0.3333333333333333,
             "#9c179e"
            ],
            [
             0.4444444444444444,
             "#bd3786"
            ],
            [
             0.5555555555555556,
             "#d8576b"
            ],
            [
             0.6666666666666666,
             "#ed7953"
            ],
            [
             0.7777777777777778,
             "#fb9f3a"
            ],
            [
             0.8888888888888888,
             "#fdca26"
            ],
            [
             1,
             "#f0f921"
            ]
           ],
           "sequentialminus": [
            [
             0,
             "#0d0887"
            ],
            [
             0.1111111111111111,
             "#46039f"
            ],
            [
             0.2222222222222222,
             "#7201a8"
            ],
            [
             0.3333333333333333,
             "#9c179e"
            ],
            [
             0.4444444444444444,
             "#bd3786"
            ],
            [
             0.5555555555555556,
             "#d8576b"
            ],
            [
             0.6666666666666666,
             "#ed7953"
            ],
            [
             0.7777777777777778,
             "#fb9f3a"
            ],
            [
             0.8888888888888888,
             "#fdca26"
            ],
            [
             1,
             "#f0f921"
            ]
           ]
          },
          "colorway": [
           "#636efa",
           "#EF553B",
           "#00cc96",
           "#ab63fa",
           "#FFA15A",
           "#19d3f3",
           "#FF6692",
           "#B6E880",
           "#FF97FF",
           "#FECB52"
          ],
          "font": {
           "color": "#2a3f5f"
          },
          "geo": {
           "bgcolor": "white",
           "lakecolor": "white",
           "landcolor": "#E5ECF6",
           "showlakes": true,
           "showland": true,
           "subunitcolor": "white"
          },
          "hoverlabel": {
           "align": "left"
          },
          "hovermode": "closest",
          "mapbox": {
           "style": "light"
          },
          "paper_bgcolor": "white",
          "plot_bgcolor": "#E5ECF6",
          "polar": {
           "angularaxis": {
            "gridcolor": "white",
            "linecolor": "white",
            "ticks": ""
           },
           "bgcolor": "#E5ECF6",
           "radialaxis": {
            "gridcolor": "white",
            "linecolor": "white",
            "ticks": ""
           }
          },
          "scene": {
           "xaxis": {
            "backgroundcolor": "#E5ECF6",
            "gridcolor": "white",
            "gridwidth": 2,
            "linecolor": "white",
            "showbackground": true,
            "ticks": "",
            "zerolinecolor": "white"
           },
           "yaxis": {
            "backgroundcolor": "#E5ECF6",
            "gridcolor": "white",
            "gridwidth": 2,
            "linecolor": "white",
            "showbackground": true,
            "ticks": "",
            "zerolinecolor": "white"
           },
           "zaxis": {
            "backgroundcolor": "#E5ECF6",
            "gridcolor": "white",
            "gridwidth": 2,
            "linecolor": "white",
            "showbackground": true,
            "ticks": "",
            "zerolinecolor": "white"
           }
          },
          "shapedefaults": {
           "line": {
            "color": "#2a3f5f"
           }
          },
          "ternary": {
           "aaxis": {
            "gridcolor": "white",
            "linecolor": "white",
            "ticks": ""
           },
           "baxis": {
            "gridcolor": "white",
            "linecolor": "white",
            "ticks": ""
           },
           "bgcolor": "#E5ECF6",
           "caxis": {
            "gridcolor": "white",
            "linecolor": "white",
            "ticks": ""
           }
          },
          "title": {
           "x": 0.05
          },
          "xaxis": {
           "automargin": true,
           "gridcolor": "white",
           "linecolor": "white",
           "ticks": "",
           "title": {
            "standoff": 15
           },
           "zerolinecolor": "white",
           "zerolinewidth": 2
          },
          "yaxis": {
           "automargin": true,
           "gridcolor": "white",
           "linecolor": "white",
           "ticks": "",
           "title": {
            "standoff": 15
           },
           "zerolinecolor": "white",
           "zerolinewidth": 2
          }
         }
        },
        "title": {
         "text": "Consumo por classe em 2019"
        },
        "xaxis": {
         "anchor": "y",
         "domain": [
          0,
          1
         ],
         "title": {
          "text": "Classe"
         }
        },
        "yaxis": {
         "anchor": "x",
         "domain": [
          0,
          1
         ],
         "title": {
          "text": "MWm"
         }
        }
       }
      }
     },
     "metadata": {},
     "output_type": "display_data"
    }
   ],
   "source": [
    "fig = px.bar(agregado, x=agregado.index, y='MWm', color_discrete_sequence=['darkslateblue'], title='Consumo por classe em 2019')\n",
    "fig.show()"
   ]
  }
 ],
 "metadata": {
  "kernelspec": {
   "display_name": "machine",
   "language": "python",
   "name": "python3"
  },
  "language_info": {
   "codemirror_mode": {
    "name": "ipython",
    "version": 3
   },
   "file_extension": ".py",
   "mimetype": "text/x-python",
   "name": "python",
   "nbconvert_exporter": "python",
   "pygments_lexer": "ipython3",
   "version": "3.8.13"
  },
  "orig_nbformat": 4,
  "vscode": {
   "interpreter": {
    "hash": "71e99eaa9588dcde814aa4afc2923da47508b8ab5ec09fb578b6afec38637596"
   }
  }
 },
 "nbformat": 4,
 "nbformat_minor": 2
}
